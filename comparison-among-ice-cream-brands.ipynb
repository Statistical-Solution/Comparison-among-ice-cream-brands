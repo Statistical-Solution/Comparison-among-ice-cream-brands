{
 "cells": [
  {
   "cell_type": "markdown",
   "id": "5cc3187c",
   "metadata": {
    "id": "cfVLFtULRI0C",
    "papermill": {
     "duration": 0.016641,
     "end_time": "2024-01-28T06:53:24.647335",
     "exception": false,
     "start_time": "2024-01-28T06:53:24.630694",
     "status": "completed"
    },
    "tags": []
   },
   "source": [
    " <div style=\"border:1px solid #000; border-radius:1px; background:#fff;\">\n",
    "    <div style=\"padding:10px 10px 10px 0px; margin:3px; border-radius:1px; background:#178383; text-align:center;\">\n",
    "        <span style=\"font-family:sans-serif; font-size:40px; color:#fff;\">Comparing Ice cream brands</span>\n",
    "    </div>\n",
    "</div>"
   ]
  },
  {
   "cell_type": "markdown",
   "id": "d6e78e20",
   "metadata": {
    "papermill": {
     "duration": 0.015991,
     "end_time": "2024-01-28T06:53:24.680554",
     "exception": false,
     "start_time": "2024-01-28T06:53:24.664563",
     "status": "completed"
    },
    "tags": []
   },
   "source": [
    "# Loading Libraries and dataset"
   ]
  },
  {
   "cell_type": "code",
   "execution_count": 1,
   "id": "80b1ec56",
   "metadata": {
    "execution": {
     "iopub.execute_input": "2024-01-28T06:53:24.715351Z",
     "iopub.status.busy": "2024-01-28T06:53:24.714903Z",
     "iopub.status.idle": "2024-01-28T06:53:30.131729Z",
     "shell.execute_reply": "2024-01-28T06:53:30.130344Z"
    },
    "id": "h_lVnj8CKiqY",
    "papermill": {
     "duration": 5.438049,
     "end_time": "2024-01-28T06:53:30.134899",
     "exception": false,
     "start_time": "2024-01-28T06:53:24.696850",
     "status": "completed"
    },
    "tags": []
   },
   "outputs": [],
   "source": [
    "\n",
    "import pandas as pd\n",
    "import numpy as np\n",
    "import seaborn as sns\n",
    "import matplotlib.pyplot as plt\n",
    "import plotly.express as px\n",
    "import statsmodels.api as sm\n",
    "from statsmodels.formula.api import ols\n",
    "from wordcloud import WordCloud"
   ]
  },
  {
   "cell_type": "code",
   "execution_count": 2,
   "id": "8ed709fc",
   "metadata": {
    "execution": {
     "iopub.execute_input": "2024-01-28T06:53:30.176987Z",
     "iopub.status.busy": "2024-01-28T06:53:30.174665Z",
     "iopub.status.idle": "2024-01-28T06:53:30.339852Z",
     "shell.execute_reply": "2024-01-28T06:53:30.338307Z"
    },
    "id": "YCbdDgMkL4jY",
    "papermill": {
     "duration": 0.190086,
     "end_time": "2024-01-28T06:53:30.342913",
     "exception": false,
     "start_time": "2024-01-28T06:53:30.152827",
     "status": "completed"
    },
    "tags": []
   },
   "outputs": [],
   "source": [
    "#  read csv file\n",
    "\n",
    "df = pd.read_csv('/kaggle/input/ice-cream-dataset/combined/products.csv')\n"
   ]
  },
  {
   "cell_type": "markdown",
   "id": "a7248a46",
   "metadata": {
    "id": "GpZgoDqAR-1c",
    "papermill": {
     "duration": 0.016765,
     "end_time": "2024-01-28T06:53:30.377049",
     "exception": false,
     "start_time": "2024-01-28T06:53:30.360284",
     "status": "completed"
    },
    "tags": []
   },
   "source": [
    "We selected a dataset featuring ice cream brands, flavors including flavor names, average ratings,ingredients and the number of ratings. This choice ensures a focused analysis on a specific market player. The brand and flavor name column allows us to understand customer preferences, while the rating column provides a quantitative measure of satisfaction. The rating count column adds statistical significance, distinguishing flavors with high ratings based on a substantial number of reviews. This dataset will be instrumental in uncovering insights to refine the ice cream shop's menu for optimal customer satisfaction"
   ]
  },
  {
   "cell_type": "code",
   "execution_count": 3,
   "id": "eb75ce52",
   "metadata": {
    "execution": {
     "iopub.execute_input": "2024-01-28T06:53:30.412344Z",
     "iopub.status.busy": "2024-01-28T06:53:30.411918Z",
     "iopub.status.idle": "2024-01-28T06:53:30.442819Z",
     "shell.execute_reply": "2024-01-28T06:53:30.441348Z"
    },
    "id": "kzf_ACndL9hp",
    "outputId": "2df2bc6d-d01d-4bfa-99a9-acb1b449f79e",
    "papermill": {
     "duration": 0.051598,
     "end_time": "2024-01-28T06:53:30.445611",
     "exception": false,
     "start_time": "2024-01-28T06:53:30.394013",
     "status": "completed"
    },
    "tags": []
   },
   "outputs": [
    {
     "data": {
      "text/html": [
       "<div>\n",
       "<style scoped>\n",
       "    .dataframe tbody tr th:only-of-type {\n",
       "        vertical-align: middle;\n",
       "    }\n",
       "\n",
       "    .dataframe tbody tr th {\n",
       "        vertical-align: top;\n",
       "    }\n",
       "\n",
       "    .dataframe thead th {\n",
       "        text-align: right;\n",
       "    }\n",
       "</style>\n",
       "<table border=\"1\" class=\"dataframe\">\n",
       "  <thead>\n",
       "    <tr style=\"text-align: right;\">\n",
       "      <th></th>\n",
       "      <th>brand</th>\n",
       "      <th>key</th>\n",
       "      <th>name</th>\n",
       "      <th>subhead</th>\n",
       "      <th>description</th>\n",
       "      <th>rating</th>\n",
       "      <th>rating_count</th>\n",
       "      <th>ingredients</th>\n",
       "    </tr>\n",
       "  </thead>\n",
       "  <tbody>\n",
       "    <tr>\n",
       "      <th>0</th>\n",
       "      <td>bj</td>\n",
       "      <td>0_bj</td>\n",
       "      <td>Salted Caramel Core</td>\n",
       "      <td>Sweet Cream Ice Cream with Blonde Brownies &amp; a...</td>\n",
       "      <td>Find your way to the ultimate ice cream experi...</td>\n",
       "      <td>3.7</td>\n",
       "      <td>208</td>\n",
       "      <td>CREAM, SKIM MILK, LIQUID SUGAR (SUGAR, WATER),...</td>\n",
       "    </tr>\n",
       "    <tr>\n",
       "      <th>1</th>\n",
       "      <td>bj</td>\n",
       "      <td>1_bj</td>\n",
       "      <td>Netflix &amp; Chilll'd™</td>\n",
       "      <td>Peanut Butter Ice Cream with Sweet &amp; Salty Pre...</td>\n",
       "      <td>There’s something for everyone to watch on Net...</td>\n",
       "      <td>4.0</td>\n",
       "      <td>127</td>\n",
       "      <td>CREAM, SKIM MILK, LIQUID SUGAR (SUGAR, WATER),...</td>\n",
       "    </tr>\n",
       "    <tr>\n",
       "      <th>2</th>\n",
       "      <td>bj</td>\n",
       "      <td>2_bj</td>\n",
       "      <td>Chip Happens</td>\n",
       "      <td>A Cold Mess of Chocolate Ice Cream with Fudge ...</td>\n",
       "      <td>Sometimes “chip” happens and everything’s a me...</td>\n",
       "      <td>4.7</td>\n",
       "      <td>130</td>\n",
       "      <td>CREAM, LIQUID SUGAR (SUGAR, WATER), SKIM MILK,...</td>\n",
       "    </tr>\n",
       "    <tr>\n",
       "      <th>3</th>\n",
       "      <td>bj</td>\n",
       "      <td>3_bj</td>\n",
       "      <td>Cannoli</td>\n",
       "      <td>Mascarpone Ice Cream with Fudge-Covered Pastry...</td>\n",
       "      <td>As a Limited Batch that captured the rapture o...</td>\n",
       "      <td>3.6</td>\n",
       "      <td>70</td>\n",
       "      <td>CREAM, SKIM MILK, LIQUID SUGAR (SUGAR, WATER),...</td>\n",
       "    </tr>\n",
       "    <tr>\n",
       "      <th>4</th>\n",
       "      <td>bj</td>\n",
       "      <td>4_bj</td>\n",
       "      <td>Gimme S’more!™</td>\n",
       "      <td>Toasted Marshmallow Ice Cream with Chocolate C...</td>\n",
       "      <td>It’s a gimme: there’s always room for s’more. ...</td>\n",
       "      <td>4.5</td>\n",
       "      <td>281</td>\n",
       "      <td>CREAM, SKIM MILK, WATER, LIQUID SUGAR (SUGAR, ...</td>\n",
       "    </tr>\n",
       "  </tbody>\n",
       "</table>\n",
       "</div>"
      ],
      "text/plain": [
       "  brand   key                 name  \\\n",
       "0    bj  0_bj  Salted Caramel Core   \n",
       "1    bj  1_bj  Netflix & Chilll'd™   \n",
       "2    bj  2_bj         Chip Happens   \n",
       "3    bj  3_bj              Cannoli   \n",
       "4    bj  4_bj       Gimme S’more!™   \n",
       "\n",
       "                                             subhead  \\\n",
       "0  Sweet Cream Ice Cream with Blonde Brownies & a...   \n",
       "1  Peanut Butter Ice Cream with Sweet & Salty Pre...   \n",
       "2  A Cold Mess of Chocolate Ice Cream with Fudge ...   \n",
       "3  Mascarpone Ice Cream with Fudge-Covered Pastry...   \n",
       "4  Toasted Marshmallow Ice Cream with Chocolate C...   \n",
       "\n",
       "                                         description  rating  rating_count  \\\n",
       "0  Find your way to the ultimate ice cream experi...     3.7           208   \n",
       "1  There’s something for everyone to watch on Net...     4.0           127   \n",
       "2  Sometimes “chip” happens and everything’s a me...     4.7           130   \n",
       "3  As a Limited Batch that captured the rapture o...     3.6            70   \n",
       "4  It’s a gimme: there’s always room for s’more. ...     4.5           281   \n",
       "\n",
       "                                         ingredients  \n",
       "0  CREAM, SKIM MILK, LIQUID SUGAR (SUGAR, WATER),...  \n",
       "1  CREAM, SKIM MILK, LIQUID SUGAR (SUGAR, WATER),...  \n",
       "2  CREAM, LIQUID SUGAR (SUGAR, WATER), SKIM MILK,...  \n",
       "3  CREAM, SKIM MILK, LIQUID SUGAR (SUGAR, WATER),...  \n",
       "4  CREAM, SKIM MILK, WATER, LIQUID SUGAR (SUGAR, ...  "
      ]
     },
     "execution_count": 3,
     "metadata": {},
     "output_type": "execute_result"
    }
   ],
   "source": [
    "# read head\n",
    "\n",
    "df.head()\n"
   ]
  },
  {
   "cell_type": "markdown",
   "id": "065ac92a",
   "metadata": {
    "id": "_OL82-YPRQvi",
    "papermill": {
     "duration": 0.01939,
     "end_time": "2024-01-28T06:53:30.484493",
     "exception": false,
     "start_time": "2024-01-28T06:53:30.465103",
     "status": "completed"
    },
    "tags": []
   },
   "source": [
    "We can see that we have a data set about  Brand, Name, decription, rating, rating counts, ingredients of Ice creams. We only keep required variables for our analysis."
   ]
  },
  {
   "cell_type": "markdown",
   "id": "11012c70",
   "metadata": {
    "id": "y9Bh_ZjjjkHE",
    "papermill": {
     "duration": 0.017792,
     "end_time": "2024-01-28T06:53:30.520387",
     "exception": false,
     "start_time": "2024-01-28T06:53:30.502595",
     "status": "completed"
    },
    "tags": []
   },
   "source": [
    "## Data Preparation"
   ]
  },
  {
   "cell_type": "code",
   "execution_count": 4,
   "id": "c73def27",
   "metadata": {
    "execution": {
     "iopub.execute_input": "2024-01-28T06:53:30.562681Z",
     "iopub.status.busy": "2024-01-28T06:53:30.561842Z",
     "iopub.status.idle": "2024-01-28T06:53:30.575332Z",
     "shell.execute_reply": "2024-01-28T06:53:30.574320Z"
    },
    "id": "IdNTArygMC-z",
    "papermill": {
     "duration": 0.039352,
     "end_time": "2024-01-28T06:53:30.578520",
     "exception": false,
     "start_time": "2024-01-28T06:53:30.539168",
     "status": "completed"
    },
    "tags": []
   },
   "outputs": [],
   "source": [
    "# drop key, subhead, deescription\n",
    "\n",
    "df.drop(['key', 'subhead', 'description'], axis=1, inplace=True)\n"
   ]
  },
  {
   "cell_type": "code",
   "execution_count": 5,
   "id": "6b03ad66",
   "metadata": {
    "execution": {
     "iopub.execute_input": "2024-01-28T06:53:30.623933Z",
     "iopub.status.busy": "2024-01-28T06:53:30.623083Z",
     "iopub.status.idle": "2024-01-28T06:53:30.636381Z",
     "shell.execute_reply": "2024-01-28T06:53:30.635445Z"
    },
    "id": "dCp1Ze8tMI-K",
    "outputId": "34bdf01e-ce66-4360-a631-ceb625d66549",
    "papermill": {
     "duration": 0.037076,
     "end_time": "2024-01-28T06:53:30.638598",
     "exception": false,
     "start_time": "2024-01-28T06:53:30.601522",
     "status": "completed"
    },
    "tags": []
   },
   "outputs": [
    {
     "data": {
      "text/html": [
       "<div>\n",
       "<style scoped>\n",
       "    .dataframe tbody tr th:only-of-type {\n",
       "        vertical-align: middle;\n",
       "    }\n",
       "\n",
       "    .dataframe tbody tr th {\n",
       "        vertical-align: top;\n",
       "    }\n",
       "\n",
       "    .dataframe thead th {\n",
       "        text-align: right;\n",
       "    }\n",
       "</style>\n",
       "<table border=\"1\" class=\"dataframe\">\n",
       "  <thead>\n",
       "    <tr style=\"text-align: right;\">\n",
       "      <th></th>\n",
       "      <th>brand</th>\n",
       "      <th>name</th>\n",
       "      <th>rating</th>\n",
       "      <th>rating_count</th>\n",
       "      <th>ingredients</th>\n",
       "    </tr>\n",
       "  </thead>\n",
       "  <tbody>\n",
       "    <tr>\n",
       "      <th>0</th>\n",
       "      <td>bj</td>\n",
       "      <td>Salted Caramel Core</td>\n",
       "      <td>3.7</td>\n",
       "      <td>208</td>\n",
       "      <td>CREAM, SKIM MILK, LIQUID SUGAR (SUGAR, WATER),...</td>\n",
       "    </tr>\n",
       "    <tr>\n",
       "      <th>1</th>\n",
       "      <td>bj</td>\n",
       "      <td>Netflix &amp; Chilll'd™</td>\n",
       "      <td>4.0</td>\n",
       "      <td>127</td>\n",
       "      <td>CREAM, SKIM MILK, LIQUID SUGAR (SUGAR, WATER),...</td>\n",
       "    </tr>\n",
       "    <tr>\n",
       "      <th>2</th>\n",
       "      <td>bj</td>\n",
       "      <td>Chip Happens</td>\n",
       "      <td>4.7</td>\n",
       "      <td>130</td>\n",
       "      <td>CREAM, LIQUID SUGAR (SUGAR, WATER), SKIM MILK,...</td>\n",
       "    </tr>\n",
       "    <tr>\n",
       "      <th>3</th>\n",
       "      <td>bj</td>\n",
       "      <td>Cannoli</td>\n",
       "      <td>3.6</td>\n",
       "      <td>70</td>\n",
       "      <td>CREAM, SKIM MILK, LIQUID SUGAR (SUGAR, WATER),...</td>\n",
       "    </tr>\n",
       "    <tr>\n",
       "      <th>4</th>\n",
       "      <td>bj</td>\n",
       "      <td>Gimme S’more!™</td>\n",
       "      <td>4.5</td>\n",
       "      <td>281</td>\n",
       "      <td>CREAM, SKIM MILK, WATER, LIQUID SUGAR (SUGAR, ...</td>\n",
       "    </tr>\n",
       "  </tbody>\n",
       "</table>\n",
       "</div>"
      ],
      "text/plain": [
       "  brand                 name  rating  rating_count  \\\n",
       "0    bj  Salted Caramel Core     3.7           208   \n",
       "1    bj  Netflix & Chilll'd™     4.0           127   \n",
       "2    bj         Chip Happens     4.7           130   \n",
       "3    bj              Cannoli     3.6            70   \n",
       "4    bj       Gimme S’more!™     4.5           281   \n",
       "\n",
       "                                         ingredients  \n",
       "0  CREAM, SKIM MILK, LIQUID SUGAR (SUGAR, WATER),...  \n",
       "1  CREAM, SKIM MILK, LIQUID SUGAR (SUGAR, WATER),...  \n",
       "2  CREAM, LIQUID SUGAR (SUGAR, WATER), SKIM MILK,...  \n",
       "3  CREAM, SKIM MILK, LIQUID SUGAR (SUGAR, WATER),...  \n",
       "4  CREAM, SKIM MILK, WATER, LIQUID SUGAR (SUGAR, ...  "
      ]
     },
     "execution_count": 5,
     "metadata": {},
     "output_type": "execute_result"
    }
   ],
   "source": [
    "df.head()"
   ]
  },
  {
   "cell_type": "markdown",
   "id": "ecd77b3c",
   "metadata": {
    "id": "ytLPEshuRofj",
    "papermill": {
     "duration": 0.018399,
     "end_time": "2024-01-28T06:53:30.674771",
     "exception": false,
     "start_time": "2024-01-28T06:53:30.656372",
     "status": "completed"
    },
    "tags": []
   },
   "source": [
    "Now we  have 5 columns.\n",
    "* Brand\n",
    "* Name\n",
    "* Rating\n",
    "* Rating Counts\n",
    "* Ingredients"
   ]
  },
  {
   "cell_type": "code",
   "execution_count": 6,
   "id": "50c734e5",
   "metadata": {
    "execution": {
     "iopub.execute_input": "2024-01-28T06:53:30.777646Z",
     "iopub.status.busy": "2024-01-28T06:53:30.776607Z",
     "iopub.status.idle": "2024-01-28T06:53:30.804383Z",
     "shell.execute_reply": "2024-01-28T06:53:30.803415Z"
    },
    "id": "6ExKqO-3MMAP",
    "outputId": "54d6f3a4-f6cb-4d7d-c961-6adb85754287",
    "papermill": {
     "duration": 0.049257,
     "end_time": "2024-01-28T06:53:30.807364",
     "exception": false,
     "start_time": "2024-01-28T06:53:30.758107",
     "status": "completed"
    },
    "tags": []
   },
   "outputs": [
    {
     "name": "stdout",
     "output_type": "stream",
     "text": [
      "<class 'pandas.core.frame.DataFrame'>\n",
      "RangeIndex: 241 entries, 0 to 240\n",
      "Data columns (total 5 columns):\n",
      " #   Column        Non-Null Count  Dtype  \n",
      "---  ------        --------------  -----  \n",
      " 0   brand         241 non-null    object \n",
      " 1   name          241 non-null    object \n",
      " 2   rating        241 non-null    float64\n",
      " 3   rating_count  241 non-null    int64  \n",
      " 4   ingredients   241 non-null    object \n",
      "dtypes: float64(1), int64(1), object(3)\n",
      "memory usage: 9.5+ KB\n"
     ]
    }
   ],
   "source": [
    "df.info()"
   ]
  },
  {
   "cell_type": "markdown",
   "id": "50e86fa9",
   "metadata": {
    "id": "ueiNdndISIZ8",
    "papermill": {
     "duration": 0.017779,
     "end_time": "2024-01-28T06:53:30.843480",
     "exception": false,
     "start_time": "2024-01-28T06:53:30.825701",
     "status": "completed"
    },
    "tags": []
   },
   "source": [
    "We have 5 variables and 241 observation."
   ]
  },
  {
   "cell_type": "code",
   "execution_count": 7,
   "id": "535ba648",
   "metadata": {
    "execution": {
     "iopub.execute_input": "2024-01-28T06:53:30.882803Z",
     "iopub.status.busy": "2024-01-28T06:53:30.882165Z",
     "iopub.status.idle": "2024-01-28T06:53:30.890617Z",
     "shell.execute_reply": "2024-01-28T06:53:30.889735Z"
    },
    "id": "7sI1Bt0lSJr7",
    "outputId": "c33c0cde-5a97-4c27-a52c-4bd0a1eb5324",
    "papermill": {
     "duration": 0.030258,
     "end_time": "2024-01-28T06:53:30.892834",
     "exception": false,
     "start_time": "2024-01-28T06:53:30.862576",
     "status": "completed"
    },
    "tags": []
   },
   "outputs": [
    {
     "data": {
      "text/plain": [
       "brand           0\n",
       "name            0\n",
       "rating          0\n",
       "rating_count    0\n",
       "ingredients     0\n",
       "dtype: int64"
      ]
     },
     "execution_count": 7,
     "metadata": {},
     "output_type": "execute_result"
    }
   ],
   "source": [
    "#missing values\n",
    "\n",
    "df.isnull().sum()\n"
   ]
  },
  {
   "cell_type": "markdown",
   "id": "e1e29eac",
   "metadata": {
    "id": "fsAYeOfKSPfy",
    "papermill": {
     "duration": 0.020059,
     "end_time": "2024-01-28T06:53:30.931303",
     "exception": false,
     "start_time": "2024-01-28T06:53:30.911244",
     "status": "completed"
    },
    "tags": []
   },
   "source": [
    "As there is no mising values we do not need to worry about this."
   ]
  },
  {
   "cell_type": "markdown",
   "id": "44d17b30",
   "metadata": {
    "id": "oJFaH6OWjsHQ",
    "papermill": {
     "duration": 0.017909,
     "end_time": "2024-01-28T06:53:30.967337",
     "exception": false,
     "start_time": "2024-01-28T06:53:30.949428",
     "status": "completed"
    },
    "tags": []
   },
   "source": [
    "# Exploratoy Data Analysis"
   ]
  },
  {
   "cell_type": "code",
   "execution_count": 8,
   "id": "0fbf5904",
   "metadata": {
    "execution": {
     "iopub.execute_input": "2024-01-28T06:53:31.006082Z",
     "iopub.status.busy": "2024-01-28T06:53:31.005329Z",
     "iopub.status.idle": "2024-01-28T06:53:31.018448Z",
     "shell.execute_reply": "2024-01-28T06:53:31.016845Z"
    },
    "id": "3JiCMml-WNus",
    "outputId": "6c0cba9f-86e3-4c09-cc18-88e7622e9926",
    "papermill": {
     "duration": 0.035538,
     "end_time": "2024-01-28T06:53:31.021207",
     "exception": false,
     "start_time": "2024-01-28T06:53:30.985669",
     "status": "completed"
    },
    "tags": []
   },
   "outputs": [
    {
     "data": {
      "text/html": [
       "<div>\n",
       "<style scoped>\n",
       "    .dataframe tbody tr th:only-of-type {\n",
       "        vertical-align: middle;\n",
       "    }\n",
       "\n",
       "    .dataframe tbody tr th {\n",
       "        vertical-align: top;\n",
       "    }\n",
       "\n",
       "    .dataframe thead th {\n",
       "        text-align: right;\n",
       "    }\n",
       "</style>\n",
       "<table border=\"1\" class=\"dataframe\">\n",
       "  <thead>\n",
       "    <tr style=\"text-align: right;\">\n",
       "      <th></th>\n",
       "      <th>brand</th>\n",
       "      <th>count</th>\n",
       "    </tr>\n",
       "  </thead>\n",
       "  <tbody>\n",
       "    <tr>\n",
       "      <th>0</th>\n",
       "      <td>hd</td>\n",
       "      <td>70</td>\n",
       "    </tr>\n",
       "    <tr>\n",
       "      <th>1</th>\n",
       "      <td>breyers</td>\n",
       "      <td>69</td>\n",
       "    </tr>\n",
       "    <tr>\n",
       "      <th>2</th>\n",
       "      <td>bj</td>\n",
       "      <td>57</td>\n",
       "    </tr>\n",
       "    <tr>\n",
       "      <th>3</th>\n",
       "      <td>talenti</td>\n",
       "      <td>45</td>\n",
       "    </tr>\n",
       "  </tbody>\n",
       "</table>\n",
       "</div>"
      ],
      "text/plain": [
       "     brand  count\n",
       "0       hd     70\n",
       "1  breyers     69\n",
       "2       bj     57\n",
       "3  talenti     45"
      ]
     },
     "execution_count": 8,
     "metadata": {},
     "output_type": "execute_result"
    }
   ],
   "source": [
    "# Number of sales by brands\n",
    "\n",
    "df['brand'].value_counts().to_frame().reset_index()\n"
   ]
  },
  {
   "cell_type": "code",
   "execution_count": 9,
   "id": "c84d7d08",
   "metadata": {
    "execution": {
     "iopub.execute_input": "2024-01-28T06:53:31.061386Z",
     "iopub.status.busy": "2024-01-28T06:53:31.060936Z",
     "iopub.status.idle": "2024-01-28T06:53:33.329568Z",
     "shell.execute_reply": "2024-01-28T06:53:33.328208Z"
    },
    "id": "VfcxoTNhWGCN",
    "outputId": "02955030-143f-466f-8725-ec8473f75f1b",
    "papermill": {
     "duration": 2.292525,
     "end_time": "2024-01-28T06:53:33.332225",
     "exception": false,
     "start_time": "2024-01-28T06:53:31.039700",
     "status": "completed"
    },
    "tags": []
   },
   "outputs": [
    {
     "data": {
      "text/html": [
       "        <script type=\"text/javascript\">\n",
       "        window.PlotlyConfig = {MathJaxConfig: 'local'};\n",
       "        if (window.MathJax && window.MathJax.Hub && window.MathJax.Hub.Config) {window.MathJax.Hub.Config({SVG: {font: \"STIX-Web\"}});}\n",
       "        if (typeof require !== 'undefined') {\n",
       "        require.undef(\"plotly\");\n",
       "        requirejs.config({\n",
       "            paths: {\n",
       "                'plotly': ['https://cdn.plot.ly/plotly-2.25.2.min']\n",
       "            }\n",
       "        });\n",
       "        require(['plotly'], function(Plotly) {\n",
       "            window._Plotly = Plotly;\n",
       "        });\n",
       "        }\n",
       "        </script>\n",
       "        "
      ]
     },
     "metadata": {},
     "output_type": "display_data"
    },
    {
     "data": {
      "text/html": [
       "<div>                            <div id=\"d8318298-2bf9-4765-98a3-2ef882ea63fb\" class=\"plotly-graph-div\" style=\"height:525px; width:100%;\"></div>            <script type=\"text/javascript\">                require([\"plotly\"], function(Plotly) {                    window.PLOTLYENV=window.PLOTLYENV || {};                                    if (document.getElementById(\"d8318298-2bf9-4765-98a3-2ef882ea63fb\")) {                    Plotly.newPlot(                        \"d8318298-2bf9-4765-98a3-2ef882ea63fb\",                        [{\"customdata\":[[\"hd\"],[\"breyers\"],[\"bj\"],[\"talenti\"]],\"domain\":{\"x\":[0.0,1.0],\"y\":[0.0,1.0]},\"hole\":0.6,\"hovertemplate\":\"Brand=%{customdata[0]}\\u003cbr\\u003eNo. of Observations=%{value}\\u003cextra\\u003e\\u003c\\u002fextra\\u003e\",\"labels\":[\"hd\",\"breyers\",\"bj\",\"talenti\"],\"legendgroup\":\"\",\"marker\":{\"colors\":[\"gold\",\"mediumturquoise\",\"darkorange\",\"lightgreen\"]},\"name\":\"\",\"showlegend\":true,\"values\":[70,69,57,45],\"type\":\"pie\",\"textinfo\":\"percent+label\",\"textposition\":\"inside\"}],                        {\"template\":{\"data\":{\"histogram2dcontour\":[{\"type\":\"histogram2dcontour\",\"colorbar\":{\"outlinewidth\":0,\"ticks\":\"\"},\"colorscale\":[[0.0,\"#0d0887\"],[0.1111111111111111,\"#46039f\"],[0.2222222222222222,\"#7201a8\"],[0.3333333333333333,\"#9c179e\"],[0.4444444444444444,\"#bd3786\"],[0.5555555555555556,\"#d8576b\"],[0.6666666666666666,\"#ed7953\"],[0.7777777777777778,\"#fb9f3a\"],[0.8888888888888888,\"#fdca26\"],[1.0,\"#f0f921\"]]}],\"choropleth\":[{\"type\":\"choropleth\",\"colorbar\":{\"outlinewidth\":0,\"ticks\":\"\"}}],\"histogram2d\":[{\"type\":\"histogram2d\",\"colorbar\":{\"outlinewidth\":0,\"ticks\":\"\"},\"colorscale\":[[0.0,\"#0d0887\"],[0.1111111111111111,\"#46039f\"],[0.2222222222222222,\"#7201a8\"],[0.3333333333333333,\"#9c179e\"],[0.4444444444444444,\"#bd3786\"],[0.5555555555555556,\"#d8576b\"],[0.6666666666666666,\"#ed7953\"],[0.7777777777777778,\"#fb9f3a\"],[0.8888888888888888,\"#fdca26\"],[1.0,\"#f0f921\"]]}],\"heatmap\":[{\"type\":\"heatmap\",\"colorbar\":{\"outlinewidth\":0,\"ticks\":\"\"},\"colorscale\":[[0.0,\"#0d0887\"],[0.1111111111111111,\"#46039f\"],[0.2222222222222222,\"#7201a8\"],[0.3333333333333333,\"#9c179e\"],[0.4444444444444444,\"#bd3786\"],[0.5555555555555556,\"#d8576b\"],[0.6666666666666666,\"#ed7953\"],[0.7777777777777778,\"#fb9f3a\"],[0.8888888888888888,\"#fdca26\"],[1.0,\"#f0f921\"]]}],\"heatmapgl\":[{\"type\":\"heatmapgl\",\"colorbar\":{\"outlinewidth\":0,\"ticks\":\"\"},\"colorscale\":[[0.0,\"#0d0887\"],[0.1111111111111111,\"#46039f\"],[0.2222222222222222,\"#7201a8\"],[0.3333333333333333,\"#9c179e\"],[0.4444444444444444,\"#bd3786\"],[0.5555555555555556,\"#d8576b\"],[0.6666666666666666,\"#ed7953\"],[0.7777777777777778,\"#fb9f3a\"],[0.8888888888888888,\"#fdca26\"],[1.0,\"#f0f921\"]]}],\"contourcarpet\":[{\"type\":\"contourcarpet\",\"colorbar\":{\"outlinewidth\":0,\"ticks\":\"\"}}],\"contour\":[{\"type\":\"contour\",\"colorbar\":{\"outlinewidth\":0,\"ticks\":\"\"},\"colorscale\":[[0.0,\"#0d0887\"],[0.1111111111111111,\"#46039f\"],[0.2222222222222222,\"#7201a8\"],[0.3333333333333333,\"#9c179e\"],[0.4444444444444444,\"#bd3786\"],[0.5555555555555556,\"#d8576b\"],[0.6666666666666666,\"#ed7953\"],[0.7777777777777778,\"#fb9f3a\"],[0.8888888888888888,\"#fdca26\"],[1.0,\"#f0f921\"]]}],\"surface\":[{\"type\":\"surface\",\"colorbar\":{\"outlinewidth\":0,\"ticks\":\"\"},\"colorscale\":[[0.0,\"#0d0887\"],[0.1111111111111111,\"#46039f\"],[0.2222222222222222,\"#7201a8\"],[0.3333333333333333,\"#9c179e\"],[0.4444444444444444,\"#bd3786\"],[0.5555555555555556,\"#d8576b\"],[0.6666666666666666,\"#ed7953\"],[0.7777777777777778,\"#fb9f3a\"],[0.8888888888888888,\"#fdca26\"],[1.0,\"#f0f921\"]]}],\"mesh3d\":[{\"type\":\"mesh3d\",\"colorbar\":{\"outlinewidth\":0,\"ticks\":\"\"}}],\"scatter\":[{\"fillpattern\":{\"fillmode\":\"overlay\",\"size\":10,\"solidity\":0.2},\"type\":\"scatter\"}],\"parcoords\":[{\"type\":\"parcoords\",\"line\":{\"colorbar\":{\"outlinewidth\":0,\"ticks\":\"\"}}}],\"scatterpolargl\":[{\"type\":\"scatterpolargl\",\"marker\":{\"colorbar\":{\"outlinewidth\":0,\"ticks\":\"\"}}}],\"bar\":[{\"error_x\":{\"color\":\"#2a3f5f\"},\"error_y\":{\"color\":\"#2a3f5f\"},\"marker\":{\"line\":{\"color\":\"#E5ECF6\",\"width\":0.5},\"pattern\":{\"fillmode\":\"overlay\",\"size\":10,\"solidity\":0.2}},\"type\":\"bar\"}],\"scattergeo\":[{\"type\":\"scattergeo\",\"marker\":{\"colorbar\":{\"outlinewidth\":0,\"ticks\":\"\"}}}],\"scatterpolar\":[{\"type\":\"scatterpolar\",\"marker\":{\"colorbar\":{\"outlinewidth\":0,\"ticks\":\"\"}}}],\"histogram\":[{\"marker\":{\"pattern\":{\"fillmode\":\"overlay\",\"size\":10,\"solidity\":0.2}},\"type\":\"histogram\"}],\"scattergl\":[{\"type\":\"scattergl\",\"marker\":{\"colorbar\":{\"outlinewidth\":0,\"ticks\":\"\"}}}],\"scatter3d\":[{\"type\":\"scatter3d\",\"line\":{\"colorbar\":{\"outlinewidth\":0,\"ticks\":\"\"}},\"marker\":{\"colorbar\":{\"outlinewidth\":0,\"ticks\":\"\"}}}],\"scattermapbox\":[{\"type\":\"scattermapbox\",\"marker\":{\"colorbar\":{\"outlinewidth\":0,\"ticks\":\"\"}}}],\"scatterternary\":[{\"type\":\"scatterternary\",\"marker\":{\"colorbar\":{\"outlinewidth\":0,\"ticks\":\"\"}}}],\"scattercarpet\":[{\"type\":\"scattercarpet\",\"marker\":{\"colorbar\":{\"outlinewidth\":0,\"ticks\":\"\"}}}],\"carpet\":[{\"aaxis\":{\"endlinecolor\":\"#2a3f5f\",\"gridcolor\":\"white\",\"linecolor\":\"white\",\"minorgridcolor\":\"white\",\"startlinecolor\":\"#2a3f5f\"},\"baxis\":{\"endlinecolor\":\"#2a3f5f\",\"gridcolor\":\"white\",\"linecolor\":\"white\",\"minorgridcolor\":\"white\",\"startlinecolor\":\"#2a3f5f\"},\"type\":\"carpet\"}],\"table\":[{\"cells\":{\"fill\":{\"color\":\"#EBF0F8\"},\"line\":{\"color\":\"white\"}},\"header\":{\"fill\":{\"color\":\"#C8D4E3\"},\"line\":{\"color\":\"white\"}},\"type\":\"table\"}],\"barpolar\":[{\"marker\":{\"line\":{\"color\":\"#E5ECF6\",\"width\":0.5},\"pattern\":{\"fillmode\":\"overlay\",\"size\":10,\"solidity\":0.2}},\"type\":\"barpolar\"}],\"pie\":[{\"automargin\":true,\"type\":\"pie\"}]},\"layout\":{\"autotypenumbers\":\"strict\",\"colorway\":[\"#636efa\",\"#EF553B\",\"#00cc96\",\"#ab63fa\",\"#FFA15A\",\"#19d3f3\",\"#FF6692\",\"#B6E880\",\"#FF97FF\",\"#FECB52\"],\"font\":{\"color\":\"#2a3f5f\"},\"hovermode\":\"closest\",\"hoverlabel\":{\"align\":\"left\"},\"paper_bgcolor\":\"white\",\"plot_bgcolor\":\"#E5ECF6\",\"polar\":{\"bgcolor\":\"#E5ECF6\",\"angularaxis\":{\"gridcolor\":\"white\",\"linecolor\":\"white\",\"ticks\":\"\"},\"radialaxis\":{\"gridcolor\":\"white\",\"linecolor\":\"white\",\"ticks\":\"\"}},\"ternary\":{\"bgcolor\":\"#E5ECF6\",\"aaxis\":{\"gridcolor\":\"white\",\"linecolor\":\"white\",\"ticks\":\"\"},\"baxis\":{\"gridcolor\":\"white\",\"linecolor\":\"white\",\"ticks\":\"\"},\"caxis\":{\"gridcolor\":\"white\",\"linecolor\":\"white\",\"ticks\":\"\"}},\"coloraxis\":{\"colorbar\":{\"outlinewidth\":0,\"ticks\":\"\"}},\"colorscale\":{\"sequential\":[[0.0,\"#0d0887\"],[0.1111111111111111,\"#46039f\"],[0.2222222222222222,\"#7201a8\"],[0.3333333333333333,\"#9c179e\"],[0.4444444444444444,\"#bd3786\"],[0.5555555555555556,\"#d8576b\"],[0.6666666666666666,\"#ed7953\"],[0.7777777777777778,\"#fb9f3a\"],[0.8888888888888888,\"#fdca26\"],[1.0,\"#f0f921\"]],\"sequentialminus\":[[0.0,\"#0d0887\"],[0.1111111111111111,\"#46039f\"],[0.2222222222222222,\"#7201a8\"],[0.3333333333333333,\"#9c179e\"],[0.4444444444444444,\"#bd3786\"],[0.5555555555555556,\"#d8576b\"],[0.6666666666666666,\"#ed7953\"],[0.7777777777777778,\"#fb9f3a\"],[0.8888888888888888,\"#fdca26\"],[1.0,\"#f0f921\"]],\"diverging\":[[0,\"#8e0152\"],[0.1,\"#c51b7d\"],[0.2,\"#de77ae\"],[0.3,\"#f1b6da\"],[0.4,\"#fde0ef\"],[0.5,\"#f7f7f7\"],[0.6,\"#e6f5d0\"],[0.7,\"#b8e186\"],[0.8,\"#7fbc41\"],[0.9,\"#4d9221\"],[1,\"#276419\"]]},\"xaxis\":{\"gridcolor\":\"white\",\"linecolor\":\"white\",\"ticks\":\"\",\"title\":{\"standoff\":15},\"zerolinecolor\":\"white\",\"automargin\":true,\"zerolinewidth\":2},\"yaxis\":{\"gridcolor\":\"white\",\"linecolor\":\"white\",\"ticks\":\"\",\"title\":{\"standoff\":15},\"zerolinecolor\":\"white\",\"automargin\":true,\"zerolinewidth\":2},\"scene\":{\"xaxis\":{\"backgroundcolor\":\"#E5ECF6\",\"gridcolor\":\"white\",\"linecolor\":\"white\",\"showbackground\":true,\"ticks\":\"\",\"zerolinecolor\":\"white\",\"gridwidth\":2},\"yaxis\":{\"backgroundcolor\":\"#E5ECF6\",\"gridcolor\":\"white\",\"linecolor\":\"white\",\"showbackground\":true,\"ticks\":\"\",\"zerolinecolor\":\"white\",\"gridwidth\":2},\"zaxis\":{\"backgroundcolor\":\"#E5ECF6\",\"gridcolor\":\"white\",\"linecolor\":\"white\",\"showbackground\":true,\"ticks\":\"\",\"zerolinecolor\":\"white\",\"gridwidth\":2}},\"shapedefaults\":{\"line\":{\"color\":\"#2a3f5f\"}},\"annotationdefaults\":{\"arrowcolor\":\"#2a3f5f\",\"arrowhead\":0,\"arrowwidth\":1},\"geo\":{\"bgcolor\":\"white\",\"landcolor\":\"#E5ECF6\",\"subunitcolor\":\"white\",\"showland\":true,\"showlakes\":true,\"lakecolor\":\"white\"},\"title\":{\"x\":0.05},\"mapbox\":{\"style\":\"light\"}}},\"legend\":{\"tracegroupgap\":0,\"title\":{\"text\":\"Brand\",\"font\":{\"size\":17}}},\"margin\":{\"t\":60},\"piecolorway\":[\"gold\",\"mediumturquoise\",\"darkorange\",\"lightgreen\"],\"font\":{\"family\":\"Arial\",\"size\":14},\"title\":{\"font\":{\"size\":22,\"color\":\"Red\"},\"text\":\"Percentage of Sales by Brand\",\"x\":0.5}},                        {\"responsive\": true}                    ).then(function(){\n",
       "                            \n",
       "var gd = document.getElementById('d8318298-2bf9-4765-98a3-2ef882ea63fb');\n",
       "var x = new MutationObserver(function (mutations, observer) {{\n",
       "        var display = window.getComputedStyle(gd).display;\n",
       "        if (!display || display === 'none') {{\n",
       "            console.log([gd, 'removed!']);\n",
       "            Plotly.purge(gd);\n",
       "            observer.disconnect();\n",
       "        }}\n",
       "}});\n",
       "\n",
       "// Listen for the removal of the full notebook cells\n",
       "var notebookContainer = gd.closest('#notebook-container');\n",
       "if (notebookContainer) {{\n",
       "    x.observe(notebookContainer, {childList: true});\n",
       "}}\n",
       "\n",
       "// Listen for the clearing of the current output cell\n",
       "var outputEl = gd.closest('.output');\n",
       "if (outputEl) {{\n",
       "    x.observe(outputEl, {childList: true});\n",
       "}}\n",
       "\n",
       "                        })                };                });            </script>        </div>"
      ]
     },
     "metadata": {},
     "output_type": "display_data"
    }
   ],
   "source": [
    "# Create Plotly pie chart\n",
    "fig = px.pie(\n",
    "   df['brand'].value_counts().to_frame().reset_index(),\n",
    "    values=\"count\",\n",
    "    names=\"brand\",\n",
    "    color=\"brand\",\n",
    "    color_discrete_sequence= ['gold', 'mediumturquoise', 'darkorange', 'lightgreen'],\n",
    "    hole=0.6,  # Adjust hole size for better readability\n",
    "    labels={'brand':'Brand',\"count\":\"No. of Observations\"}\n",
    ")\n",
    "fig.update_traces(textposition='inside', textinfo='percent+label')\n",
    "# Customize layout\n",
    "fig.update_layout(\n",
    "    legend=dict(title=\"Brand\", title_font_size=17),\n",
    "    font_family=\"Arial\",\n",
    "    font_size=14,\n",
    "    title=dict(text=\"Percentage of Sales by Brand\", font_size=22, font_color = \"Red\"),title_x=0.5\n",
    ")\n",
    "\n",
    "fig.show()"
   ]
  },
  {
   "cell_type": "markdown",
   "id": "ef20ea80",
   "metadata": {
    "id": "rjwa6MaxjwAl",
    "papermill": {
     "duration": 0.019336,
     "end_time": "2024-01-28T06:53:33.371995",
     "exception": false,
     "start_time": "2024-01-28T06:53:33.352659",
     "status": "completed"
    },
    "tags": []
   },
   "source": [
    "We can see that maximum of the ice creame are from hd and breyers flavors."
   ]
  },
  {
   "cell_type": "code",
   "execution_count": 10,
   "id": "b1b513a8",
   "metadata": {
    "execution": {
     "iopub.execute_input": "2024-01-28T06:53:33.413631Z",
     "iopub.status.busy": "2024-01-28T06:53:33.412953Z",
     "iopub.status.idle": "2024-01-28T06:53:33.592138Z",
     "shell.execute_reply": "2024-01-28T06:53:33.590329Z"
    },
    "id": "2TBZuQPQloxZ",
    "outputId": "4311bc3d-cfa8-4eab-e266-54595ad25705",
    "papermill": {
     "duration": 0.20365,
     "end_time": "2024-01-28T06:53:33.594957",
     "exception": false,
     "start_time": "2024-01-28T06:53:33.391307",
     "status": "completed"
    },
    "tags": []
   },
   "outputs": [
    {
     "data": {
      "text/html": [
       "<div>                            <div id=\"8f06098b-8b4a-4cac-9d1f-737c8cb38a01\" class=\"plotly-graph-div\" style=\"height:525px; width:100%;\"></div>            <script type=\"text/javascript\">                require([\"plotly\"], function(Plotly) {                    window.PLOTLYENV=window.PLOTLYENV || {};                                    if (document.getElementById(\"8f06098b-8b4a-4cac-9d1f-737c8cb38a01\")) {                    Plotly.newPlot(                        \"8f06098b-8b4a-4cac-9d1f-737c8cb38a01\",                        [{\"customdata\":[[\"Salted Caramel Core\",\"bj\"],[\"Netflix & Chilll'd™\",\"bj\"],[\"Chip Happens\",\"bj\"],[\"Cannoli\",\"bj\"],[\"Gimme S’more!™\",\"bj\"],[\"Peanut Butter Half Baked®\",\"bj\"],[\"Berry Sweet Mascarpone\",\"bj\"],[\"Chocolate Peanut Butter Split\",\"bj\"],[\"Justice ReMix'd ™\",\"bj\"],[\"Boots on the Moooo’n™\",\"bj\"],[\"Americone Dream®\",\"bj\"],[\"Bourbon Pecan Pie\",\"bj\"],[\"Brewed to Matter™\",\"bj\"],[\"Caramel Chocolate Cheesecake\",\"bj\"],[\"Cherry Garcia®\",\"bj\"],[\"Chillin' the Roast™\",\"bj\"],[\"Chocolate Chip Cookie Dough\",\"bj\"],[\"Chocolate Fudge Brownie\",\"bj\"],[\"Chocolate Shake It™\",\"bj\"],[\"Chocolate Therapy®\",\"bj\"],[\"Chubby Hubby®\",\"bj\"],[\"Chunky Monkey®\",\"bj\"],[\"Cinnamon Buns®\",\"bj\"],[\"Coffee Coffee BuzzBuzzBuzz!®\",\"bj\"],[\"Coffee Toffee Bar Crunch\",\"bj\"],[\"Cold Brew Caramel Latte\",\"bj\"],[\"Everything But The...®\",\"bj\"],[\"Glampfire Trail Mix™\",\"bj\"],[\"Half Baked®\",\"bj\"],[\"Ice Cream Sammie\",\"bj\"],[\"Milk & Cookies\",\"bj\"],[\"Mint Chocolate Cookie\",\"bj\"],[\"Minter Wonderland™\",\"bj\"],[\"New York Super Fudge Chunk®\",\"bj\"],[\"Oat of This Swirled™\",\"bj\"],[\"Peanut Butter Cup\",\"bj\"],[\"Peanut Butter World®\",\"bj\"],[\"Phish Food®\",\"bj\"],[\"Pistachio Pistachio\",\"bj\"],[\"Pumpkin Cheesecake\",\"bj\"],[\"Red, White & Blueberry\",\"bj\"],[\"S'mores\",\"bj\"],[\"Salted Caramel Almond\",\"bj\"],[\"Strawberry Cheesecake\",\"bj\"],[\"The Tonight Dough®\",\"bj\"],[\"Triple Caramel Chunk®\",\"bj\"],[\"Urban Bourbon™\",\"bj\"],[\"Vanilla\",\"bj\"],[\"Vanilla Caramel Fudge\",\"bj\"],[\"Boom Chocolatta™ Cookie Core\",\"bj\"],[\"Chocolate Chip Cookie Dough Core\",\"bj\"],[\"Sweet Like Sugar Cookie Dough Core\",\"bj\"],[\"Wake & \\\" No Bake \\\" Cookie Dough Core\",\"bj\"],[\"Brownie Batter Core\",\"bj\"],[\"Cookies & Cream Cheesecake Core\",\"bj\"],[\"Karamel Sutra® Core\",\"bj\"],[\"Peanut Butter Fudge Core\",\"bj\"]],\"hovertemplate\":\"brand=%{customdata[1]}\\u003cbr\\u003eRatings=%{marker.size}\\u003cbr\\u003eNo. of Ratings=%{y}\\u003cbr\\u003ename=%{customdata[0]}\\u003cextra\\u003e\\u003c\\u002fextra\\u003e\",\"legendgroup\":\"bj\",\"marker\":{\"color\":\"#636efa\",\"size\":[3.7,4.0,4.7,3.6,4.5,4.9,4.6,5.0,4.3,4.7,4.7,4.6,4.7,4.0,4.4,3.3,4.6,3.4,3.9,4.8,4.3,4.4,4.6,4.9,2.9,4.6,3.8,4.7,4.7,5.0,4.7,4.4,4.7,4.9,4.5,4.4,4.9,4.8,4.0,4.6,3.4,4.1,4.5,4.7,4.7,4.3,4.2,4.7,4.8,4.6,1.8,4.8,3.3,3.5,4.4,4.2,4.7],\"sizemode\":\"area\",\"sizeref\":0.0125,\"symbol\":\"circle\"},\"mode\":\"markers\",\"name\":\"bj\",\"orientation\":\"v\",\"showlegend\":true,\"x\":[3.7,4.0,4.7,3.6,4.5,4.9,4.6,5.0,4.3,4.7,4.7,4.6,4.7,4.0,4.4,3.3,4.6,3.4,3.9,4.8,4.3,4.4,4.6,4.9,2.9,4.6,3.8,4.7,4.7,5.0,4.7,4.4,4.7,4.9,4.5,4.4,4.9,4.8,4.0,4.6,3.4,4.1,4.5,4.7,4.7,4.3,4.2,4.7,4.8,4.6,1.8,4.8,3.3,3.5,4.4,4.2,4.7],\"xaxis\":\"x\",\"y\":[208,127,130,70,281,14,10,7,110,42,370,9,35,133,153,172,983,204,111,72,118,108,83,47,302,10,72,68,887,31,104,141,32,63,255,41,69,93,80,58,39,151,23,231,639,16,181,10,29,97,166,123,68,108,57,94,19],\"yaxis\":\"y\",\"type\":\"scatter\"},{\"customdata\":[[\"White Chocolate Raspberry Truffle Ice Cream\",\"hd\"],[\"Banana Peanut Butter Chip Ice Cream\",\"hd\"],[\"Bourbon Praline Pecan Ice Cream\",\"hd\"],[\"Bourbon Vanilla Bean Truffle Ice Cream\",\"hd\"],[\"Butter Pecan Ice Cream\",\"hd\"],[\"Caramel Soft Dipped Ice Cream Bar\",\"hd\"],[\"Caramel Cone Ice Cream\",\"hd\"],[\"Caramel Cone Ice Cream Bar\",\"hd\"],[\"Cherry Vanilla Ice Cream\",\"hd\"],[\"Chocolate Ice Cream\",\"hd\"],[\"Chocolate Soft Dipped Ice Cream Bar\",\"hd\"],[\"Chocolate Chip Cookie Dough Ice Cream\",\"hd\"],[\"Chocolate Chocolate Chip Ice Cream\",\"hd\"],[\"Chocolate Dark Chocolate Ice Cream Bar\",\"hd\"],[\"Chocolate Fudge Non-Dairy Bar\",\"hd\"],[\"Chocolate Peanut Butter Ice Cream\",\"hd\"],[\"Chocolate Salted Fudge Truffle Non-Dairy\",\"hd\"],[\"Chocolate Sea Salt Caramel HEAVEN Light Ice Cream\",\"hd\"],[\"Coconut Caramel Non-Dairy\",\"hd\"],[\"Coconut Caramel Chocolate TRIO CRISPY LAYERS\",\"hd\"],[\"Coconut Caramel Dark Chocolate Non-Dairy Bar\",\"hd\"],[\"Coffee Ice Cream\",\"hd\"],[\"Coffee Almond Crunch Ice Cream Bar\",\"hd\"],[\"Coffee Chip Ice Cream\",\"hd\"],[\"Coffee Vanilla Chocolate TRIO CRISPY LAYERS\",\"hd\"],[\"Cold Brew Espresso Chip HEAVEN Light Ice Cream\",\"hd\"],[\"Cookies and Cream Ice Cream\",\"hd\"],[\"Double Belgian Chocolate Chip Ice Cream\",\"hd\"],[\"Dulce de Leche Cookie Squares\",\"hd\"],[\"Dulce de Leche Ice Cream\",\"hd\"],[\"Green Tea Ice Cream\",\"hd\"],[\"Honey Salted Caramel Almond Ice Cream\",\"hd\"],[\"Irish Cream Cookie Squares\",\"hd\"],[\"Irish Cream Brownie Ice Cream\",\"hd\"],[\"Lemon Sorbet\",\"hd\"],[\"Lemon Raspberry White Chocolate TRIO CRISPY LAYERS\",\"hd\"],[\"Mango Ice Cream\",\"hd\"],[\"Mango Sorbet\",\"hd\"],[\"Mint Chip Ice Cream\",\"hd\"],[\"Peanut Butter Cookie Squares\",\"hd\"],[\"Peanut Butter Chip HEAVEN Light Ice Cream\",\"hd\"],[\"Peanut Butter Chocolate Fudge Non-Dairy\",\"hd\"],[\"Peanut Butter Chocolate Fudge Non-Dairy Bar\",\"hd\"],[\"Peppermint Bark Ice Cream\",\"hd\"],[\"Peppermint Bark Ice Cream Bar\",\"hd\"],[\"Pineapple Coconut Ice Cream\",\"hd\"],[\"Pistachio Ice Cream\",\"hd\"],[\"Raspberry Sorbet\",\"hd\"],[\"Rocky Road Ice Cream\",\"hd\"],[\"Rosé & Cream Ice Cream\",\"hd\"],[\"Ruby Cacao Ice Cream Bar\",\"hd\"],[\"Ruby Cacao Crackle Pistachio Sweet Cream TRIO CRISPY LAYERS\",\"hd\"],[\"Rum Raisin Ice Cream\",\"hd\"],[\"Rum Tres Leches Ice Cream\",\"hd\"],[\"Salted Caramel Chocolate TRIO CRISPY LAYERS\",\"hd\"],[\"Strawberry Ice Cream\",\"hd\"],[\"Strawberry Waffle Cone HEAVEN Light Ice Cream\",\"hd\"],[\"Triple Chocolate TRIO CRISPY LAYERS\",\"hd\"],[\"Vanilla Cookie Squares\",\"hd\"],[\"Vanilla Ice Cream\",\"hd\"],[\"Vanilla Soft Dipped Ice Cream Bar\",\"hd\"],[\"Vanilla Bean Ice Cream\",\"hd\"],[\"Vanilla Blackberry Chocolate TRIO CRISPY LAYERS\",\"hd\"],[\"Vanilla Caramel White Chocolate TRIO CRISPY LAYERS\",\"hd\"],[\"Vanilla Chocolate Chip Ice Cream\",\"hd\"],[\"Vanilla Milk Chocolate Ice Cream Bar\",\"hd\"],[\"Vanilla Milk Chocolate Almond Ice Cream Bar\",\"hd\"],[\"Vanilla Swiss Almond Ice Cream\",\"hd\"],[\"Whiskey Hazelnut Latte Ice Cream\",\"hd\"],[\"White Chocolate Raspberry Ice Cream Bar\",\"hd\"]],\"hovertemplate\":\"brand=%{customdata[1]}\\u003cbr\\u003eRatings=%{marker.size}\\u003cbr\\u003eNo. of Ratings=%{y}\\u003cbr\\u003ename=%{customdata[0]}\\u003cextra\\u003e\\u003c\\u002fextra\\u003e\",\"legendgroup\":\"hd\",\"marker\":{\"color\":\"#EF553B\",\"size\":[4.9,4.7,4.1,4.0,4.3,4.9,4.7,4.8,4.2,4.9,2.6,3.3,4.7,4.5,5.0,4.2,4.8,4.1,4.9,4.6,4.6,4.6,4.3,3.1,4.4,4.5,4.6,4.8,3.9,4.8,4.2,5.0,4.9,4.3,4.8,4.3,4.8,4.6,3.4,4.4,2.7,4.6,4.8,5.0,5.0,4.5,3.8,4.5,4.6,4.4,3.5,4.0,3.5,4.0,3.4,4.8,4.2,3.9,4.3,3.0,4.4,4.5,4.3,5.0,4.5,4.6,2.5,4.3,4.5,3.9],\"sizemode\":\"area\",\"sizeref\":0.0125,\"symbol\":\"diamond\"},\"mode\":\"markers\",\"name\":\"hd\",\"orientation\":\"v\",\"showlegend\":true,\"x\":[4.9,4.7,4.1,4.0,4.3,4.9,4.7,4.8,4.2,4.9,2.6,3.3,4.7,4.5,5.0,4.2,4.8,4.1,4.9,4.6,4.6,4.6,4.3,3.1,4.4,4.5,4.6,4.8,3.9,4.8,4.2,5.0,4.9,4.3,4.8,4.3,4.8,4.6,3.4,4.4,2.7,4.6,4.8,5.0,5.0,4.5,3.8,4.5,4.6,4.4,3.5,4.0,3.5,4.0,3.4,4.8,4.2,3.9,4.3,3.0,4.4,4.5,4.3,5.0,4.5,4.6,2.5,4.3,4.5,3.9],\"xaxis\":\"x\",\"y\":[168,80,191,89,111,8,185,23,26,90,25,29,46,22,22,173,97,13,11,26,31,173,42,111,48,18,23,158,35,209,109,103,14,85,17,51,44,20,35,14,25,24,32,31,8,105,64,14,29,23,31,46,129,97,55,108,18,52,32,228,13,115,74,32,46,76,224,129,11,11],\"yaxis\":\"y\",\"type\":\"scatter\"},{\"customdata\":[[\"ALPHONSO MANGO SORBETTO\",\"talenti\"],[\"BANANA CARAMEL CRUNCH\",\"talenti\"],[\"BELGIAN CHOCOLATE GELATO\",\"talenti\"],[\"BLACK RASPBERRY CHOCOLATE CHIP GELATO\",\"talenti\"],[\"BLACK RASPBERRY VANILLA PARFAIT\",\"talenti\"],[\"CARAMEL APPLE PIE GELATO\",\"talenti\"],[\"CARAMEL COOKIE CRUNCH GELATO\",\"talenti\"],[\"CARIBBEAN COCONUT GELATO\",\"talenti\"],[\"CHOCOLATE CHERRY CHEESECAKE\",\"talenti\"],[\"CHOCOLATE CHIP COOKIE DOUGH GELATO\",\"talenti\"],[\"CHOCOLATE PEANUT BUTTER CUP GELATO\",\"talenti\"],[\"COCONUT ALMOND CHOCOLATE GELATO\",\"talenti\"],[\"COCONUT CHOCOLATE COOKIE\",\"talenti\"],[\"COFFEE CHOCOLATE CHIP GELATO\",\"talenti\"],[\"COFFEE COOKIE CRUMBLE\",\"talenti\"],[\"COLD BREW COFFEE SORBETTO\",\"talenti\"],[\"DARK CHOCOLATE CHERRY\",\"talenti\"],[\"DARK CHOCOLATE SORBETTO\",\"talenti\"],[\"DOUBLE DARK CHOCOLATE GELATO\",\"talenti\"],[\"FUDGE BROWNIE GELATO\",\"talenti\"],[\"HAZELNUT CHOCOLATE CHIP GELATO\",\"talenti\"],[\"KEY LIME PIE GELATO\",\"talenti\"],[\"LEMON BERRY PIE\",\"talenti\"],[\"MADAGASCAN VANILLA BEAN GELATO\",\"talenti\"],[\"MEDITERRANEAN MINT GELATO\",\"talenti\"],[\"MINT FUDGE COOKIE\",\"talenti\"],[\"OLD WORLD EGGNOG GELATO\",\"talenti\"],[\"ORGANIC BROWN BUTTER CARAMEL\",\"talenti\"],[\"ORGANIC CHOCOLATE MOUSSE GELATO\",\"talenti\"],[\"ORGANIC GINGER MATCHA GELATO\",\"talenti\"],[\"ORGANIC OAK-AGED VANILLA GELATO\",\"talenti\"],[\"PACIFIC COAST PISTACHIO GELATO\",\"talenti\"],[\"PEANUT BUTTER FUDGE SORBETTO\",\"talenti\"],[\"PEANUT BUTTER VANILLA FUDGE\",\"talenti\"],[\"PEPPERMINT BARK GELATO\",\"talenti\"],[\"PUMPKIN PIE\",\"talenti\"],[\"RASPBERRY CHEESECAKE GELATO\",\"talenti\"],[\"ROMAN RASPBERRY SORBETTO\",\"talenti\"],[\"SALTED CARAMEL TRUFFLE\",\"talenti\"],[\"SEA SALT CARAMEL GELATO\",\"talenti\"],[\"SOUTHERN BUTTER PECAN GELATO\",\"talenti\"],[\"STRAWBERRY HIBISCUS SORBETTO\",\"talenti\"],[\"VANILLA BLUEBERRY CRUMBLE GELATO\",\"talenti\"],[\"VANILLA CARAMEL SWIRL GELATO\",\"talenti\"],[\"VANILLA FUDGE COOKIE\",\"talenti\"]],\"hovertemplate\":\"brand=%{customdata[1]}\\u003cbr\\u003eRatings=%{marker.size}\\u003cbr\\u003eNo. of Ratings=%{y}\\u003cbr\\u003ename=%{customdata[0]}\\u003cextra\\u003e\\u003c\\u002fextra\\u003e\",\"legendgroup\":\"talenti\",\"marker\":{\"color\":\"#00cc96\",\"size\":[4.7,4.2,4.8,4.0,4.5,4.8,4.2,4.5,4.3,2.8,4.4,4.8,4.3,4.5,4.4,4.5,4.2,4.2,4.3,4.7,4.3,3.6,4.2,3.9,4.7,4.7,4.6,4.5,4.3,4.7,4.8,4.5,4.7,4.6,4.4,4.6,3.9,4.7,4.7,4.1,4.2,4.4,3.9,3.6,4.3],\"sizemode\":\"area\",\"sizeref\":0.0125,\"symbol\":\"square\"},\"mode\":\"markers\",\"name\":\"talenti\",\"orientation\":\"v\",\"showlegend\":true,\"x\":[4.7,4.2,4.8,4.0,4.5,4.8,4.2,4.5,4.3,2.8,4.4,4.8,4.3,4.5,4.4,4.5,4.2,4.2,4.3,4.7,4.3,3.6,4.2,3.9,4.7,4.7,4.6,4.5,4.3,4.7,4.8,4.5,4.7,4.6,4.4,4.6,3.9,4.7,4.7,4.1,4.2,4.4,3.9,3.6,4.3],\"xaxis\":\"x\",\"y\":[139,25,27,105,65,115,334,112,77,104,77,82,29,108,26,131,48,41,50,34,72,208,31,198,324,52,33,20,13,21,19,201,77,38,71,63,76,161,160,146,125,14,70,38,114],\"yaxis\":\"y\",\"type\":\"scatter\"},{\"customdata\":[[\"Natural Vanilla\",\"breyers\"],[\"Homemade Vanilla\",\"breyers\"],[\"Extra Creamy Vanilla\",\"breyers\"],[\"Chocolate\",\"breyers\"],[\"Natural Strawberry\",\"breyers\"],[\"Mint Chocolate Chip\",\"breyers\"],[\"Vanilla Chocolate Strawberry\",\"breyers\"],[\"Delights Creamy Chocolate\",\"breyers\"],[\"Delights Mint Chip\",\"breyers\"],[\"Delights Cookies & Cream\",\"breyers\"],[\"Delights Vanilla Bean\",\"breyers\"],[\"French Vanilla\",\"breyers\"],[\"CarbSmart™ Vanilla\",\"breyers\"],[\"Lactose Free Vanilla\",\"breyers\"],[\"No Sugar Added Vanilla\",\"breyers\"],[\"OREO®\",\"breyers\"],[\"OREO® & CHIPS AHOY!® 2in1\",\"breyers\"],[\"Vanilla Caramel\",\"breyers\"],[\"Vanilla Caramel Gelato Indulgences\",\"breyers\"],[\"Chocolate Mint\",\"breyers\"],[\"Peach\",\"breyers\"],[\"Vanilla Fudge Twirl\",\"breyers\"],[\"CarbSmart™ Chocolate\",\"breyers\"],[\"CarbSmart™ Peanut Butter\",\"breyers\"],[\"Lactose Free Chocolate\",\"breyers\"],[\"No Sugar Added Vanilla Chocolate Strawberry\",\"breyers\"],[\"Non-Dairy Vanilla Peanut Butter\",\"breyers\"],[\"Raspberry Cheesecake Gelato Indulgences\",\"breyers\"],[\"REESE'S\",\"breyers\"],[\"REESE'S & REESE'S PIECES 2in1\",\"breyers\"],[\"No Sugar Added Caramel Swirl\",\"breyers\"],[\"SNICKERS®\",\"breyers\"],[\"SNICKERS® & M&M'S® 2in1\",\"breyers\"],[\"CarbSmart™ Almond Bar\",\"breyers\"],[\"HEATH & Waffle Cone 2in1\",\"breyers\"],[\"No Sugar Added Butter Pecan\",\"breyers\"],[\"CarbSmart™ Vanilla Bar\",\"breyers\"],[\"HEATH\",\"breyers\"],[\"Butter Pecan\",\"breyers\"],[\"CarbSmart™ Fudge Bar\",\"breyers\"],[\"CarbSmart™ Mint Fudge Bar\",\"breyers\"],[\"OREO® Snack Cups 10ct\",\"breyers\"],[\"REESE'S Chocolate\",\"breyers\"],[\"Waffle Cone\",\"breyers\"],[\"Creamsicle\",\"breyers\"],[\"New York Style Cheesecake\",\"breyers\"],[\"Rocky Road\",\"breyers\"],[\"Cherry Vanilla\",\"breyers\"],[\"Cookies & Cream\",\"breyers\"],[\"Chocolate Chip Cookie Dough\",\"breyers\"],[\"Non-Dairy OREO® Cookies & Cream\",\"breyers\"],[\"Coffee\",\"breyers\"],[\"Vanilla Chocolate\",\"breyers\"],[\"Chocolate Chip\",\"breyers\"],[\"Extra Creamy Chocolate\",\"breyers\"],[\"Black Raspberry Chocolate\",\"breyers\"],[\"Chocolate Truffle\",\"breyers\"],[\"Salted Caramel\",\"breyers\"],[\"Ice Cream Cake\",\"breyers\"],[\"Coconut Fudge\",\"breyers\"],[\"Chocolate Peanut Butter\",\"breyers\"],[\"Natural Vanilla Snack Cups 10ct\",\"breyers\"],[\"Butterscotch Blondie\",\"breyers\"],[\"Chocolate Snack Cups 10ct\",\"breyers\"],[\"CINNABON®\",\"breyers\"],[\"CarbSmart™ Caramel Swirl Bar\",\"breyers\"],[\"Layered Dessert S'mores\",\"breyers\"],[\"Layered Dessert Peach Cobbler\",\"breyers\"],[\"Layered Dessert Brownie Cheesecake\",\"breyers\"]],\"hovertemplate\":\"brand=%{customdata[1]}\\u003cbr\\u003eRatings=%{marker.size}\\u003cbr\\u003eNo. of Ratings=%{y}\\u003cbr\\u003ename=%{customdata[0]}\\u003cextra\\u003e\\u003c\\u002fextra\\u003e\",\"legendgroup\":\"breyers\",\"marker\":{\"color\":\"#ab63fa\",\"size\":[4.1,4.4,4.4,4.7,4.5,4.0,4.5,4.4,3.3,3.9,4.2,4.5,4.0,3.9,4.4,4.2,4.2,4.2,4.5,4.1,3.0,4.0,4.0,2.8,4.7,4.3,4.8,4.5,3.9,3.3,4.9,4.4,3.9,4.3,3.3,4.3,4.2,3.3,2.6,4.4,4.6,5.0,4.2,3.6,3.8,3.3,3.0,3.0,4.1,1.2,4.5,2.4,4.6,3.8,3.1,4.4,4.5,3.9,4.1,4.4,4.4,4.6,3.5,4.9,4.0,4.7,2.5,3.2,2.8],\"sizemode\":\"area\",\"sizeref\":0.0125,\"symbol\":\"x\"},\"mode\":\"markers\",\"name\":\"breyers\",\"orientation\":\"v\",\"showlegend\":true,\"x\":[4.1,4.4,4.4,4.7,4.5,4.0,4.5,4.4,3.3,3.9,4.2,4.5,4.0,3.9,4.4,4.2,4.2,4.2,4.5,4.1,3.0,4.0,4.0,2.8,4.7,4.3,4.8,4.5,3.9,3.3,4.9,4.4,3.9,4.3,3.3,4.3,4.2,3.3,2.6,4.4,4.6,5.0,4.2,3.6,3.8,3.3,3.0,3.0,4.1,1.2,4.5,2.4,4.6,3.8,3.1,4.4,4.5,3.9,4.1,4.4,4.4,4.6,3.5,4.9,4.0,4.7,2.5,3.2,2.8],\"xaxis\":\"x\",\"y\":[467,98,59,225,123,154,74,176,115,93,167,101,157,60,18,216,109,37,85,38,49,22,49,88,24,34,116,28,156,88,19,109,52,32,54,15,24,36,74,34,20,2,142,20,26,36,42,40,22,89,157,52,95,30,13,38,45,20,69,19,143,28,20,26,28,18,31,38,25],\"yaxis\":\"y\",\"type\":\"scatter\"}],                        {\"template\":{\"data\":{\"histogram2dcontour\":[{\"type\":\"histogram2dcontour\",\"colorbar\":{\"outlinewidth\":0,\"ticks\":\"\"},\"colorscale\":[[0.0,\"#0d0887\"],[0.1111111111111111,\"#46039f\"],[0.2222222222222222,\"#7201a8\"],[0.3333333333333333,\"#9c179e\"],[0.4444444444444444,\"#bd3786\"],[0.5555555555555556,\"#d8576b\"],[0.6666666666666666,\"#ed7953\"],[0.7777777777777778,\"#fb9f3a\"],[0.8888888888888888,\"#fdca26\"],[1.0,\"#f0f921\"]]}],\"choropleth\":[{\"type\":\"choropleth\",\"colorbar\":{\"outlinewidth\":0,\"ticks\":\"\"}}],\"histogram2d\":[{\"type\":\"histogram2d\",\"colorbar\":{\"outlinewidth\":0,\"ticks\":\"\"},\"colorscale\":[[0.0,\"#0d0887\"],[0.1111111111111111,\"#46039f\"],[0.2222222222222222,\"#7201a8\"],[0.3333333333333333,\"#9c179e\"],[0.4444444444444444,\"#bd3786\"],[0.5555555555555556,\"#d8576b\"],[0.6666666666666666,\"#ed7953\"],[0.7777777777777778,\"#fb9f3a\"],[0.8888888888888888,\"#fdca26\"],[1.0,\"#f0f921\"]]}],\"heatmap\":[{\"type\":\"heatmap\",\"colorbar\":{\"outlinewidth\":0,\"ticks\":\"\"},\"colorscale\":[[0.0,\"#0d0887\"],[0.1111111111111111,\"#46039f\"],[0.2222222222222222,\"#7201a8\"],[0.3333333333333333,\"#9c179e\"],[0.4444444444444444,\"#bd3786\"],[0.5555555555555556,\"#d8576b\"],[0.6666666666666666,\"#ed7953\"],[0.7777777777777778,\"#fb9f3a\"],[0.8888888888888888,\"#fdca26\"],[1.0,\"#f0f921\"]]}],\"heatmapgl\":[{\"type\":\"heatmapgl\",\"colorbar\":{\"outlinewidth\":0,\"ticks\":\"\"},\"colorscale\":[[0.0,\"#0d0887\"],[0.1111111111111111,\"#46039f\"],[0.2222222222222222,\"#7201a8\"],[0.3333333333333333,\"#9c179e\"],[0.4444444444444444,\"#bd3786\"],[0.5555555555555556,\"#d8576b\"],[0.6666666666666666,\"#ed7953\"],[0.7777777777777778,\"#fb9f3a\"],[0.8888888888888888,\"#fdca26\"],[1.0,\"#f0f921\"]]}],\"contourcarpet\":[{\"type\":\"contourcarpet\",\"colorbar\":{\"outlinewidth\":0,\"ticks\":\"\"}}],\"contour\":[{\"type\":\"contour\",\"colorbar\":{\"outlinewidth\":0,\"ticks\":\"\"},\"colorscale\":[[0.0,\"#0d0887\"],[0.1111111111111111,\"#46039f\"],[0.2222222222222222,\"#7201a8\"],[0.3333333333333333,\"#9c179e\"],[0.4444444444444444,\"#bd3786\"],[0.5555555555555556,\"#d8576b\"],[0.6666666666666666,\"#ed7953\"],[0.7777777777777778,\"#fb9f3a\"],[0.8888888888888888,\"#fdca26\"],[1.0,\"#f0f921\"]]}],\"surface\":[{\"type\":\"surface\",\"colorbar\":{\"outlinewidth\":0,\"ticks\":\"\"},\"colorscale\":[[0.0,\"#0d0887\"],[0.1111111111111111,\"#46039f\"],[0.2222222222222222,\"#7201a8\"],[0.3333333333333333,\"#9c179e\"],[0.4444444444444444,\"#bd3786\"],[0.5555555555555556,\"#d8576b\"],[0.6666666666666666,\"#ed7953\"],[0.7777777777777778,\"#fb9f3a\"],[0.8888888888888888,\"#fdca26\"],[1.0,\"#f0f921\"]]}],\"mesh3d\":[{\"type\":\"mesh3d\",\"colorbar\":{\"outlinewidth\":0,\"ticks\":\"\"}}],\"scatter\":[{\"fillpattern\":{\"fillmode\":\"overlay\",\"size\":10,\"solidity\":0.2},\"type\":\"scatter\"}],\"parcoords\":[{\"type\":\"parcoords\",\"line\":{\"colorbar\":{\"outlinewidth\":0,\"ticks\":\"\"}}}],\"scatterpolargl\":[{\"type\":\"scatterpolargl\",\"marker\":{\"colorbar\":{\"outlinewidth\":0,\"ticks\":\"\"}}}],\"bar\":[{\"error_x\":{\"color\":\"#2a3f5f\"},\"error_y\":{\"color\":\"#2a3f5f\"},\"marker\":{\"line\":{\"color\":\"#E5ECF6\",\"width\":0.5},\"pattern\":{\"fillmode\":\"overlay\",\"size\":10,\"solidity\":0.2}},\"type\":\"bar\"}],\"scattergeo\":[{\"type\":\"scattergeo\",\"marker\":{\"colorbar\":{\"outlinewidth\":0,\"ticks\":\"\"}}}],\"scatterpolar\":[{\"type\":\"scatterpolar\",\"marker\":{\"colorbar\":{\"outlinewidth\":0,\"ticks\":\"\"}}}],\"histogram\":[{\"marker\":{\"pattern\":{\"fillmode\":\"overlay\",\"size\":10,\"solidity\":0.2}},\"type\":\"histogram\"}],\"scattergl\":[{\"type\":\"scattergl\",\"marker\":{\"colorbar\":{\"outlinewidth\":0,\"ticks\":\"\"}}}],\"scatter3d\":[{\"type\":\"scatter3d\",\"line\":{\"colorbar\":{\"outlinewidth\":0,\"ticks\":\"\"}},\"marker\":{\"colorbar\":{\"outlinewidth\":0,\"ticks\":\"\"}}}],\"scattermapbox\":[{\"type\":\"scattermapbox\",\"marker\":{\"colorbar\":{\"outlinewidth\":0,\"ticks\":\"\"}}}],\"scatterternary\":[{\"type\":\"scatterternary\",\"marker\":{\"colorbar\":{\"outlinewidth\":0,\"ticks\":\"\"}}}],\"scattercarpet\":[{\"type\":\"scattercarpet\",\"marker\":{\"colorbar\":{\"outlinewidth\":0,\"ticks\":\"\"}}}],\"carpet\":[{\"aaxis\":{\"endlinecolor\":\"#2a3f5f\",\"gridcolor\":\"white\",\"linecolor\":\"white\",\"minorgridcolor\":\"white\",\"startlinecolor\":\"#2a3f5f\"},\"baxis\":{\"endlinecolor\":\"#2a3f5f\",\"gridcolor\":\"white\",\"linecolor\":\"white\",\"minorgridcolor\":\"white\",\"startlinecolor\":\"#2a3f5f\"},\"type\":\"carpet\"}],\"table\":[{\"cells\":{\"fill\":{\"color\":\"#EBF0F8\"},\"line\":{\"color\":\"white\"}},\"header\":{\"fill\":{\"color\":\"#C8D4E3\"},\"line\":{\"color\":\"white\"}},\"type\":\"table\"}],\"barpolar\":[{\"marker\":{\"line\":{\"color\":\"#E5ECF6\",\"width\":0.5},\"pattern\":{\"fillmode\":\"overlay\",\"size\":10,\"solidity\":0.2}},\"type\":\"barpolar\"}],\"pie\":[{\"automargin\":true,\"type\":\"pie\"}]},\"layout\":{\"autotypenumbers\":\"strict\",\"colorway\":[\"#636efa\",\"#EF553B\",\"#00cc96\",\"#ab63fa\",\"#FFA15A\",\"#19d3f3\",\"#FF6692\",\"#B6E880\",\"#FF97FF\",\"#FECB52\"],\"font\":{\"color\":\"#2a3f5f\"},\"hovermode\":\"closest\",\"hoverlabel\":{\"align\":\"left\"},\"paper_bgcolor\":\"white\",\"plot_bgcolor\":\"#E5ECF6\",\"polar\":{\"bgcolor\":\"#E5ECF6\",\"angularaxis\":{\"gridcolor\":\"white\",\"linecolor\":\"white\",\"ticks\":\"\"},\"radialaxis\":{\"gridcolor\":\"white\",\"linecolor\":\"white\",\"ticks\":\"\"}},\"ternary\":{\"bgcolor\":\"#E5ECF6\",\"aaxis\":{\"gridcolor\":\"white\",\"linecolor\":\"white\",\"ticks\":\"\"},\"baxis\":{\"gridcolor\":\"white\",\"linecolor\":\"white\",\"ticks\":\"\"},\"caxis\":{\"gridcolor\":\"white\",\"linecolor\":\"white\",\"ticks\":\"\"}},\"coloraxis\":{\"colorbar\":{\"outlinewidth\":0,\"ticks\":\"\"}},\"colorscale\":{\"sequential\":[[0.0,\"#0d0887\"],[0.1111111111111111,\"#46039f\"],[0.2222222222222222,\"#7201a8\"],[0.3333333333333333,\"#9c179e\"],[0.4444444444444444,\"#bd3786\"],[0.5555555555555556,\"#d8576b\"],[0.6666666666666666,\"#ed7953\"],[0.7777777777777778,\"#fb9f3a\"],[0.8888888888888888,\"#fdca26\"],[1.0,\"#f0f921\"]],\"sequentialminus\":[[0.0,\"#0d0887\"],[0.1111111111111111,\"#46039f\"],[0.2222222222222222,\"#7201a8\"],[0.3333333333333333,\"#9c179e\"],[0.4444444444444444,\"#bd3786\"],[0.5555555555555556,\"#d8576b\"],[0.6666666666666666,\"#ed7953\"],[0.7777777777777778,\"#fb9f3a\"],[0.8888888888888888,\"#fdca26\"],[1.0,\"#f0f921\"]],\"diverging\":[[0,\"#8e0152\"],[0.1,\"#c51b7d\"],[0.2,\"#de77ae\"],[0.3,\"#f1b6da\"],[0.4,\"#fde0ef\"],[0.5,\"#f7f7f7\"],[0.6,\"#e6f5d0\"],[0.7,\"#b8e186\"],[0.8,\"#7fbc41\"],[0.9,\"#4d9221\"],[1,\"#276419\"]]},\"xaxis\":{\"gridcolor\":\"white\",\"linecolor\":\"white\",\"ticks\":\"\",\"title\":{\"standoff\":15},\"zerolinecolor\":\"white\",\"automargin\":true,\"zerolinewidth\":2},\"yaxis\":{\"gridcolor\":\"white\",\"linecolor\":\"white\",\"ticks\":\"\",\"title\":{\"standoff\":15},\"zerolinecolor\":\"white\",\"automargin\":true,\"zerolinewidth\":2},\"scene\":{\"xaxis\":{\"backgroundcolor\":\"#E5ECF6\",\"gridcolor\":\"white\",\"linecolor\":\"white\",\"showbackground\":true,\"ticks\":\"\",\"zerolinecolor\":\"white\",\"gridwidth\":2},\"yaxis\":{\"backgroundcolor\":\"#E5ECF6\",\"gridcolor\":\"white\",\"linecolor\":\"white\",\"showbackground\":true,\"ticks\":\"\",\"zerolinecolor\":\"white\",\"gridwidth\":2},\"zaxis\":{\"backgroundcolor\":\"#E5ECF6\",\"gridcolor\":\"white\",\"linecolor\":\"white\",\"showbackground\":true,\"ticks\":\"\",\"zerolinecolor\":\"white\",\"gridwidth\":2}},\"shapedefaults\":{\"line\":{\"color\":\"#2a3f5f\"}},\"annotationdefaults\":{\"arrowcolor\":\"#2a3f5f\",\"arrowhead\":0,\"arrowwidth\":1},\"geo\":{\"bgcolor\":\"white\",\"landcolor\":\"#E5ECF6\",\"subunitcolor\":\"white\",\"showland\":true,\"showlakes\":true,\"lakecolor\":\"white\"},\"title\":{\"x\":0.05},\"mapbox\":{\"style\":\"light\"}}},\"xaxis\":{\"anchor\":\"y\",\"domain\":[0.0,1.0],\"title\":{\"text\":\"Ratings\"}},\"yaxis\":{\"anchor\":\"x\",\"domain\":[0.0,1.0],\"title\":{\"text\":\"No. of Ratings\"}},\"legend\":{\"title\":{\"text\":\"Brand\",\"font\":{\"size\":17}},\"tracegroupgap\":0,\"itemsizing\":\"constant\"},\"margin\":{\"t\":60},\"font\":{\"family\":\"Arial\",\"size\":14},\"title\":{\"font\":{\"size\":22,\"color\":\"Darkblue\"},\"text\":\"Scatter Plot of Ratings and Rating Counts\",\"x\":0.5}},                        {\"responsive\": true}                    ).then(function(){\n",
       "                            \n",
       "var gd = document.getElementById('8f06098b-8b4a-4cac-9d1f-737c8cb38a01');\n",
       "var x = new MutationObserver(function (mutations, observer) {{\n",
       "        var display = window.getComputedStyle(gd).display;\n",
       "        if (!display || display === 'none') {{\n",
       "            console.log([gd, 'removed!']);\n",
       "            Plotly.purge(gd);\n",
       "            observer.disconnect();\n",
       "        }}\n",
       "}});\n",
       "\n",
       "// Listen for the removal of the full notebook cells\n",
       "var notebookContainer = gd.closest('#notebook-container');\n",
       "if (notebookContainer) {{\n",
       "    x.observe(notebookContainer, {childList: true});\n",
       "}}\n",
       "\n",
       "// Listen for the clearing of the current output cell\n",
       "var outputEl = gd.closest('.output');\n",
       "if (outputEl) {{\n",
       "    x.observe(outputEl, {childList: true});\n",
       "}}\n",
       "\n",
       "                        })                };                });            </script>        </div>"
      ]
     },
     "metadata": {},
     "output_type": "display_data"
    }
   ],
   "source": [
    "# scatterplot of rating and counts\n",
    "\n",
    "fig = px.scatter(df, x='rating', y='rating_count',\n",
    "                 hover_data=['name', 'brand'], color='brand', symbol = 'brand', size = \"rating\",\n",
    "                 labels={'rating':'Ratings',\"rating_count\":\"No. of Ratings\"})\n",
    "\n",
    "# Customize layout\n",
    "fig.update_layout(\n",
    "    legend=dict(title=\"Brand\", title_font_size=17),\n",
    "    font_family=\"Arial\",\n",
    "    font_size=14,\n",
    "    title=dict(text=\"Scatter Plot of Ratings and Rating Counts\", font_size=22, font_color = \"Darkblue\"),title_x=0.5\n",
    ")\n",
    "fig.show()\n"
   ]
  },
  {
   "cell_type": "markdown",
   "id": "d00be0ef",
   "metadata": {
    "id": "JMi1Dn6Wj7CH",
    "papermill": {
     "duration": 0.019699,
     "end_time": "2024-01-28T06:53:33.634996",
     "exception": false,
     "start_time": "2024-01-28T06:53:33.615297",
     "status": "completed"
    },
    "tags": []
   },
   "source": [
    "We can see that maximum ratings are more than 4.Now, we will finidng top ice cream flavors based on rating and rating counts."
   ]
  },
  {
   "cell_type": "code",
   "execution_count": 11,
   "id": "9b6f7e61",
   "metadata": {
    "execution": {
     "iopub.execute_input": "2024-01-28T06:53:33.675859Z",
     "iopub.status.busy": "2024-01-28T06:53:33.675425Z",
     "iopub.status.idle": "2024-01-28T06:53:33.696651Z",
     "shell.execute_reply": "2024-01-28T06:53:33.695538Z"
    },
    "id": "cJbiiOO0aH-y",
    "outputId": "a95ca31e-cf29-43cd-b5e1-e83980cab4ba",
    "papermill": {
     "duration": 0.04508,
     "end_time": "2024-01-28T06:53:33.699663",
     "exception": false,
     "start_time": "2024-01-28T06:53:33.654583",
     "status": "completed"
    },
    "tags": []
   },
   "outputs": [
    {
     "data": {
      "text/html": [
       "<div>\n",
       "<style scoped>\n",
       "    .dataframe tbody tr th:only-of-type {\n",
       "        vertical-align: middle;\n",
       "    }\n",
       "\n",
       "    .dataframe tbody tr th {\n",
       "        vertical-align: top;\n",
       "    }\n",
       "\n",
       "    .dataframe thead th {\n",
       "        text-align: right;\n",
       "    }\n",
       "</style>\n",
       "<table border=\"1\" class=\"dataframe\">\n",
       "  <thead>\n",
       "    <tr style=\"text-align: right;\">\n",
       "      <th></th>\n",
       "      <th>brand</th>\n",
       "      <th>name</th>\n",
       "      <th>rating</th>\n",
       "      <th>rating_count</th>\n",
       "      <th>ingredients</th>\n",
       "    </tr>\n",
       "  </thead>\n",
       "  <tbody>\n",
       "    <tr>\n",
       "      <th>88</th>\n",
       "      <td>hd</td>\n",
       "      <td>Honey Salted Caramel Almond Ice Cream</td>\n",
       "      <td>5.0</td>\n",
       "      <td>103</td>\n",
       "      <td>CREAM, SKIM MILK, SUGAR, SWEETENED CONDENSED M...</td>\n",
       "    </tr>\n",
       "    <tr>\n",
       "      <th>120</th>\n",
       "      <td>hd</td>\n",
       "      <td>Vanilla Caramel White Chocolate TRIO CRISPY LA...</td>\n",
       "      <td>5.0</td>\n",
       "      <td>32</td>\n",
       "      <td>CREAM, SKIM MILK, SUGAR, SWEETENED CONDENSED M...</td>\n",
       "    </tr>\n",
       "    <tr>\n",
       "      <th>29</th>\n",
       "      <td>bj</td>\n",
       "      <td>Ice Cream Sammie</td>\n",
       "      <td>5.0</td>\n",
       "      <td>31</td>\n",
       "      <td>CREAM, SKIM MILK, LIQUID SUGAR (SUGAR, WATER),...</td>\n",
       "    </tr>\n",
       "    <tr>\n",
       "      <th>100</th>\n",
       "      <td>hd</td>\n",
       "      <td>Peppermint Bark Ice Cream</td>\n",
       "      <td>5.0</td>\n",
       "      <td>31</td>\n",
       "      <td>WHITE CHOCOLATE ICE CREAM (CREAM, SKIM MILK, S...</td>\n",
       "    </tr>\n",
       "    <tr>\n",
       "      <th>71</th>\n",
       "      <td>hd</td>\n",
       "      <td>Chocolate Fudge Non-Dairy Bar</td>\n",
       "      <td>5.0</td>\n",
       "      <td>22</td>\n",
       "      <td>WATER, SUGAR, CORN SYRUP, CHOCOLATE, COCONUT O...</td>\n",
       "    </tr>\n",
       "  </tbody>\n",
       "</table>\n",
       "</div>"
      ],
      "text/plain": [
       "    brand                                               name  rating  \\\n",
       "88     hd              Honey Salted Caramel Almond Ice Cream     5.0   \n",
       "120    hd  Vanilla Caramel White Chocolate TRIO CRISPY LA...     5.0   \n",
       "29     bj                                   Ice Cream Sammie     5.0   \n",
       "100    hd                          Peppermint Bark Ice Cream     5.0   \n",
       "71     hd                      Chocolate Fudge Non-Dairy Bar     5.0   \n",
       "\n",
       "     rating_count                                        ingredients  \n",
       "88            103  CREAM, SKIM MILK, SUGAR, SWEETENED CONDENSED M...  \n",
       "120            32  CREAM, SKIM MILK, SUGAR, SWEETENED CONDENSED M...  \n",
       "29             31  CREAM, SKIM MILK, LIQUID SUGAR (SUGAR, WATER),...  \n",
       "100            31  WHITE CHOCOLATE ICE CREAM (CREAM, SKIM MILK, S...  \n",
       "71             22  WATER, SUGAR, CORN SYRUP, CHOCOLATE, COCONUT O...  "
      ]
     },
     "execution_count": 11,
     "metadata": {},
     "output_type": "execute_result"
    }
   ],
   "source": [
    "\n",
    "# Sort and filter data\n",
    "data_top = (\n",
    "    df.sort_values(by=[\"rating\", \"rating_count\"], ascending=False)\n",
    "    .head(10)\n",
    "    #.assign(name=lambda x: pd.Categorical(x[\"name\"], x[\"name\"].unique(), ordered=True))\n",
    ")\n",
    "\n",
    "data_top.head()"
   ]
  },
  {
   "cell_type": "code",
   "execution_count": 12,
   "id": "561139fe",
   "metadata": {
    "execution": {
     "iopub.execute_input": "2024-01-28T06:53:33.742195Z",
     "iopub.status.busy": "2024-01-28T06:53:33.741786Z",
     "iopub.status.idle": "2024-01-28T06:53:33.880849Z",
     "shell.execute_reply": "2024-01-28T06:53:33.879493Z"
    },
    "id": "492RLUuba3Ql",
    "outputId": "4481f458-aedb-4b8b-f83f-6c996c38281f",
    "papermill": {
     "duration": 0.164031,
     "end_time": "2024-01-28T06:53:33.883565",
     "exception": false,
     "start_time": "2024-01-28T06:53:33.719534",
     "status": "completed"
    },
    "tags": []
   },
   "outputs": [
    {
     "data": {
      "text/html": [
       "<div>                            <div id=\"914e377e-db55-438b-a955-9864e639c97d\" class=\"plotly-graph-div\" style=\"height:525px; width:100%;\"></div>            <script type=\"text/javascript\">                require([\"plotly\"], function(Plotly) {                    window.PLOTLYENV=window.PLOTLYENV || {};                                    if (document.getElementById(\"914e377e-db55-438b-a955-9864e639c97d\")) {                    Plotly.newPlot(                        \"914e377e-db55-438b-a955-9864e639c97d\",                        [{\"alignmentgroup\":\"True\",\"customdata\":[[\"hd\",103],[\"hd\",32],[\"hd\",31],[\"hd\",22],[\"hd\",8],[\"hd\",168],[\"hd\",90]],\"hovertemplate\":\"brand=%{customdata[0]}\\u003cbr\\u003ename=%{x}\\u003cbr\\u003eRatings=%{y}\\u003cbr\\u003eNo. of Ratings=%{customdata[1]}\\u003cextra\\u003e\\u003c\\u002fextra\\u003e\",\"legendgroup\":\"hd\",\"marker\":{\"color\":\"#636efa\",\"pattern\":{\"shape\":\"\"}},\"name\":\"hd\",\"offsetgroup\":\"hd\",\"orientation\":\"v\",\"showlegend\":true,\"textposition\":\"auto\",\"texttemplate\":\"%{y}\",\"x\":[\"Honey Salted Caramel Almond Ice Cream\",\"Vanilla Caramel White Chocolate TRIO CRISPY LAYERS\",\"Peppermint Bark Ice Cream\",\"Chocolate Fudge Non-Dairy Bar\",\"Peppermint Bark Ice Cream Bar\",\"White Chocolate Raspberry Truffle Ice Cream\",\"Chocolate Ice Cream\"],\"xaxis\":\"x\",\"y\":[5.0,5.0,5.0,5.0,5.0,4.9,4.9],\"yaxis\":\"y\",\"type\":\"bar\"},{\"alignmentgroup\":\"True\",\"customdata\":[[\"bj\",31],[\"bj\",7]],\"hovertemplate\":\"brand=%{customdata[0]}\\u003cbr\\u003ename=%{x}\\u003cbr\\u003eRatings=%{y}\\u003cbr\\u003eNo. of Ratings=%{customdata[1]}\\u003cextra\\u003e\\u003c\\u002fextra\\u003e\",\"legendgroup\":\"bj\",\"marker\":{\"color\":\"#EF553B\",\"pattern\":{\"shape\":\"\"}},\"name\":\"bj\",\"offsetgroup\":\"bj\",\"orientation\":\"v\",\"showlegend\":true,\"textposition\":\"auto\",\"texttemplate\":\"%{y}\",\"x\":[\"Ice Cream Sammie\",\"Chocolate Peanut Butter Split\"],\"xaxis\":\"x\",\"y\":[5.0,5.0],\"yaxis\":\"y\",\"type\":\"bar\"},{\"alignmentgroup\":\"True\",\"customdata\":[[\"breyers\",2]],\"hovertemplate\":\"brand=%{customdata[0]}\\u003cbr\\u003ename=%{x}\\u003cbr\\u003eRatings=%{y}\\u003cbr\\u003eNo. of Ratings=%{customdata[1]}\\u003cextra\\u003e\\u003c\\u002fextra\\u003e\",\"legendgroup\":\"breyers\",\"marker\":{\"color\":\"#00cc96\",\"pattern\":{\"shape\":\"\"}},\"name\":\"breyers\",\"offsetgroup\":\"breyers\",\"orientation\":\"v\",\"showlegend\":true,\"textposition\":\"auto\",\"texttemplate\":\"%{y}\",\"x\":[\"OREO® Snack Cups 10ct\"],\"xaxis\":\"x\",\"y\":[5.0],\"yaxis\":\"y\",\"type\":\"bar\"}],                        {\"template\":{\"data\":{\"histogram2dcontour\":[{\"type\":\"histogram2dcontour\",\"colorbar\":{\"outlinewidth\":0,\"ticks\":\"\"},\"colorscale\":[[0.0,\"#0d0887\"],[0.1111111111111111,\"#46039f\"],[0.2222222222222222,\"#7201a8\"],[0.3333333333333333,\"#9c179e\"],[0.4444444444444444,\"#bd3786\"],[0.5555555555555556,\"#d8576b\"],[0.6666666666666666,\"#ed7953\"],[0.7777777777777778,\"#fb9f3a\"],[0.8888888888888888,\"#fdca26\"],[1.0,\"#f0f921\"]]}],\"choropleth\":[{\"type\":\"choropleth\",\"colorbar\":{\"outlinewidth\":0,\"ticks\":\"\"}}],\"histogram2d\":[{\"type\":\"histogram2d\",\"colorbar\":{\"outlinewidth\":0,\"ticks\":\"\"},\"colorscale\":[[0.0,\"#0d0887\"],[0.1111111111111111,\"#46039f\"],[0.2222222222222222,\"#7201a8\"],[0.3333333333333333,\"#9c179e\"],[0.4444444444444444,\"#bd3786\"],[0.5555555555555556,\"#d8576b\"],[0.6666666666666666,\"#ed7953\"],[0.7777777777777778,\"#fb9f3a\"],[0.8888888888888888,\"#fdca26\"],[1.0,\"#f0f921\"]]}],\"heatmap\":[{\"type\":\"heatmap\",\"colorbar\":{\"outlinewidth\":0,\"ticks\":\"\"},\"colorscale\":[[0.0,\"#0d0887\"],[0.1111111111111111,\"#46039f\"],[0.2222222222222222,\"#7201a8\"],[0.3333333333333333,\"#9c179e\"],[0.4444444444444444,\"#bd3786\"],[0.5555555555555556,\"#d8576b\"],[0.6666666666666666,\"#ed7953\"],[0.7777777777777778,\"#fb9f3a\"],[0.8888888888888888,\"#fdca26\"],[1.0,\"#f0f921\"]]}],\"heatmapgl\":[{\"type\":\"heatmapgl\",\"colorbar\":{\"outlinewidth\":0,\"ticks\":\"\"},\"colorscale\":[[0.0,\"#0d0887\"],[0.1111111111111111,\"#46039f\"],[0.2222222222222222,\"#7201a8\"],[0.3333333333333333,\"#9c179e\"],[0.4444444444444444,\"#bd3786\"],[0.5555555555555556,\"#d8576b\"],[0.6666666666666666,\"#ed7953\"],[0.7777777777777778,\"#fb9f3a\"],[0.8888888888888888,\"#fdca26\"],[1.0,\"#f0f921\"]]}],\"contourcarpet\":[{\"type\":\"contourcarpet\",\"colorbar\":{\"outlinewidth\":0,\"ticks\":\"\"}}],\"contour\":[{\"type\":\"contour\",\"colorbar\":{\"outlinewidth\":0,\"ticks\":\"\"},\"colorscale\":[[0.0,\"#0d0887\"],[0.1111111111111111,\"#46039f\"],[0.2222222222222222,\"#7201a8\"],[0.3333333333333333,\"#9c179e\"],[0.4444444444444444,\"#bd3786\"],[0.5555555555555556,\"#d8576b\"],[0.6666666666666666,\"#ed7953\"],[0.7777777777777778,\"#fb9f3a\"],[0.8888888888888888,\"#fdca26\"],[1.0,\"#f0f921\"]]}],\"surface\":[{\"type\":\"surface\",\"colorbar\":{\"outlinewidth\":0,\"ticks\":\"\"},\"colorscale\":[[0.0,\"#0d0887\"],[0.1111111111111111,\"#46039f\"],[0.2222222222222222,\"#7201a8\"],[0.3333333333333333,\"#9c179e\"],[0.4444444444444444,\"#bd3786\"],[0.5555555555555556,\"#d8576b\"],[0.6666666666666666,\"#ed7953\"],[0.7777777777777778,\"#fb9f3a\"],[0.8888888888888888,\"#fdca26\"],[1.0,\"#f0f921\"]]}],\"mesh3d\":[{\"type\":\"mesh3d\",\"colorbar\":{\"outlinewidth\":0,\"ticks\":\"\"}}],\"scatter\":[{\"fillpattern\":{\"fillmode\":\"overlay\",\"size\":10,\"solidity\":0.2},\"type\":\"scatter\"}],\"parcoords\":[{\"type\":\"parcoords\",\"line\":{\"colorbar\":{\"outlinewidth\":0,\"ticks\":\"\"}}}],\"scatterpolargl\":[{\"type\":\"scatterpolargl\",\"marker\":{\"colorbar\":{\"outlinewidth\":0,\"ticks\":\"\"}}}],\"bar\":[{\"error_x\":{\"color\":\"#2a3f5f\"},\"error_y\":{\"color\":\"#2a3f5f\"},\"marker\":{\"line\":{\"color\":\"#E5ECF6\",\"width\":0.5},\"pattern\":{\"fillmode\":\"overlay\",\"size\":10,\"solidity\":0.2}},\"type\":\"bar\"}],\"scattergeo\":[{\"type\":\"scattergeo\",\"marker\":{\"colorbar\":{\"outlinewidth\":0,\"ticks\":\"\"}}}],\"scatterpolar\":[{\"type\":\"scatterpolar\",\"marker\":{\"colorbar\":{\"outlinewidth\":0,\"ticks\":\"\"}}}],\"histogram\":[{\"marker\":{\"pattern\":{\"fillmode\":\"overlay\",\"size\":10,\"solidity\":0.2}},\"type\":\"histogram\"}],\"scattergl\":[{\"type\":\"scattergl\",\"marker\":{\"colorbar\":{\"outlinewidth\":0,\"ticks\":\"\"}}}],\"scatter3d\":[{\"type\":\"scatter3d\",\"line\":{\"colorbar\":{\"outlinewidth\":0,\"ticks\":\"\"}},\"marker\":{\"colorbar\":{\"outlinewidth\":0,\"ticks\":\"\"}}}],\"scattermapbox\":[{\"type\":\"scattermapbox\",\"marker\":{\"colorbar\":{\"outlinewidth\":0,\"ticks\":\"\"}}}],\"scatterternary\":[{\"type\":\"scatterternary\",\"marker\":{\"colorbar\":{\"outlinewidth\":0,\"ticks\":\"\"}}}],\"scattercarpet\":[{\"type\":\"scattercarpet\",\"marker\":{\"colorbar\":{\"outlinewidth\":0,\"ticks\":\"\"}}}],\"carpet\":[{\"aaxis\":{\"endlinecolor\":\"#2a3f5f\",\"gridcolor\":\"white\",\"linecolor\":\"white\",\"minorgridcolor\":\"white\",\"startlinecolor\":\"#2a3f5f\"},\"baxis\":{\"endlinecolor\":\"#2a3f5f\",\"gridcolor\":\"white\",\"linecolor\":\"white\",\"minorgridcolor\":\"white\",\"startlinecolor\":\"#2a3f5f\"},\"type\":\"carpet\"}],\"table\":[{\"cells\":{\"fill\":{\"color\":\"#EBF0F8\"},\"line\":{\"color\":\"white\"}},\"header\":{\"fill\":{\"color\":\"#C8D4E3\"},\"line\":{\"color\":\"white\"}},\"type\":\"table\"}],\"barpolar\":[{\"marker\":{\"line\":{\"color\":\"#E5ECF6\",\"width\":0.5},\"pattern\":{\"fillmode\":\"overlay\",\"size\":10,\"solidity\":0.2}},\"type\":\"barpolar\"}],\"pie\":[{\"automargin\":true,\"type\":\"pie\"}]},\"layout\":{\"autotypenumbers\":\"strict\",\"colorway\":[\"#636efa\",\"#EF553B\",\"#00cc96\",\"#ab63fa\",\"#FFA15A\",\"#19d3f3\",\"#FF6692\",\"#B6E880\",\"#FF97FF\",\"#FECB52\"],\"font\":{\"color\":\"#2a3f5f\"},\"hovermode\":\"closest\",\"hoverlabel\":{\"align\":\"left\"},\"paper_bgcolor\":\"white\",\"plot_bgcolor\":\"#E5ECF6\",\"polar\":{\"bgcolor\":\"#E5ECF6\",\"angularaxis\":{\"gridcolor\":\"white\",\"linecolor\":\"white\",\"ticks\":\"\"},\"radialaxis\":{\"gridcolor\":\"white\",\"linecolor\":\"white\",\"ticks\":\"\"}},\"ternary\":{\"bgcolor\":\"#E5ECF6\",\"aaxis\":{\"gridcolor\":\"white\",\"linecolor\":\"white\",\"ticks\":\"\"},\"baxis\":{\"gridcolor\":\"white\",\"linecolor\":\"white\",\"ticks\":\"\"},\"caxis\":{\"gridcolor\":\"white\",\"linecolor\":\"white\",\"ticks\":\"\"}},\"coloraxis\":{\"colorbar\":{\"outlinewidth\":0,\"ticks\":\"\"}},\"colorscale\":{\"sequential\":[[0.0,\"#0d0887\"],[0.1111111111111111,\"#46039f\"],[0.2222222222222222,\"#7201a8\"],[0.3333333333333333,\"#9c179e\"],[0.4444444444444444,\"#bd3786\"],[0.5555555555555556,\"#d8576b\"],[0.6666666666666666,\"#ed7953\"],[0.7777777777777778,\"#fb9f3a\"],[0.8888888888888888,\"#fdca26\"],[1.0,\"#f0f921\"]],\"sequentialminus\":[[0.0,\"#0d0887\"],[0.1111111111111111,\"#46039f\"],[0.2222222222222222,\"#7201a8\"],[0.3333333333333333,\"#9c179e\"],[0.4444444444444444,\"#bd3786\"],[0.5555555555555556,\"#d8576b\"],[0.6666666666666666,\"#ed7953\"],[0.7777777777777778,\"#fb9f3a\"],[0.8888888888888888,\"#fdca26\"],[1.0,\"#f0f921\"]],\"diverging\":[[0,\"#8e0152\"],[0.1,\"#c51b7d\"],[0.2,\"#de77ae\"],[0.3,\"#f1b6da\"],[0.4,\"#fde0ef\"],[0.5,\"#f7f7f7\"],[0.6,\"#e6f5d0\"],[0.7,\"#b8e186\"],[0.8,\"#7fbc41\"],[0.9,\"#4d9221\"],[1,\"#276419\"]]},\"xaxis\":{\"gridcolor\":\"white\",\"linecolor\":\"white\",\"ticks\":\"\",\"title\":{\"standoff\":15},\"zerolinecolor\":\"white\",\"automargin\":true,\"zerolinewidth\":2},\"yaxis\":{\"gridcolor\":\"white\",\"linecolor\":\"white\",\"ticks\":\"\",\"title\":{\"standoff\":15},\"zerolinecolor\":\"white\",\"automargin\":true,\"zerolinewidth\":2},\"scene\":{\"xaxis\":{\"backgroundcolor\":\"#E5ECF6\",\"gridcolor\":\"white\",\"linecolor\":\"white\",\"showbackground\":true,\"ticks\":\"\",\"zerolinecolor\":\"white\",\"gridwidth\":2},\"yaxis\":{\"backgroundcolor\":\"#E5ECF6\",\"gridcolor\":\"white\",\"linecolor\":\"white\",\"showbackground\":true,\"ticks\":\"\",\"zerolinecolor\":\"white\",\"gridwidth\":2},\"zaxis\":{\"backgroundcolor\":\"#E5ECF6\",\"gridcolor\":\"white\",\"linecolor\":\"white\",\"showbackground\":true,\"ticks\":\"\",\"zerolinecolor\":\"white\",\"gridwidth\":2}},\"shapedefaults\":{\"line\":{\"color\":\"#2a3f5f\"}},\"annotationdefaults\":{\"arrowcolor\":\"#2a3f5f\",\"arrowhead\":0,\"arrowwidth\":1},\"geo\":{\"bgcolor\":\"white\",\"landcolor\":\"#E5ECF6\",\"subunitcolor\":\"white\",\"showland\":true,\"showlakes\":true,\"lakecolor\":\"white\"},\"title\":{\"x\":0.05},\"mapbox\":{\"style\":\"light\"}}},\"xaxis\":{\"anchor\":\"y\",\"domain\":[0.0,1.0],\"title\":{\"text\":\"name\"}},\"yaxis\":{\"anchor\":\"x\",\"domain\":[0.0,1.0],\"title\":{\"text\":\"Ratings\"},\"range\":[0,6]},\"legend\":{\"title\":{\"text\":\"Brand\",\"font\":{\"size\":17}},\"tracegroupgap\":0},\"margin\":{\"t\":60},\"barmode\":\"relative\",\"font\":{\"family\":\"Arial\",\"size\":14},\"title\":{\"font\":{\"size\":22,\"color\":\"Darkblue\"},\"text\":\"Top flavored Ice creams by ratings\",\"x\":0.5}},                        {\"responsive\": true}                    ).then(function(){\n",
       "                            \n",
       "var gd = document.getElementById('914e377e-db55-438b-a955-9864e639c97d');\n",
       "var x = new MutationObserver(function (mutations, observer) {{\n",
       "        var display = window.getComputedStyle(gd).display;\n",
       "        if (!display || display === 'none') {{\n",
       "            console.log([gd, 'removed!']);\n",
       "            Plotly.purge(gd);\n",
       "            observer.disconnect();\n",
       "        }}\n",
       "}});\n",
       "\n",
       "// Listen for the removal of the full notebook cells\n",
       "var notebookContainer = gd.closest('#notebook-container');\n",
       "if (notebookContainer) {{\n",
       "    x.observe(notebookContainer, {childList: true});\n",
       "}}\n",
       "\n",
       "// Listen for the clearing of the current output cell\n",
       "var outputEl = gd.closest('.output');\n",
       "if (outputEl) {{\n",
       "    x.observe(outputEl, {childList: true});\n",
       "}}\n",
       "\n",
       "                        })                };                });            </script>        </div>"
      ]
     },
     "metadata": {},
     "output_type": "display_data"
    }
   ],
   "source": [
    "fig = px.bar(data_top, x='name', y='rating',\n",
    "             hover_data=['brand', 'rating_count'], color='brand',text_auto=True,\n",
    "             labels={'rating':'Ratings',\"rating_count\":\"No. of Ratings\"})\n",
    "\n",
    "# Customize layout\n",
    "fig.update_layout(\n",
    "    legend=dict(title=\"Brand\", title_font_size=17),\n",
    "    font_family=\"Arial\",\n",
    "    font_size=14,\n",
    "    title=dict(text=\"Top flavored Ice creams by ratings\", font_size=22, font_color = \"Darkblue\"),title_x=0.5\n",
    ")\n",
    "fig.update_yaxes(range=[0, 6])\n",
    "#fig.update_traces(text=data_top['rating'], textposition=\"outside\",texttemplate=\"%{text:.2f}\")\n",
    "fig.show()"
   ]
  },
  {
   "cell_type": "markdown",
   "id": "868aad70",
   "metadata": {
    "id": "paR4jc3bkLPQ",
    "papermill": {
     "duration": 0.021925,
     "end_time": "2024-01-28T06:53:33.925008",
     "exception": false,
     "start_time": "2024-01-28T06:53:33.903083",
     "status": "completed"
    },
    "tags": []
   },
   "source": [
    "We can see that in top ice creams 70% are from hd brand and 20% from bj and 10% from breyers and talenti has no ice cream among top 10."
   ]
  },
  {
   "cell_type": "markdown",
   "id": "1e533b99",
   "metadata": {
    "id": "u_N7mOvzloXY",
    "papermill": {
     "duration": 0.019636,
     "end_time": "2024-01-28T06:53:33.966417",
     "exception": false,
     "start_time": "2024-01-28T06:53:33.946781",
     "status": "completed"
    },
    "tags": []
   },
   "source": [
    "Now we will find most less favorite ice creams."
   ]
  },
  {
   "cell_type": "code",
   "execution_count": 13,
   "id": "ef122cc3",
   "metadata": {
    "execution": {
     "iopub.execute_input": "2024-01-28T06:53:34.011950Z",
     "iopub.status.busy": "2024-01-28T06:53:34.011199Z",
     "iopub.status.idle": "2024-01-28T06:53:34.028157Z",
     "shell.execute_reply": "2024-01-28T06:53:34.026862Z"
    },
    "id": "2vQBLupxme3w",
    "outputId": "6ce0bfbf-3abc-491e-9931-02b701ad6f19",
    "papermill": {
     "duration": 0.042941,
     "end_time": "2024-01-28T06:53:34.030875",
     "exception": false,
     "start_time": "2024-01-28T06:53:33.987934",
     "status": "completed"
    },
    "tags": []
   },
   "outputs": [
    {
     "data": {
      "text/html": [
       "<div>\n",
       "<style scoped>\n",
       "    .dataframe tbody tr th:only-of-type {\n",
       "        vertical-align: middle;\n",
       "    }\n",
       "\n",
       "    .dataframe tbody tr th {\n",
       "        vertical-align: top;\n",
       "    }\n",
       "\n",
       "    .dataframe thead th {\n",
       "        text-align: right;\n",
       "    }\n",
       "</style>\n",
       "<table border=\"1\" class=\"dataframe\">\n",
       "  <thead>\n",
       "    <tr style=\"text-align: right;\">\n",
       "      <th></th>\n",
       "      <th>brand</th>\n",
       "      <th>name</th>\n",
       "      <th>rating</th>\n",
       "      <th>rating_count</th>\n",
       "      <th>ingredients</th>\n",
       "    </tr>\n",
       "  </thead>\n",
       "  <tbody>\n",
       "    <tr>\n",
       "      <th>221</th>\n",
       "      <td>breyers</td>\n",
       "      <td>Chocolate Chip Cookie Dough</td>\n",
       "      <td>1.2</td>\n",
       "      <td>89</td>\n",
       "      <td>MILK, SUGAR, CORN SYRUP, CREAM, ENRICHED WHEAT...</td>\n",
       "    </tr>\n",
       "    <tr>\n",
       "      <th>50</th>\n",
       "      <td>bj</td>\n",
       "      <td>Chocolate Chip Cookie Dough Core</td>\n",
       "      <td>1.8</td>\n",
       "      <td>166</td>\n",
       "      <td>CREAM, SKIM MILK, WATER, LIQUID SUGAR (SUGAR, ...</td>\n",
       "    </tr>\n",
       "    <tr>\n",
       "      <th>223</th>\n",
       "      <td>breyers</td>\n",
       "      <td>Coffee</td>\n",
       "      <td>2.4</td>\n",
       "      <td>52</td>\n",
       "      <td>MILK, CORN SYRUP, SUGAR, CREAM, COFFEE EXTRACT...</td>\n",
       "    </tr>\n",
       "    <tr>\n",
       "      <th>238</th>\n",
       "      <td>breyers</td>\n",
       "      <td>Layered Dessert S'mores</td>\n",
       "      <td>2.5</td>\n",
       "      <td>31</td>\n",
       "      <td>MILK, CORN SYRUP, SUGAR, WHEAT FLOUR, BUTTER, ...</td>\n",
       "    </tr>\n",
       "    <tr>\n",
       "      <th>123</th>\n",
       "      <td>hd</td>\n",
       "      <td>Vanilla Milk Chocolate Almond Ice Cream Bar</td>\n",
       "      <td>2.5</td>\n",
       "      <td>224</td>\n",
       "      <td>CREAM, SKIM MILK, SUGAR, EGG YOLKS, MILK CHOCO...</td>\n",
       "    </tr>\n",
       "  </tbody>\n",
       "</table>\n",
       "</div>"
      ],
      "text/plain": [
       "       brand                                         name  rating  \\\n",
       "221  breyers                  Chocolate Chip Cookie Dough     1.2   \n",
       "50        bj             Chocolate Chip Cookie Dough Core     1.8   \n",
       "223  breyers                                       Coffee     2.4   \n",
       "238  breyers                      Layered Dessert S'mores     2.5   \n",
       "123       hd  Vanilla Milk Chocolate Almond Ice Cream Bar     2.5   \n",
       "\n",
       "     rating_count                                        ingredients  \n",
       "221            89  MILK, SUGAR, CORN SYRUP, CREAM, ENRICHED WHEAT...  \n",
       "50            166  CREAM, SKIM MILK, WATER, LIQUID SUGAR (SUGAR, ...  \n",
       "223            52  MILK, CORN SYRUP, SUGAR, CREAM, COFFEE EXTRACT...  \n",
       "238            31  MILK, CORN SYRUP, SUGAR, WHEAT FLOUR, BUTTER, ...  \n",
       "123           224  CREAM, SKIM MILK, SUGAR, EGG YOLKS, MILK CHOCO...  "
      ]
     },
     "execution_count": 13,
     "metadata": {},
     "output_type": "execute_result"
    }
   ],
   "source": [
    "# Sort and filter data\n",
    "data_bot = (\n",
    "    df.sort_values(by=[\"rating\", \"rating_count\"], ascending=True)\n",
    "    .head(10)\n",
    "    #.assign(name=lambda x: pd.Categorical(x[\"name\"], x[\"name\"].unique(), ordered=True))\n",
    ")\n",
    "\n",
    "data_bot.head()"
   ]
  },
  {
   "cell_type": "code",
   "execution_count": 14,
   "id": "a8d7b7f8",
   "metadata": {
    "execution": {
     "iopub.execute_input": "2024-01-28T06:53:34.075476Z",
     "iopub.status.busy": "2024-01-28T06:53:34.075080Z",
     "iopub.status.idle": "2024-01-28T06:53:34.185142Z",
     "shell.execute_reply": "2024-01-28T06:53:34.183793Z"
    },
    "id": "LlG08olNmlWm",
    "outputId": "23b1d7c5-596a-4343-80e7-b5e8e5737351",
    "papermill": {
     "duration": 0.135967,
     "end_time": "2024-01-28T06:53:34.188039",
     "exception": false,
     "start_time": "2024-01-28T06:53:34.052072",
     "status": "completed"
    },
    "tags": []
   },
   "outputs": [
    {
     "data": {
      "text/html": [
       "<div>                            <div id=\"492043e5-d538-4c3c-a0f0-a12b96b17216\" class=\"plotly-graph-div\" style=\"height:525px; width:100%;\"></div>            <script type=\"text/javascript\">                require([\"plotly\"], function(Plotly) {                    window.PLOTLYENV=window.PLOTLYENV || {};                                    if (document.getElementById(\"492043e5-d538-4c3c-a0f0-a12b96b17216\")) {                    Plotly.newPlot(                        \"492043e5-d538-4c3c-a0f0-a12b96b17216\",                        [{\"alignmentgroup\":\"True\",\"customdata\":[[\"breyers\",89],[\"breyers\",52],[\"breyers\",31],[\"breyers\",74],[\"breyers\",25],[\"breyers\",88]],\"hovertemplate\":\"brand=%{customdata[0]}\\u003cbr\\u003ename=%{x}\\u003cbr\\u003eRatings=%{y}\\u003cbr\\u003eNo. of Ratings=%{customdata[1]}\\u003cextra\\u003e\\u003c\\u002fextra\\u003e\",\"legendgroup\":\"breyers\",\"marker\":{\"color\":\"#636efa\",\"pattern\":{\"shape\":\"\"}},\"name\":\"breyers\",\"offsetgroup\":\"breyers\",\"orientation\":\"v\",\"showlegend\":true,\"textposition\":\"auto\",\"texttemplate\":\"%{y}\",\"x\":[\"Chocolate Chip Cookie Dough\",\"Coffee\",\"Layered Dessert S'mores\",\"Butter Pecan\",\"Layered Dessert Brownie Cheesecake\",\"CarbSmart™ Peanut Butter\"],\"xaxis\":\"x\",\"y\":[1.2,2.4,2.5,2.6,2.8,2.8],\"yaxis\":\"y\",\"type\":\"bar\"},{\"alignmentgroup\":\"True\",\"customdata\":[[\"bj\",166]],\"hovertemplate\":\"brand=%{customdata[0]}\\u003cbr\\u003ename=%{x}\\u003cbr\\u003eRatings=%{y}\\u003cbr\\u003eNo. of Ratings=%{customdata[1]}\\u003cextra\\u003e\\u003c\\u002fextra\\u003e\",\"legendgroup\":\"bj\",\"marker\":{\"color\":\"#EF553B\",\"pattern\":{\"shape\":\"\"}},\"name\":\"bj\",\"offsetgroup\":\"bj\",\"orientation\":\"v\",\"showlegend\":true,\"textposition\":\"auto\",\"texttemplate\":\"%{y}\",\"x\":[\"Chocolate Chip Cookie Dough Core\"],\"xaxis\":\"x\",\"y\":[1.8],\"yaxis\":\"y\",\"type\":\"bar\"},{\"alignmentgroup\":\"True\",\"customdata\":[[\"hd\",224],[\"hd\",25],[\"hd\",25]],\"hovertemplate\":\"brand=%{customdata[0]}\\u003cbr\\u003ename=%{x}\\u003cbr\\u003eRatings=%{y}\\u003cbr\\u003eNo. of Ratings=%{customdata[1]}\\u003cextra\\u003e\\u003c\\u002fextra\\u003e\",\"legendgroup\":\"hd\",\"marker\":{\"color\":\"#00cc96\",\"pattern\":{\"shape\":\"\"}},\"name\":\"hd\",\"offsetgroup\":\"hd\",\"orientation\":\"v\",\"showlegend\":true,\"textposition\":\"auto\",\"texttemplate\":\"%{y}\",\"x\":[\"Vanilla Milk Chocolate Almond Ice Cream Bar\",\"Chocolate Soft Dipped Ice Cream Bar\",\"Peanut Butter Chip HEAVEN Light Ice Cream\"],\"xaxis\":\"x\",\"y\":[2.5,2.6,2.7],\"yaxis\":\"y\",\"type\":\"bar\"}],                        {\"template\":{\"data\":{\"histogram2dcontour\":[{\"type\":\"histogram2dcontour\",\"colorbar\":{\"outlinewidth\":0,\"ticks\":\"\"},\"colorscale\":[[0.0,\"#0d0887\"],[0.1111111111111111,\"#46039f\"],[0.2222222222222222,\"#7201a8\"],[0.3333333333333333,\"#9c179e\"],[0.4444444444444444,\"#bd3786\"],[0.5555555555555556,\"#d8576b\"],[0.6666666666666666,\"#ed7953\"],[0.7777777777777778,\"#fb9f3a\"],[0.8888888888888888,\"#fdca26\"],[1.0,\"#f0f921\"]]}],\"choropleth\":[{\"type\":\"choropleth\",\"colorbar\":{\"outlinewidth\":0,\"ticks\":\"\"}}],\"histogram2d\":[{\"type\":\"histogram2d\",\"colorbar\":{\"outlinewidth\":0,\"ticks\":\"\"},\"colorscale\":[[0.0,\"#0d0887\"],[0.1111111111111111,\"#46039f\"],[0.2222222222222222,\"#7201a8\"],[0.3333333333333333,\"#9c179e\"],[0.4444444444444444,\"#bd3786\"],[0.5555555555555556,\"#d8576b\"],[0.6666666666666666,\"#ed7953\"],[0.7777777777777778,\"#fb9f3a\"],[0.8888888888888888,\"#fdca26\"],[1.0,\"#f0f921\"]]}],\"heatmap\":[{\"type\":\"heatmap\",\"colorbar\":{\"outlinewidth\":0,\"ticks\":\"\"},\"colorscale\":[[0.0,\"#0d0887\"],[0.1111111111111111,\"#46039f\"],[0.2222222222222222,\"#7201a8\"],[0.3333333333333333,\"#9c179e\"],[0.4444444444444444,\"#bd3786\"],[0.5555555555555556,\"#d8576b\"],[0.6666666666666666,\"#ed7953\"],[0.7777777777777778,\"#fb9f3a\"],[0.8888888888888888,\"#fdca26\"],[1.0,\"#f0f921\"]]}],\"heatmapgl\":[{\"type\":\"heatmapgl\",\"colorbar\":{\"outlinewidth\":0,\"ticks\":\"\"},\"colorscale\":[[0.0,\"#0d0887\"],[0.1111111111111111,\"#46039f\"],[0.2222222222222222,\"#7201a8\"],[0.3333333333333333,\"#9c179e\"],[0.4444444444444444,\"#bd3786\"],[0.5555555555555556,\"#d8576b\"],[0.6666666666666666,\"#ed7953\"],[0.7777777777777778,\"#fb9f3a\"],[0.8888888888888888,\"#fdca26\"],[1.0,\"#f0f921\"]]}],\"contourcarpet\":[{\"type\":\"contourcarpet\",\"colorbar\":{\"outlinewidth\":0,\"ticks\":\"\"}}],\"contour\":[{\"type\":\"contour\",\"colorbar\":{\"outlinewidth\":0,\"ticks\":\"\"},\"colorscale\":[[0.0,\"#0d0887\"],[0.1111111111111111,\"#46039f\"],[0.2222222222222222,\"#7201a8\"],[0.3333333333333333,\"#9c179e\"],[0.4444444444444444,\"#bd3786\"],[0.5555555555555556,\"#d8576b\"],[0.6666666666666666,\"#ed7953\"],[0.7777777777777778,\"#fb9f3a\"],[0.8888888888888888,\"#fdca26\"],[1.0,\"#f0f921\"]]}],\"surface\":[{\"type\":\"surface\",\"colorbar\":{\"outlinewidth\":0,\"ticks\":\"\"},\"colorscale\":[[0.0,\"#0d0887\"],[0.1111111111111111,\"#46039f\"],[0.2222222222222222,\"#7201a8\"],[0.3333333333333333,\"#9c179e\"],[0.4444444444444444,\"#bd3786\"],[0.5555555555555556,\"#d8576b\"],[0.6666666666666666,\"#ed7953\"],[0.7777777777777778,\"#fb9f3a\"],[0.8888888888888888,\"#fdca26\"],[1.0,\"#f0f921\"]]}],\"mesh3d\":[{\"type\":\"mesh3d\",\"colorbar\":{\"outlinewidth\":0,\"ticks\":\"\"}}],\"scatter\":[{\"fillpattern\":{\"fillmode\":\"overlay\",\"size\":10,\"solidity\":0.2},\"type\":\"scatter\"}],\"parcoords\":[{\"type\":\"parcoords\",\"line\":{\"colorbar\":{\"outlinewidth\":0,\"ticks\":\"\"}}}],\"scatterpolargl\":[{\"type\":\"scatterpolargl\",\"marker\":{\"colorbar\":{\"outlinewidth\":0,\"ticks\":\"\"}}}],\"bar\":[{\"error_x\":{\"color\":\"#2a3f5f\"},\"error_y\":{\"color\":\"#2a3f5f\"},\"marker\":{\"line\":{\"color\":\"#E5ECF6\",\"width\":0.5},\"pattern\":{\"fillmode\":\"overlay\",\"size\":10,\"solidity\":0.2}},\"type\":\"bar\"}],\"scattergeo\":[{\"type\":\"scattergeo\",\"marker\":{\"colorbar\":{\"outlinewidth\":0,\"ticks\":\"\"}}}],\"scatterpolar\":[{\"type\":\"scatterpolar\",\"marker\":{\"colorbar\":{\"outlinewidth\":0,\"ticks\":\"\"}}}],\"histogram\":[{\"marker\":{\"pattern\":{\"fillmode\":\"overlay\",\"size\":10,\"solidity\":0.2}},\"type\":\"histogram\"}],\"scattergl\":[{\"type\":\"scattergl\",\"marker\":{\"colorbar\":{\"outlinewidth\":0,\"ticks\":\"\"}}}],\"scatter3d\":[{\"type\":\"scatter3d\",\"line\":{\"colorbar\":{\"outlinewidth\":0,\"ticks\":\"\"}},\"marker\":{\"colorbar\":{\"outlinewidth\":0,\"ticks\":\"\"}}}],\"scattermapbox\":[{\"type\":\"scattermapbox\",\"marker\":{\"colorbar\":{\"outlinewidth\":0,\"ticks\":\"\"}}}],\"scatterternary\":[{\"type\":\"scatterternary\",\"marker\":{\"colorbar\":{\"outlinewidth\":0,\"ticks\":\"\"}}}],\"scattercarpet\":[{\"type\":\"scattercarpet\",\"marker\":{\"colorbar\":{\"outlinewidth\":0,\"ticks\":\"\"}}}],\"carpet\":[{\"aaxis\":{\"endlinecolor\":\"#2a3f5f\",\"gridcolor\":\"white\",\"linecolor\":\"white\",\"minorgridcolor\":\"white\",\"startlinecolor\":\"#2a3f5f\"},\"baxis\":{\"endlinecolor\":\"#2a3f5f\",\"gridcolor\":\"white\",\"linecolor\":\"white\",\"minorgridcolor\":\"white\",\"startlinecolor\":\"#2a3f5f\"},\"type\":\"carpet\"}],\"table\":[{\"cells\":{\"fill\":{\"color\":\"#EBF0F8\"},\"line\":{\"color\":\"white\"}},\"header\":{\"fill\":{\"color\":\"#C8D4E3\"},\"line\":{\"color\":\"white\"}},\"type\":\"table\"}],\"barpolar\":[{\"marker\":{\"line\":{\"color\":\"#E5ECF6\",\"width\":0.5},\"pattern\":{\"fillmode\":\"overlay\",\"size\":10,\"solidity\":0.2}},\"type\":\"barpolar\"}],\"pie\":[{\"automargin\":true,\"type\":\"pie\"}]},\"layout\":{\"autotypenumbers\":\"strict\",\"colorway\":[\"#636efa\",\"#EF553B\",\"#00cc96\",\"#ab63fa\",\"#FFA15A\",\"#19d3f3\",\"#FF6692\",\"#B6E880\",\"#FF97FF\",\"#FECB52\"],\"font\":{\"color\":\"#2a3f5f\"},\"hovermode\":\"closest\",\"hoverlabel\":{\"align\":\"left\"},\"paper_bgcolor\":\"white\",\"plot_bgcolor\":\"#E5ECF6\",\"polar\":{\"bgcolor\":\"#E5ECF6\",\"angularaxis\":{\"gridcolor\":\"white\",\"linecolor\":\"white\",\"ticks\":\"\"},\"radialaxis\":{\"gridcolor\":\"white\",\"linecolor\":\"white\",\"ticks\":\"\"}},\"ternary\":{\"bgcolor\":\"#E5ECF6\",\"aaxis\":{\"gridcolor\":\"white\",\"linecolor\":\"white\",\"ticks\":\"\"},\"baxis\":{\"gridcolor\":\"white\",\"linecolor\":\"white\",\"ticks\":\"\"},\"caxis\":{\"gridcolor\":\"white\",\"linecolor\":\"white\",\"ticks\":\"\"}},\"coloraxis\":{\"colorbar\":{\"outlinewidth\":0,\"ticks\":\"\"}},\"colorscale\":{\"sequential\":[[0.0,\"#0d0887\"],[0.1111111111111111,\"#46039f\"],[0.2222222222222222,\"#7201a8\"],[0.3333333333333333,\"#9c179e\"],[0.4444444444444444,\"#bd3786\"],[0.5555555555555556,\"#d8576b\"],[0.6666666666666666,\"#ed7953\"],[0.7777777777777778,\"#fb9f3a\"],[0.8888888888888888,\"#fdca26\"],[1.0,\"#f0f921\"]],\"sequentialminus\":[[0.0,\"#0d0887\"],[0.1111111111111111,\"#46039f\"],[0.2222222222222222,\"#7201a8\"],[0.3333333333333333,\"#9c179e\"],[0.4444444444444444,\"#bd3786\"],[0.5555555555555556,\"#d8576b\"],[0.6666666666666666,\"#ed7953\"],[0.7777777777777778,\"#fb9f3a\"],[0.8888888888888888,\"#fdca26\"],[1.0,\"#f0f921\"]],\"diverging\":[[0,\"#8e0152\"],[0.1,\"#c51b7d\"],[0.2,\"#de77ae\"],[0.3,\"#f1b6da\"],[0.4,\"#fde0ef\"],[0.5,\"#f7f7f7\"],[0.6,\"#e6f5d0\"],[0.7,\"#b8e186\"],[0.8,\"#7fbc41\"],[0.9,\"#4d9221\"],[1,\"#276419\"]]},\"xaxis\":{\"gridcolor\":\"white\",\"linecolor\":\"white\",\"ticks\":\"\",\"title\":{\"standoff\":15},\"zerolinecolor\":\"white\",\"automargin\":true,\"zerolinewidth\":2},\"yaxis\":{\"gridcolor\":\"white\",\"linecolor\":\"white\",\"ticks\":\"\",\"title\":{\"standoff\":15},\"zerolinecolor\":\"white\",\"automargin\":true,\"zerolinewidth\":2},\"scene\":{\"xaxis\":{\"backgroundcolor\":\"#E5ECF6\",\"gridcolor\":\"white\",\"linecolor\":\"white\",\"showbackground\":true,\"ticks\":\"\",\"zerolinecolor\":\"white\",\"gridwidth\":2},\"yaxis\":{\"backgroundcolor\":\"#E5ECF6\",\"gridcolor\":\"white\",\"linecolor\":\"white\",\"showbackground\":true,\"ticks\":\"\",\"zerolinecolor\":\"white\",\"gridwidth\":2},\"zaxis\":{\"backgroundcolor\":\"#E5ECF6\",\"gridcolor\":\"white\",\"linecolor\":\"white\",\"showbackground\":true,\"ticks\":\"\",\"zerolinecolor\":\"white\",\"gridwidth\":2}},\"shapedefaults\":{\"line\":{\"color\":\"#2a3f5f\"}},\"annotationdefaults\":{\"arrowcolor\":\"#2a3f5f\",\"arrowhead\":0,\"arrowwidth\":1},\"geo\":{\"bgcolor\":\"white\",\"landcolor\":\"#E5ECF6\",\"subunitcolor\":\"white\",\"showland\":true,\"showlakes\":true,\"lakecolor\":\"white\"},\"title\":{\"x\":0.05},\"mapbox\":{\"style\":\"light\"}}},\"xaxis\":{\"anchor\":\"y\",\"domain\":[0.0,1.0],\"title\":{\"text\":\"name\"}},\"yaxis\":{\"anchor\":\"x\",\"domain\":[0.0,1.0],\"title\":{\"text\":\"Ratings\"},\"range\":[0,6]},\"legend\":{\"title\":{\"text\":\"Brand\",\"font\":{\"size\":17}},\"tracegroupgap\":0},\"margin\":{\"t\":60},\"barmode\":\"relative\",\"font\":{\"family\":\"Arial\",\"size\":14},\"title\":{\"font\":{\"size\":22,\"color\":\"Darkblue\"},\"text\":\"Less favouirte flavored Ice creams by ratings\",\"x\":0.5}},                        {\"responsive\": true}                    ).then(function(){\n",
       "                            \n",
       "var gd = document.getElementById('492043e5-d538-4c3c-a0f0-a12b96b17216');\n",
       "var x = new MutationObserver(function (mutations, observer) {{\n",
       "        var display = window.getComputedStyle(gd).display;\n",
       "        if (!display || display === 'none') {{\n",
       "            console.log([gd, 'removed!']);\n",
       "            Plotly.purge(gd);\n",
       "            observer.disconnect();\n",
       "        }}\n",
       "}});\n",
       "\n",
       "// Listen for the removal of the full notebook cells\n",
       "var notebookContainer = gd.closest('#notebook-container');\n",
       "if (notebookContainer) {{\n",
       "    x.observe(notebookContainer, {childList: true});\n",
       "}}\n",
       "\n",
       "// Listen for the clearing of the current output cell\n",
       "var outputEl = gd.closest('.output');\n",
       "if (outputEl) {{\n",
       "    x.observe(outputEl, {childList: true});\n",
       "}}\n",
       "\n",
       "                        })                };                });            </script>        </div>"
      ]
     },
     "metadata": {},
     "output_type": "display_data"
    }
   ],
   "source": [
    "fig = px.bar(data_bot, x='name', y='rating',\n",
    "             hover_data=['brand', 'rating_count'], color='brand',\n",
    "             labels={'rating':'Ratings',\"rating_count\":\"No. of Ratings\"},text_auto=True)\n",
    "\n",
    "# Customize layout\n",
    "fig.update_layout(\n",
    "    legend=dict(title=\"Brand\", title_font_size=17),\n",
    "    font_family=\"Arial\",\n",
    "    font_size=14,\n",
    "    title=dict(text=\"Less favouirte flavored Ice creams by ratings\", font_size=22, font_color = \"Darkblue\"),title_x=0.5\n",
    ")\n",
    "fig.update_yaxes(range=[0, 6])\n",
    "fig.show()"
   ]
  },
  {
   "cell_type": "code",
   "execution_count": 15,
   "id": "80f9cf78",
   "metadata": {
    "execution": {
     "iopub.execute_input": "2024-01-28T06:53:34.232284Z",
     "iopub.status.busy": "2024-01-28T06:53:34.231137Z",
     "iopub.status.idle": "2024-01-28T06:53:34.251795Z",
     "shell.execute_reply": "2024-01-28T06:53:34.250584Z"
    },
    "id": "3JZ7qpOWMO-n",
    "outputId": "cd1f4d7f-d33a-4b9e-c506-f7335536cc35",
    "papermill": {
     "duration": 0.045055,
     "end_time": "2024-01-28T06:53:34.254515",
     "exception": false,
     "start_time": "2024-01-28T06:53:34.209460",
     "status": "completed"
    },
    "tags": []
   },
   "outputs": [
    {
     "data": {
      "text/html": [
       "<div>\n",
       "<style scoped>\n",
       "    .dataframe tbody tr th:only-of-type {\n",
       "        vertical-align: middle;\n",
       "    }\n",
       "\n",
       "    .dataframe tbody tr th {\n",
       "        vertical-align: top;\n",
       "    }\n",
       "\n",
       "    .dataframe thead th {\n",
       "        text-align: right;\n",
       "    }\n",
       "</style>\n",
       "<table border=\"1\" class=\"dataframe\">\n",
       "  <thead>\n",
       "    <tr style=\"text-align: right;\">\n",
       "      <th></th>\n",
       "      <th>rating</th>\n",
       "      <th>rating_count</th>\n",
       "    </tr>\n",
       "  </thead>\n",
       "  <tbody>\n",
       "    <tr>\n",
       "      <th>count</th>\n",
       "      <td>241.000000</td>\n",
       "      <td>241.000000</td>\n",
       "    </tr>\n",
       "    <tr>\n",
       "      <th>mean</th>\n",
       "      <td>4.223237</td>\n",
       "      <td>90.016598</td>\n",
       "    </tr>\n",
       "    <tr>\n",
       "      <th>std</th>\n",
       "      <td>0.620383</td>\n",
       "      <td>111.349449</td>\n",
       "    </tr>\n",
       "    <tr>\n",
       "      <th>min</th>\n",
       "      <td>1.200000</td>\n",
       "      <td>2.000000</td>\n",
       "    </tr>\n",
       "    <tr>\n",
       "      <th>25%</th>\n",
       "      <td>4.000000</td>\n",
       "      <td>28.000000</td>\n",
       "    </tr>\n",
       "    <tr>\n",
       "      <th>50%</th>\n",
       "      <td>4.400000</td>\n",
       "      <td>59.000000</td>\n",
       "    </tr>\n",
       "    <tr>\n",
       "      <th>75%</th>\n",
       "      <td>4.700000</td>\n",
       "      <td>112.000000</td>\n",
       "    </tr>\n",
       "    <tr>\n",
       "      <th>max</th>\n",
       "      <td>5.000000</td>\n",
       "      <td>983.000000</td>\n",
       "    </tr>\n",
       "  </tbody>\n",
       "</table>\n",
       "</div>"
      ],
      "text/plain": [
       "           rating  rating_count\n",
       "count  241.000000    241.000000\n",
       "mean     4.223237     90.016598\n",
       "std      0.620383    111.349449\n",
       "min      1.200000      2.000000\n",
       "25%      4.000000     28.000000\n",
       "50%      4.400000     59.000000\n",
       "75%      4.700000    112.000000\n",
       "max      5.000000    983.000000"
      ]
     },
     "execution_count": 15,
     "metadata": {},
     "output_type": "execute_result"
    }
   ],
   "source": [
    "df.describe()"
   ]
  },
  {
   "cell_type": "markdown",
   "id": "39ddacb9",
   "metadata": {
    "id": "MiNujQCLRE0s",
    "papermill": {
     "duration": 0.020431,
     "end_time": "2024-01-28T06:53:34.295694",
     "exception": false,
     "start_time": "2024-01-28T06:53:34.275263",
     "status": "completed"
    },
    "tags": []
   },
   "source": [
    "The summary statistics for the \"rating\" variable reveal a range from 1.2 to 5, with an average of 4.22 and a median of 4.4, indicating a generally positive reception of the ice cream flavors. The low standard deviation of 0.62 suggests a relatively consistent level of satisfaction among customers. On the other hand, the \"rating_count\" variable exhibits a broader range, spanning from 2 to 983, with an average count of 90.02 and a median of 59.0. The higher standard deviation of 111.35 implies substantial variability in the number of ratings received by different flavors, reflecting diverse levels of customer engagement. Overall, these statistics provide a comprehensive overview of both the satisfaction levels and the extent of customer participation in rating the ice cream flavors."
   ]
  },
  {
   "cell_type": "markdown",
   "id": "549bb36c",
   "metadata": {
    "id": "qX8Uh_Vs5G0K",
    "papermill": {
     "duration": 0.020212,
     "end_time": "2024-01-28T06:53:34.336758",
     "exception": false,
     "start_time": "2024-01-28T06:53:34.316546",
     "status": "completed"
    },
    "tags": []
   },
   "source": [
    "**Now we will find the common ingredients of ice creams**"
   ]
  },
  {
   "cell_type": "code",
   "execution_count": 16,
   "id": "bf23ef06",
   "metadata": {
    "execution": {
     "iopub.execute_input": "2024-01-28T06:53:34.382549Z",
     "iopub.status.busy": "2024-01-28T06:53:34.382106Z",
     "iopub.status.idle": "2024-01-28T06:53:34.392353Z",
     "shell.execute_reply": "2024-01-28T06:53:34.391155Z"
    },
    "id": "CG60f-GWMeQk",
    "outputId": "c3f78c6e-0e48-4bdc-a782-e8880f6c6280",
    "papermill": {
     "duration": 0.035428,
     "end_time": "2024-01-28T06:53:34.395227",
     "exception": false,
     "start_time": "2024-01-28T06:53:34.359799",
     "status": "completed"
    },
    "tags": []
   },
   "outputs": [],
   "source": [
    "\n",
    "# Select the \"ingredients\" column and remove spaces\n",
    "ingredients = df[\"ingredients\"].str.replace(r\"\\s+\", \"\")\n",
    "# Replace specific patterns\n",
    "ingredients = ingredients.str.replace(r\"(SUGAR,WATER)\", \"SUGARWATER\")\n",
    "ingredients = ingredients.str.replace(r\"(CREAM,SALT)\", \"CREAMSALT\")\n",
    "ingredients = ingredients.str.replace(\",\", \" \")"
   ]
  },
  {
   "cell_type": "code",
   "execution_count": 17,
   "id": "b33b2b49",
   "metadata": {
    "execution": {
     "iopub.execute_input": "2024-01-28T06:53:34.439157Z",
     "iopub.status.busy": "2024-01-28T06:53:34.438388Z",
     "iopub.status.idle": "2024-01-28T06:53:34.831101Z",
     "shell.execute_reply": "2024-01-28T06:53:34.829388Z"
    },
    "id": "rdrCEiauNHCX",
    "papermill": {
     "duration": 0.417886,
     "end_time": "2024-01-28T06:53:34.834141",
     "exception": false,
     "start_time": "2024-01-28T06:53:34.416255",
     "status": "completed"
    },
    "tags": []
   },
   "outputs": [],
   "source": [
    "word_cloud = WordCloud(collocations = False, background_color = 'white').generate(', '.join(ingredients))"
   ]
  },
  {
   "cell_type": "code",
   "execution_count": 18,
   "id": "04fe018f",
   "metadata": {
    "execution": {
     "iopub.execute_input": "2024-01-28T06:53:34.876900Z",
     "iopub.status.busy": "2024-01-28T06:53:34.876464Z",
     "iopub.status.idle": "2024-01-28T06:53:35.165091Z",
     "shell.execute_reply": "2024-01-28T06:53:35.163735Z"
    },
    "id": "D1A2z9AMNcJ_",
    "outputId": "2ffa6dea-fe08-4752-b791-242d05711a2d",
    "papermill": {
     "duration": 0.314431,
     "end_time": "2024-01-28T06:53:35.168988",
     "exception": false,
     "start_time": "2024-01-28T06:53:34.854557",
     "status": "completed"
    },
    "tags": []
   },
   "outputs": [
    {
     "data": {
      "image/png": "[encoded data removed]",
      "text/plain": [
       "<Figure size 640x480 with 1 Axes>"
      ]
     },
     "metadata": {},
     "output_type": "display_data"
    }
   ],
   "source": [
    "plt.imshow(word_cloud, interpolation='bilinear')\n",
    "plt.axis(\"off\")\n",
    "plt.show()"
   ]
  },
  {
   "cell_type": "markdown",
   "id": "ab2bc2e6",
   "metadata": {
    "id": "I71VUDOWlfxC",
    "papermill": {
     "duration": 0.024382,
     "end_time": "2024-01-28T06:53:35.217021",
     "exception": false,
     "start_time": "2024-01-28T06:53:35.192639",
     "status": "completed"
    },
    "tags": []
   },
   "source": [
    "We can see taht Sugar and Cream are mostly common used ingredients."
   ]
  },
  {
   "cell_type": "markdown",
   "id": "a2437fa5",
   "metadata": {
    "id": "cn3dg0T61BSx",
    "papermill": {
     "duration": 0.023517,
     "end_time": "2024-01-28T06:53:35.266106",
     "exception": false,
     "start_time": "2024-01-28T06:53:35.242589",
     "status": "completed"
    },
    "tags": []
   },
   "source": [
    "# Ratings by brands"
   ]
  },
  {
   "cell_type": "code",
   "execution_count": 19,
   "id": "f4660696",
   "metadata": {
    "execution": {
     "iopub.execute_input": "2024-01-28T06:53:35.315819Z",
     "iopub.status.busy": "2024-01-28T06:53:35.315365Z",
     "iopub.status.idle": "2024-01-28T06:53:35.457728Z",
     "shell.execute_reply": "2024-01-28T06:53:35.456294Z"
    },
    "id": "egY9c_R98jhc",
    "outputId": "821c7fcd-89c7-48d0-a0cf-fcf959f2f3ef",
    "papermill": {
     "duration": 0.171998,
     "end_time": "2024-01-28T06:53:35.461105",
     "exception": false,
     "start_time": "2024-01-28T06:53:35.289107",
     "status": "completed"
    },
    "tags": []
   },
   "outputs": [
    {
     "data": {
      "text/html": [
       "<div>                            <div id=\"1998df26-c4b2-4a2a-a4ff-0aa9aca12a00\" class=\"plotly-graph-div\" style=\"height:525px; width:100%;\"></div>            <script type=\"text/javascript\">                require([\"plotly\"], function(Plotly) {                    window.PLOTLYENV=window.PLOTLYENV || {};                                    if (document.getElementById(\"1998df26-c4b2-4a2a-a4ff-0aa9aca12a00\")) {                    Plotly.newPlot(                        \"1998df26-c4b2-4a2a-a4ff-0aa9aca12a00\",                        [{\"alignmentgroup\":\"True\",\"hovertemplate\":\"Brands=%{x}\\u003cbr\\u003eRatings=%{y}\\u003cextra\\u003e\\u003c\\u002fextra\\u003e\",\"legendgroup\":\"bj\",\"marker\":{\"color\":\"#636efa\"},\"name\":\"bj\",\"notched\":false,\"offsetgroup\":\"bj\",\"orientation\":\"v\",\"showlegend\":true,\"x\":[\"bj\",\"bj\",\"bj\",\"bj\",\"bj\",\"bj\",\"bj\",\"bj\",\"bj\",\"bj\",\"bj\",\"bj\",\"bj\",\"bj\",\"bj\",\"bj\",\"bj\",\"bj\",\"bj\",\"bj\",\"bj\",\"bj\",\"bj\",\"bj\",\"bj\",\"bj\",\"bj\",\"bj\",\"bj\",\"bj\",\"bj\",\"bj\",\"bj\",\"bj\",\"bj\",\"bj\",\"bj\",\"bj\",\"bj\",\"bj\",\"bj\",\"bj\",\"bj\",\"bj\",\"bj\",\"bj\",\"bj\",\"bj\",\"bj\",\"bj\",\"bj\",\"bj\",\"bj\",\"bj\",\"bj\",\"bj\",\"bj\"],\"x0\":\" \",\"xaxis\":\"x\",\"y\":[3.7,4.0,4.7,3.6,4.5,4.9,4.6,5.0,4.3,4.7,4.7,4.6,4.7,4.0,4.4,3.3,4.6,3.4,3.9,4.8,4.3,4.4,4.6,4.9,2.9,4.6,3.8,4.7,4.7,5.0,4.7,4.4,4.7,4.9,4.5,4.4,4.9,4.8,4.0,4.6,3.4,4.1,4.5,4.7,4.7,4.3,4.2,4.7,4.8,4.6,1.8,4.8,3.3,3.5,4.4,4.2,4.7],\"y0\":\" \",\"yaxis\":\"y\",\"type\":\"box\"},{\"alignmentgroup\":\"True\",\"hovertemplate\":\"Brands=%{x}\\u003cbr\\u003eRatings=%{y}\\u003cextra\\u003e\\u003c\\u002fextra\\u003e\",\"legendgroup\":\"hd\",\"marker\":{\"color\":\"#EF553B\"},\"name\":\"hd\",\"notched\":false,\"offsetgroup\":\"hd\",\"orientation\":\"v\",\"showlegend\":true,\"x\":[\"hd\",\"hd\",\"hd\",\"hd\",\"hd\",\"hd\",\"hd\",\"hd\",\"hd\",\"hd\",\"hd\",\"hd\",\"hd\",\"hd\",\"hd\",\"hd\",\"hd\",\"hd\",\"hd\",\"hd\",\"hd\",\"hd\",\"hd\",\"hd\",\"hd\",\"hd\",\"hd\",\"hd\",\"hd\",\"hd\",\"hd\",\"hd\",\"hd\",\"hd\",\"hd\",\"hd\",\"hd\",\"hd\",\"hd\",\"hd\",\"hd\",\"hd\",\"hd\",\"hd\",\"hd\",\"hd\",\"hd\",\"hd\",\"hd\",\"hd\",\"hd\",\"hd\",\"hd\",\"hd\",\"hd\",\"hd\",\"hd\",\"hd\",\"hd\",\"hd\",\"hd\",\"hd\",\"hd\",\"hd\",\"hd\",\"hd\",\"hd\",\"hd\",\"hd\",\"hd\"],\"x0\":\" \",\"xaxis\":\"x\",\"y\":[4.9,4.7,4.1,4.0,4.3,4.9,4.7,4.8,4.2,4.9,2.6,3.3,4.7,4.5,5.0,4.2,4.8,4.1,4.9,4.6,4.6,4.6,4.3,3.1,4.4,4.5,4.6,4.8,3.9,4.8,4.2,5.0,4.9,4.3,4.8,4.3,4.8,4.6,3.4,4.4,2.7,4.6,4.8,5.0,5.0,4.5,3.8,4.5,4.6,4.4,3.5,4.0,3.5,4.0,3.4,4.8,4.2,3.9,4.3,3.0,4.4,4.5,4.3,5.0,4.5,4.6,2.5,4.3,4.5,3.9],\"y0\":\" \",\"yaxis\":\"y\",\"type\":\"box\"},{\"alignmentgroup\":\"True\",\"hovertemplate\":\"Brands=%{x}\\u003cbr\\u003eRatings=%{y}\\u003cextra\\u003e\\u003c\\u002fextra\\u003e\",\"legendgroup\":\"talenti\",\"marker\":{\"color\":\"#00cc96\"},\"name\":\"talenti\",\"notched\":false,\"offsetgroup\":\"talenti\",\"orientation\":\"v\",\"showlegend\":true,\"x\":[\"talenti\",\"talenti\",\"talenti\",\"talenti\",\"talenti\",\"talenti\",\"talenti\",\"talenti\",\"talenti\",\"talenti\",\"talenti\",\"talenti\",\"talenti\",\"talenti\",\"talenti\",\"talenti\",\"talenti\",\"talenti\",\"talenti\",\"talenti\",\"talenti\",\"talenti\",\"talenti\",\"talenti\",\"talenti\",\"talenti\",\"talenti\",\"talenti\",\"talenti\",\"talenti\",\"talenti\",\"talenti\",\"talenti\",\"talenti\",\"talenti\",\"talenti\",\"talenti\",\"talenti\",\"talenti\",\"talenti\",\"talenti\",\"talenti\",\"talenti\",\"talenti\",\"talenti\"],\"x0\":\" \",\"xaxis\":\"x\",\"y\":[4.7,4.2,4.8,4.0,4.5,4.8,4.2,4.5,4.3,2.8,4.4,4.8,4.3,4.5,4.4,4.5,4.2,4.2,4.3,4.7,4.3,3.6,4.2,3.9,4.7,4.7,4.6,4.5,4.3,4.7,4.8,4.5,4.7,4.6,4.4,4.6,3.9,4.7,4.7,4.1,4.2,4.4,3.9,3.6,4.3],\"y0\":\" \",\"yaxis\":\"y\",\"type\":\"box\"},{\"alignmentgroup\":\"True\",\"hovertemplate\":\"Brands=%{x}\\u003cbr\\u003eRatings=%{y}\\u003cextra\\u003e\\u003c\\u002fextra\\u003e\",\"legendgroup\":\"breyers\",\"marker\":{\"color\":\"#ab63fa\"},\"name\":\"breyers\",\"notched\":false,\"offsetgroup\":\"breyers\",\"orientation\":\"v\",\"showlegend\":true,\"x\":[\"breyers\",\"breyers\",\"breyers\",\"breyers\",\"breyers\",\"breyers\",\"breyers\",\"breyers\",\"breyers\",\"breyers\",\"breyers\",\"breyers\",\"breyers\",\"breyers\",\"breyers\",\"breyers\",\"breyers\",\"breyers\",\"breyers\",\"breyers\",\"breyers\",\"breyers\",\"breyers\",\"breyers\",\"breyers\",\"breyers\",\"breyers\",\"breyers\",\"breyers\",\"breyers\",\"breyers\",\"breyers\",\"breyers\",\"breyers\",\"breyers\",\"breyers\",\"breyers\",\"breyers\",\"breyers\",\"breyers\",\"breyers\",\"breyers\",\"breyers\",\"breyers\",\"breyers\",\"breyers\",\"breyers\",\"breyers\",\"breyers\",\"breyers\",\"breyers\",\"breyers\",\"breyers\",\"breyers\",\"breyers\",\"breyers\",\"breyers\",\"breyers\",\"breyers\",\"breyers\",\"breyers\",\"breyers\",\"breyers\",\"breyers\",\"breyers\",\"breyers\",\"breyers\",\"breyers\",\"breyers\"],\"x0\":\" \",\"xaxis\":\"x\",\"y\":[4.1,4.4,4.4,4.7,4.5,4.0,4.5,4.4,3.3,3.9,4.2,4.5,4.0,3.9,4.4,4.2,4.2,4.2,4.5,4.1,3.0,4.0,4.0,2.8,4.7,4.3,4.8,4.5,3.9,3.3,4.9,4.4,3.9,4.3,3.3,4.3,4.2,3.3,2.6,4.4,4.6,5.0,4.2,3.6,3.8,3.3,3.0,3.0,4.1,1.2,4.5,2.4,4.6,3.8,3.1,4.4,4.5,3.9,4.1,4.4,4.4,4.6,3.5,4.9,4.0,4.7,2.5,3.2,2.8],\"y0\":\" \",\"yaxis\":\"y\",\"type\":\"box\"}],                        {\"template\":{\"data\":{\"histogram2dcontour\":[{\"type\":\"histogram2dcontour\",\"colorbar\":{\"outlinewidth\":0,\"ticks\":\"\"},\"colorscale\":[[0.0,\"#0d0887\"],[0.1111111111111111,\"#46039f\"],[0.2222222222222222,\"#7201a8\"],[0.3333333333333333,\"#9c179e\"],[0.4444444444444444,\"#bd3786\"],[0.5555555555555556,\"#d8576b\"],[0.6666666666666666,\"#ed7953\"],[0.7777777777777778,\"#fb9f3a\"],[0.8888888888888888,\"#fdca26\"],[1.0,\"#f0f921\"]]}],\"choropleth\":[{\"type\":\"choropleth\",\"colorbar\":{\"outlinewidth\":0,\"ticks\":\"\"}}],\"histogram2d\":[{\"type\":\"histogram2d\",\"colorbar\":{\"outlinewidth\":0,\"ticks\":\"\"},\"colorscale\":[[0.0,\"#0d0887\"],[0.1111111111111111,\"#46039f\"],[0.2222222222222222,\"#7201a8\"],[0.3333333333333333,\"#9c179e\"],[0.4444444444444444,\"#bd3786\"],[0.5555555555555556,\"#d8576b\"],[0.6666666666666666,\"#ed7953\"],[0.7777777777777778,\"#fb9f3a\"],[0.8888888888888888,\"#fdca26\"],[1.0,\"#f0f921\"]]}],\"heatmap\":[{\"type\":\"heatmap\",\"colorbar\":{\"outlinewidth\":0,\"ticks\":\"\"},\"colorscale\":[[0.0,\"#0d0887\"],[0.1111111111111111,\"#46039f\"],[0.2222222222222222,\"#7201a8\"],[0.3333333333333333,\"#9c179e\"],[0.4444444444444444,\"#bd3786\"],[0.5555555555555556,\"#d8576b\"],[0.6666666666666666,\"#ed7953\"],[0.7777777777777778,\"#fb9f3a\"],[0.8888888888888888,\"#fdca26\"],[1.0,\"#f0f921\"]]}],\"heatmapgl\":[{\"type\":\"heatmapgl\",\"colorbar\":{\"outlinewidth\":0,\"ticks\":\"\"},\"colorscale\":[[0.0,\"#0d0887\"],[0.1111111111111111,\"#46039f\"],[0.2222222222222222,\"#7201a8\"],[0.3333333333333333,\"#9c179e\"],[0.4444444444444444,\"#bd3786\"],[0.5555555555555556,\"#d8576b\"],[0.6666666666666666,\"#ed7953\"],[0.7777777777777778,\"#fb9f3a\"],[0.8888888888888888,\"#fdca26\"],[1.0,\"#f0f921\"]]}],\"contourcarpet\":[{\"type\":\"contourcarpet\",\"colorbar\":{\"outlinewidth\":0,\"ticks\":\"\"}}],\"contour\":[{\"type\":\"contour\",\"colorbar\":{\"outlinewidth\":0,\"ticks\":\"\"},\"colorscale\":[[0.0,\"#0d0887\"],[0.1111111111111111,\"#46039f\"],[0.2222222222222222,\"#7201a8\"],[0.3333333333333333,\"#9c179e\"],[0.4444444444444444,\"#bd3786\"],[0.5555555555555556,\"#d8576b\"],[0.6666666666666666,\"#ed7953\"],[0.7777777777777778,\"#fb9f3a\"],[0.8888888888888888,\"#fdca26\"],[1.0,\"#f0f921\"]]}],\"surface\":[{\"type\":\"surface\",\"colorbar\":{\"outlinewidth\":0,\"ticks\":\"\"},\"colorscale\":[[0.0,\"#0d0887\"],[0.1111111111111111,\"#46039f\"],[0.2222222222222222,\"#7201a8\"],[0.3333333333333333,\"#9c179e\"],[0.4444444444444444,\"#bd3786\"],[0.5555555555555556,\"#d8576b\"],[0.6666666666666666,\"#ed7953\"],[0.7777777777777778,\"#fb9f3a\"],[0.8888888888888888,\"#fdca26\"],[1.0,\"#f0f921\"]]}],\"mesh3d\":[{\"type\":\"mesh3d\",\"colorbar\":{\"outlinewidth\":0,\"ticks\":\"\"}}],\"scatter\":[{\"fillpattern\":{\"fillmode\":\"overlay\",\"size\":10,\"solidity\":0.2},\"type\":\"scatter\"}],\"parcoords\":[{\"type\":\"parcoords\",\"line\":{\"colorbar\":{\"outlinewidth\":0,\"ticks\":\"\"}}}],\"scatterpolargl\":[{\"type\":\"scatterpolargl\",\"marker\":{\"colorbar\":{\"outlinewidth\":0,\"ticks\":\"\"}}}],\"bar\":[{\"error_x\":{\"color\":\"#2a3f5f\"},\"error_y\":{\"color\":\"#2a3f5f\"},\"marker\":{\"line\":{\"color\":\"#E5ECF6\",\"width\":0.5},\"pattern\":{\"fillmode\":\"overlay\",\"size\":10,\"solidity\":0.2}},\"type\":\"bar\"}],\"scattergeo\":[{\"type\":\"scattergeo\",\"marker\":{\"colorbar\":{\"outlinewidth\":0,\"ticks\":\"\"}}}],\"scatterpolar\":[{\"type\":\"scatterpolar\",\"marker\":{\"colorbar\":{\"outlinewidth\":0,\"ticks\":\"\"}}}],\"histogram\":[{\"marker\":{\"pattern\":{\"fillmode\":\"overlay\",\"size\":10,\"solidity\":0.2}},\"type\":\"histogram\"}],\"scattergl\":[{\"type\":\"scattergl\",\"marker\":{\"colorbar\":{\"outlinewidth\":0,\"ticks\":\"\"}}}],\"scatter3d\":[{\"type\":\"scatter3d\",\"line\":{\"colorbar\":{\"outlinewidth\":0,\"ticks\":\"\"}},\"marker\":{\"colorbar\":{\"outlinewidth\":0,\"ticks\":\"\"}}}],\"scattermapbox\":[{\"type\":\"scattermapbox\",\"marker\":{\"colorbar\":{\"outlinewidth\":0,\"ticks\":\"\"}}}],\"scatterternary\":[{\"type\":\"scatterternary\",\"marker\":{\"colorbar\":{\"outlinewidth\":0,\"ticks\":\"\"}}}],\"scattercarpet\":[{\"type\":\"scattercarpet\",\"marker\":{\"colorbar\":{\"outlinewidth\":0,\"ticks\":\"\"}}}],\"carpet\":[{\"aaxis\":{\"endlinecolor\":\"#2a3f5f\",\"gridcolor\":\"white\",\"linecolor\":\"white\",\"minorgridcolor\":\"white\",\"startlinecolor\":\"#2a3f5f\"},\"baxis\":{\"endlinecolor\":\"#2a3f5f\",\"gridcolor\":\"white\",\"linecolor\":\"white\",\"minorgridcolor\":\"white\",\"startlinecolor\":\"#2a3f5f\"},\"type\":\"carpet\"}],\"table\":[{\"cells\":{\"fill\":{\"color\":\"#EBF0F8\"},\"line\":{\"color\":\"white\"}},\"header\":{\"fill\":{\"color\":\"#C8D4E3\"},\"line\":{\"color\":\"white\"}},\"type\":\"table\"}],\"barpolar\":[{\"marker\":{\"line\":{\"color\":\"#E5ECF6\",\"width\":0.5},\"pattern\":{\"fillmode\":\"overlay\",\"size\":10,\"solidity\":0.2}},\"type\":\"barpolar\"}],\"pie\":[{\"automargin\":true,\"type\":\"pie\"}]},\"layout\":{\"autotypenumbers\":\"strict\",\"colorway\":[\"#636efa\",\"#EF553B\",\"#00cc96\",\"#ab63fa\",\"#FFA15A\",\"#19d3f3\",\"#FF6692\",\"#B6E880\",\"#FF97FF\",\"#FECB52\"],\"font\":{\"color\":\"#2a3f5f\"},\"hovermode\":\"closest\",\"hoverlabel\":{\"align\":\"left\"},\"paper_bgcolor\":\"white\",\"plot_bgcolor\":\"#E5ECF6\",\"polar\":{\"bgcolor\":\"#E5ECF6\",\"angularaxis\":{\"gridcolor\":\"white\",\"linecolor\":\"white\",\"ticks\":\"\"},\"radialaxis\":{\"gridcolor\":\"white\",\"linecolor\":\"white\",\"ticks\":\"\"}},\"ternary\":{\"bgcolor\":\"#E5ECF6\",\"aaxis\":{\"gridcolor\":\"white\",\"linecolor\":\"white\",\"ticks\":\"\"},\"baxis\":{\"gridcolor\":\"white\",\"linecolor\":\"white\",\"ticks\":\"\"},\"caxis\":{\"gridcolor\":\"white\",\"linecolor\":\"white\",\"ticks\":\"\"}},\"coloraxis\":{\"colorbar\":{\"outlinewidth\":0,\"ticks\":\"\"}},\"colorscale\":{\"sequential\":[[0.0,\"#0d0887\"],[0.1111111111111111,\"#46039f\"],[0.2222222222222222,\"#7201a8\"],[0.3333333333333333,\"#9c179e\"],[0.4444444444444444,\"#bd3786\"],[0.5555555555555556,\"#d8576b\"],[0.6666666666666666,\"#ed7953\"],[0.7777777777777778,\"#fb9f3a\"],[0.8888888888888888,\"#fdca26\"],[1.0,\"#f0f921\"]],\"sequentialminus\":[[0.0,\"#0d0887\"],[0.1111111111111111,\"#46039f\"],[0.2222222222222222,\"#7201a8\"],[0.3333333333333333,\"#9c179e\"],[0.4444444444444444,\"#bd3786\"],[0.5555555555555556,\"#d8576b\"],[0.6666666666666666,\"#ed7953\"],[0.7777777777777778,\"#fb9f3a\"],[0.8888888888888888,\"#fdca26\"],[1.0,\"#f0f921\"]],\"diverging\":[[0,\"#8e0152\"],[0.1,\"#c51b7d\"],[0.2,\"#de77ae\"],[0.3,\"#f1b6da\"],[0.4,\"#fde0ef\"],[0.5,\"#f7f7f7\"],[0.6,\"#e6f5d0\"],[0.7,\"#b8e186\"],[0.8,\"#7fbc41\"],[0.9,\"#4d9221\"],[1,\"#276419\"]]},\"xaxis\":{\"gridcolor\":\"white\",\"linecolor\":\"white\",\"ticks\":\"\",\"title\":{\"standoff\":15},\"zerolinecolor\":\"white\",\"automargin\":true,\"zerolinewidth\":2},\"yaxis\":{\"gridcolor\":\"white\",\"linecolor\":\"white\",\"ticks\":\"\",\"title\":{\"standoff\":15},\"zerolinecolor\":\"white\",\"automargin\":true,\"zerolinewidth\":2},\"scene\":{\"xaxis\":{\"backgroundcolor\":\"#E5ECF6\",\"gridcolor\":\"white\",\"linecolor\":\"white\",\"showbackground\":true,\"ticks\":\"\",\"zerolinecolor\":\"white\",\"gridwidth\":2},\"yaxis\":{\"backgroundcolor\":\"#E5ECF6\",\"gridcolor\":\"white\",\"linecolor\":\"white\",\"showbackground\":true,\"ticks\":\"\",\"zerolinecolor\":\"white\",\"gridwidth\":2},\"zaxis\":{\"backgroundcolor\":\"#E5ECF6\",\"gridcolor\":\"white\",\"linecolor\":\"white\",\"showbackground\":true,\"ticks\":\"\",\"zerolinecolor\":\"white\",\"gridwidth\":2}},\"shapedefaults\":{\"line\":{\"color\":\"#2a3f5f\"}},\"annotationdefaults\":{\"arrowcolor\":\"#2a3f5f\",\"arrowhead\":0,\"arrowwidth\":1},\"geo\":{\"bgcolor\":\"white\",\"landcolor\":\"#E5ECF6\",\"subunitcolor\":\"white\",\"showland\":true,\"showlakes\":true,\"lakecolor\":\"white\"},\"title\":{\"x\":0.05},\"mapbox\":{\"style\":\"light\"}}},\"xaxis\":{\"anchor\":\"y\",\"domain\":[0.0,1.0],\"title\":{\"text\":\"Brands\"},\"categoryorder\":\"array\",\"categoryarray\":[\"bj\",\"hd\",\"talenti\",\"breyers\"]},\"yaxis\":{\"anchor\":\"x\",\"domain\":[0.0,1.0],\"title\":{\"text\":\"Ratings\"}},\"legend\":{\"title\":{\"text\":\"Brand\",\"font\":{\"size\":17}},\"tracegroupgap\":0},\"margin\":{\"t\":60},\"boxmode\":\"overlay\",\"font\":{\"family\":\"Arial\",\"size\":14},\"title\":{\"font\":{\"size\":22,\"color\":\"Darkblue\"},\"text\":\"Box Plot of Ratings by Brand\",\"x\":0.5}},                        {\"responsive\": true}                    ).then(function(){\n",
       "                            \n",
       "var gd = document.getElementById('1998df26-c4b2-4a2a-a4ff-0aa9aca12a00');\n",
       "var x = new MutationObserver(function (mutations, observer) {{\n",
       "        var display = window.getComputedStyle(gd).display;\n",
       "        if (!display || display === 'none') {{\n",
       "            console.log([gd, 'removed!']);\n",
       "            Plotly.purge(gd);\n",
       "            observer.disconnect();\n",
       "        }}\n",
       "}});\n",
       "\n",
       "// Listen for the removal of the full notebook cells\n",
       "var notebookContainer = gd.closest('#notebook-container');\n",
       "if (notebookContainer) {{\n",
       "    x.observe(notebookContainer, {childList: true});\n",
       "}}\n",
       "\n",
       "// Listen for the clearing of the current output cell\n",
       "var outputEl = gd.closest('.output');\n",
       "if (outputEl) {{\n",
       "    x.observe(outputEl, {childList: true});\n",
       "}}\n",
       "\n",
       "                        })                };                });            </script>        </div>"
      ]
     },
     "metadata": {},
     "output_type": "display_data"
    }
   ],
   "source": [
    "#boxplot of ratings by brand in plotly\n",
    "\n",
    "fig = px.box(df, x='brand', y='rating', color='brand', labels={'rating':'Ratings',\"brand\":\"Brands\"})\n",
    "fig.update_layout(\n",
    "    legend=dict(title=\"Brand\", title_font_size=17),\n",
    "    font_family=\"Arial\",\n",
    "    font_size=14,\n",
    "    title=dict(text=\"Box Plot of Ratings by Brand\", font_size=22, font_color = \"Darkblue\"),title_x=0.5\n",
    ")\n",
    "fig.show()\n"
   ]
  },
  {
   "cell_type": "code",
   "execution_count": 20,
   "id": "3bb2354e",
   "metadata": {
    "execution": {
     "iopub.execute_input": "2024-01-28T06:53:35.512646Z",
     "iopub.status.busy": "2024-01-28T06:53:35.512202Z",
     "iopub.status.idle": "2024-01-28T06:53:35.531206Z",
     "shell.execute_reply": "2024-01-28T06:53:35.530005Z"
    },
    "id": "BKsnIp376DgL",
    "outputId": "a3212945-6701-498e-abc2-a7391e6c564b",
    "papermill": {
     "duration": 0.046807,
     "end_time": "2024-01-28T06:53:35.533898",
     "exception": false,
     "start_time": "2024-01-28T06:53:35.487091",
     "status": "completed"
    },
    "tags": []
   },
   "outputs": [
    {
     "data": {
      "text/html": [
       "<div>\n",
       "<style scoped>\n",
       "    .dataframe tbody tr th:only-of-type {\n",
       "        vertical-align: middle;\n",
       "    }\n",
       "\n",
       "    .dataframe tbody tr th {\n",
       "        vertical-align: top;\n",
       "    }\n",
       "\n",
       "    .dataframe thead th {\n",
       "        text-align: right;\n",
       "    }\n",
       "</style>\n",
       "<table border=\"1\" class=\"dataframe\">\n",
       "  <thead>\n",
       "    <tr style=\"text-align: right;\">\n",
       "      <th></th>\n",
       "      <th>brand</th>\n",
       "      <th>Mean Rating</th>\n",
       "    </tr>\n",
       "  </thead>\n",
       "  <tbody>\n",
       "    <tr>\n",
       "      <th>0</th>\n",
       "      <td>bj</td>\n",
       "      <td>4.33</td>\n",
       "    </tr>\n",
       "    <tr>\n",
       "      <th>1</th>\n",
       "      <td>breyers</td>\n",
       "      <td>3.96</td>\n",
       "    </tr>\n",
       "    <tr>\n",
       "      <th>2</th>\n",
       "      <td>hd</td>\n",
       "      <td>4.31</td>\n",
       "    </tr>\n",
       "    <tr>\n",
       "      <th>3</th>\n",
       "      <td>talenti</td>\n",
       "      <td>4.36</td>\n",
       "    </tr>\n",
       "  </tbody>\n",
       "</table>\n",
       "</div>"
      ],
      "text/plain": [
       "     brand  Mean Rating\n",
       "0       bj         4.33\n",
       "1  breyers         3.96\n",
       "2       hd         4.31\n",
       "3  talenti         4.36"
      ]
     },
     "execution_count": 20,
     "metadata": {},
     "output_type": "execute_result"
    }
   ],
   "source": [
    "# calulate mean rating by brand\n",
    "\n",
    "df_rate = df.groupby('brand')['rating'].mean().round(2).to_frame().reset_index().rename(columns={'rating': 'Mean Rating'})\n",
    "df_rate"
   ]
  },
  {
   "cell_type": "code",
   "execution_count": 21,
   "id": "2bb1f542",
   "metadata": {
    "execution": {
     "iopub.execute_input": "2024-01-28T06:53:35.586022Z",
     "iopub.status.busy": "2024-01-28T06:53:35.585546Z",
     "iopub.status.idle": "2024-01-28T06:53:35.691169Z",
     "shell.execute_reply": "2024-01-28T06:53:35.689800Z"
    },
    "id": "qbAV6kqz6xCw",
    "outputId": "207febc2-f2a8-4e3b-c7ad-d8b81e8ac837",
    "papermill": {
     "duration": 0.134295,
     "end_time": "2024-01-28T06:53:35.693791",
     "exception": false,
     "start_time": "2024-01-28T06:53:35.559496",
     "status": "completed"
    },
    "tags": []
   },
   "outputs": [
    {
     "data": {
      "text/html": [
       "<div>                            <div id=\"5113b9d3-76a2-4913-81e5-99134e9515f9\" class=\"plotly-graph-div\" style=\"height:525px; width:100%;\"></div>            <script type=\"text/javascript\">                require([\"plotly\"], function(Plotly) {                    window.PLOTLYENV=window.PLOTLYENV || {};                                    if (document.getElementById(\"5113b9d3-76a2-4913-81e5-99134e9515f9\")) {                    Plotly.newPlot(                        \"5113b9d3-76a2-4913-81e5-99134e9515f9\",                        [{\"alignmentgroup\":\"True\",\"hovertemplate\":\"Brand=%{x}\\u003cbr\\u003eAverage Ratings=%{y}\\u003cextra\\u003e\\u003c\\u002fextra\\u003e\",\"legendgroup\":\"bj\",\"marker\":{\"color\":\"#636efa\",\"pattern\":{\"shape\":\"\"}},\"name\":\"bj\",\"offsetgroup\":\"bj\",\"orientation\":\"v\",\"showlegend\":true,\"textposition\":\"auto\",\"texttemplate\":\"%{y}\",\"x\":[\"bj\"],\"xaxis\":\"x\",\"y\":[4.33],\"yaxis\":\"y\",\"type\":\"bar\"},{\"alignmentgroup\":\"True\",\"hovertemplate\":\"Brand=%{x}\\u003cbr\\u003eAverage Ratings=%{y}\\u003cextra\\u003e\\u003c\\u002fextra\\u003e\",\"legendgroup\":\"breyers\",\"marker\":{\"color\":\"#EF553B\",\"pattern\":{\"shape\":\"\"}},\"name\":\"breyers\",\"offsetgroup\":\"breyers\",\"orientation\":\"v\",\"showlegend\":true,\"textposition\":\"auto\",\"texttemplate\":\"%{y}\",\"x\":[\"breyers\"],\"xaxis\":\"x\",\"y\":[3.96],\"yaxis\":\"y\",\"type\":\"bar\"},{\"alignmentgroup\":\"True\",\"hovertemplate\":\"Brand=%{x}\\u003cbr\\u003eAverage Ratings=%{y}\\u003cextra\\u003e\\u003c\\u002fextra\\u003e\",\"legendgroup\":\"hd\",\"marker\":{\"color\":\"#00cc96\",\"pattern\":{\"shape\":\"\"}},\"name\":\"hd\",\"offsetgroup\":\"hd\",\"orientation\":\"v\",\"showlegend\":true,\"textposition\":\"auto\",\"texttemplate\":\"%{y}\",\"x\":[\"hd\"],\"xaxis\":\"x\",\"y\":[4.31],\"yaxis\":\"y\",\"type\":\"bar\"},{\"alignmentgroup\":\"True\",\"hovertemplate\":\"Brand=%{x}\\u003cbr\\u003eAverage Ratings=%{y}\\u003cextra\\u003e\\u003c\\u002fextra\\u003e\",\"legendgroup\":\"talenti\",\"marker\":{\"color\":\"#ab63fa\",\"pattern\":{\"shape\":\"\"}},\"name\":\"talenti\",\"offsetgroup\":\"talenti\",\"orientation\":\"v\",\"showlegend\":true,\"textposition\":\"auto\",\"texttemplate\":\"%{y}\",\"x\":[\"talenti\"],\"xaxis\":\"x\",\"y\":[4.36],\"yaxis\":\"y\",\"type\":\"bar\"}],                        {\"template\":{\"data\":{\"histogram2dcontour\":[{\"type\":\"histogram2dcontour\",\"colorbar\":{\"outlinewidth\":0,\"ticks\":\"\"},\"colorscale\":[[0.0,\"#0d0887\"],[0.1111111111111111,\"#46039f\"],[0.2222222222222222,\"#7201a8\"],[0.3333333333333333,\"#9c179e\"],[0.4444444444444444,\"#bd3786\"],[0.5555555555555556,\"#d8576b\"],[0.6666666666666666,\"#ed7953\"],[0.7777777777777778,\"#fb9f3a\"],[0.8888888888888888,\"#fdca26\"],[1.0,\"#f0f921\"]]}],\"choropleth\":[{\"type\":\"choropleth\",\"colorbar\":{\"outlinewidth\":0,\"ticks\":\"\"}}],\"histogram2d\":[{\"type\":\"histogram2d\",\"colorbar\":{\"outlinewidth\":0,\"ticks\":\"\"},\"colorscale\":[[0.0,\"#0d0887\"],[0.1111111111111111,\"#46039f\"],[0.2222222222222222,\"#7201a8\"],[0.3333333333333333,\"#9c179e\"],[0.4444444444444444,\"#bd3786\"],[0.5555555555555556,\"#d8576b\"],[0.6666666666666666,\"#ed7953\"],[0.7777777777777778,\"#fb9f3a\"],[0.8888888888888888,\"#fdca26\"],[1.0,\"#f0f921\"]]}],\"heatmap\":[{\"type\":\"heatmap\",\"colorbar\":{\"outlinewidth\":0,\"ticks\":\"\"},\"colorscale\":[[0.0,\"#0d0887\"],[0.1111111111111111,\"#46039f\"],[0.2222222222222222,\"#7201a8\"],[0.3333333333333333,\"#9c179e\"],[0.4444444444444444,\"#bd3786\"],[0.5555555555555556,\"#d8576b\"],[0.6666666666666666,\"#ed7953\"],[0.7777777777777778,\"#fb9f3a\"],[0.8888888888888888,\"#fdca26\"],[1.0,\"#f0f921\"]]}],\"heatmapgl\":[{\"type\":\"heatmapgl\",\"colorbar\":{\"outlinewidth\":0,\"ticks\":\"\"},\"colorscale\":[[0.0,\"#0d0887\"],[0.1111111111111111,\"#46039f\"],[0.2222222222222222,\"#7201a8\"],[0.3333333333333333,\"#9c179e\"],[0.4444444444444444,\"#bd3786\"],[0.5555555555555556,\"#d8576b\"],[0.6666666666666666,\"#ed7953\"],[0.7777777777777778,\"#fb9f3a\"],[0.8888888888888888,\"#fdca26\"],[1.0,\"#f0f921\"]]}],\"contourcarpet\":[{\"type\":\"contourcarpet\",\"colorbar\":{\"outlinewidth\":0,\"ticks\":\"\"}}],\"contour\":[{\"type\":\"contour\",\"colorbar\":{\"outlinewidth\":0,\"ticks\":\"\"},\"colorscale\":[[0.0,\"#0d0887\"],[0.1111111111111111,\"#46039f\"],[0.2222222222222222,\"#7201a8\"],[0.3333333333333333,\"#9c179e\"],[0.4444444444444444,\"#bd3786\"],[0.5555555555555556,\"#d8576b\"],[0.6666666666666666,\"#ed7953\"],[0.7777777777777778,\"#fb9f3a\"],[0.8888888888888888,\"#fdca26\"],[1.0,\"#f0f921\"]]}],\"surface\":[{\"type\":\"surface\",\"colorbar\":{\"outlinewidth\":0,\"ticks\":\"\"},\"colorscale\":[[0.0,\"#0d0887\"],[0.1111111111111111,\"#46039f\"],[0.2222222222222222,\"#7201a8\"],[0.3333333333333333,\"#9c179e\"],[0.4444444444444444,\"#bd3786\"],[0.5555555555555556,\"#d8576b\"],[0.6666666666666666,\"#ed7953\"],[0.7777777777777778,\"#fb9f3a\"],[0.8888888888888888,\"#fdca26\"],[1.0,\"#f0f921\"]]}],\"mesh3d\":[{\"type\":\"mesh3d\",\"colorbar\":{\"outlinewidth\":0,\"ticks\":\"\"}}],\"scatter\":[{\"fillpattern\":{\"fillmode\":\"overlay\",\"size\":10,\"solidity\":0.2},\"type\":\"scatter\"}],\"parcoords\":[{\"type\":\"parcoords\",\"line\":{\"colorbar\":{\"outlinewidth\":0,\"ticks\":\"\"}}}],\"scatterpolargl\":[{\"type\":\"scatterpolargl\",\"marker\":{\"colorbar\":{\"outlinewidth\":0,\"ticks\":\"\"}}}],\"bar\":[{\"error_x\":{\"color\":\"#2a3f5f\"},\"error_y\":{\"color\":\"#2a3f5f\"},\"marker\":{\"line\":{\"color\":\"#E5ECF6\",\"width\":0.5},\"pattern\":{\"fillmode\":\"overlay\",\"size\":10,\"solidity\":0.2}},\"type\":\"bar\"}],\"scattergeo\":[{\"type\":\"scattergeo\",\"marker\":{\"colorbar\":{\"outlinewidth\":0,\"ticks\":\"\"}}}],\"scatterpolar\":[{\"type\":\"scatterpolar\",\"marker\":{\"colorbar\":{\"outlinewidth\":0,\"ticks\":\"\"}}}],\"histogram\":[{\"marker\":{\"pattern\":{\"fillmode\":\"overlay\",\"size\":10,\"solidity\":0.2}},\"type\":\"histogram\"}],\"scattergl\":[{\"type\":\"scattergl\",\"marker\":{\"colorbar\":{\"outlinewidth\":0,\"ticks\":\"\"}}}],\"scatter3d\":[{\"type\":\"scatter3d\",\"line\":{\"colorbar\":{\"outlinewidth\":0,\"ticks\":\"\"}},\"marker\":{\"colorbar\":{\"outlinewidth\":0,\"ticks\":\"\"}}}],\"scattermapbox\":[{\"type\":\"scattermapbox\",\"marker\":{\"colorbar\":{\"outlinewidth\":0,\"ticks\":\"\"}}}],\"scatterternary\":[{\"type\":\"scatterternary\",\"marker\":{\"colorbar\":{\"outlinewidth\":0,\"ticks\":\"\"}}}],\"scattercarpet\":[{\"type\":\"scattercarpet\",\"marker\":{\"colorbar\":{\"outlinewidth\":0,\"ticks\":\"\"}}}],\"carpet\":[{\"aaxis\":{\"endlinecolor\":\"#2a3f5f\",\"gridcolor\":\"white\",\"linecolor\":\"white\",\"minorgridcolor\":\"white\",\"startlinecolor\":\"#2a3f5f\"},\"baxis\":{\"endlinecolor\":\"#2a3f5f\",\"gridcolor\":\"white\",\"linecolor\":\"white\",\"minorgridcolor\":\"white\",\"startlinecolor\":\"#2a3f5f\"},\"type\":\"carpet\"}],\"table\":[{\"cells\":{\"fill\":{\"color\":\"#EBF0F8\"},\"line\":{\"color\":\"white\"}},\"header\":{\"fill\":{\"color\":\"#C8D4E3\"},\"line\":{\"color\":\"white\"}},\"type\":\"table\"}],\"barpolar\":[{\"marker\":{\"line\":{\"color\":\"#E5ECF6\",\"width\":0.5},\"pattern\":{\"fillmode\":\"overlay\",\"size\":10,\"solidity\":0.2}},\"type\":\"barpolar\"}],\"pie\":[{\"automargin\":true,\"type\":\"pie\"}]},\"layout\":{\"autotypenumbers\":\"strict\",\"colorway\":[\"#636efa\",\"#EF553B\",\"#00cc96\",\"#ab63fa\",\"#FFA15A\",\"#19d3f3\",\"#FF6692\",\"#B6E880\",\"#FF97FF\",\"#FECB52\"],\"font\":{\"color\":\"#2a3f5f\"},\"hovermode\":\"closest\",\"hoverlabel\":{\"align\":\"left\"},\"paper_bgcolor\":\"white\",\"plot_bgcolor\":\"#E5ECF6\",\"polar\":{\"bgcolor\":\"#E5ECF6\",\"angularaxis\":{\"gridcolor\":\"white\",\"linecolor\":\"white\",\"ticks\":\"\"},\"radialaxis\":{\"gridcolor\":\"white\",\"linecolor\":\"white\",\"ticks\":\"\"}},\"ternary\":{\"bgcolor\":\"#E5ECF6\",\"aaxis\":{\"gridcolor\":\"white\",\"linecolor\":\"white\",\"ticks\":\"\"},\"baxis\":{\"gridcolor\":\"white\",\"linecolor\":\"white\",\"ticks\":\"\"},\"caxis\":{\"gridcolor\":\"white\",\"linecolor\":\"white\",\"ticks\":\"\"}},\"coloraxis\":{\"colorbar\":{\"outlinewidth\":0,\"ticks\":\"\"}},\"colorscale\":{\"sequential\":[[0.0,\"#0d0887\"],[0.1111111111111111,\"#46039f\"],[0.2222222222222222,\"#7201a8\"],[0.3333333333333333,\"#9c179e\"],[0.4444444444444444,\"#bd3786\"],[0.5555555555555556,\"#d8576b\"],[0.6666666666666666,\"#ed7953\"],[0.7777777777777778,\"#fb9f3a\"],[0.8888888888888888,\"#fdca26\"],[1.0,\"#f0f921\"]],\"sequentialminus\":[[0.0,\"#0d0887\"],[0.1111111111111111,\"#46039f\"],[0.2222222222222222,\"#7201a8\"],[0.3333333333333333,\"#9c179e\"],[0.4444444444444444,\"#bd3786\"],[0.5555555555555556,\"#d8576b\"],[0.6666666666666666,\"#ed7953\"],[0.7777777777777778,\"#fb9f3a\"],[0.8888888888888888,\"#fdca26\"],[1.0,\"#f0f921\"]],\"diverging\":[[0,\"#8e0152\"],[0.1,\"#c51b7d\"],[0.2,\"#de77ae\"],[0.3,\"#f1b6da\"],[0.4,\"#fde0ef\"],[0.5,\"#f7f7f7\"],[0.6,\"#e6f5d0\"],[0.7,\"#b8e186\"],[0.8,\"#7fbc41\"],[0.9,\"#4d9221\"],[1,\"#276419\"]]},\"xaxis\":{\"gridcolor\":\"white\",\"linecolor\":\"white\",\"ticks\":\"\",\"title\":{\"standoff\":15},\"zerolinecolor\":\"white\",\"automargin\":true,\"zerolinewidth\":2},\"yaxis\":{\"gridcolor\":\"white\",\"linecolor\":\"white\",\"ticks\":\"\",\"title\":{\"standoff\":15},\"zerolinecolor\":\"white\",\"automargin\":true,\"zerolinewidth\":2},\"scene\":{\"xaxis\":{\"backgroundcolor\":\"#E5ECF6\",\"gridcolor\":\"white\",\"linecolor\":\"white\",\"showbackground\":true,\"ticks\":\"\",\"zerolinecolor\":\"white\",\"gridwidth\":2},\"yaxis\":{\"backgroundcolor\":\"#E5ECF6\",\"gridcolor\":\"white\",\"linecolor\":\"white\",\"showbackground\":true,\"ticks\":\"\",\"zerolinecolor\":\"white\",\"gridwidth\":2},\"zaxis\":{\"backgroundcolor\":\"#E5ECF6\",\"gridcolor\":\"white\",\"linecolor\":\"white\",\"showbackground\":true,\"ticks\":\"\",\"zerolinecolor\":\"white\",\"gridwidth\":2}},\"shapedefaults\":{\"line\":{\"color\":\"#2a3f5f\"}},\"annotationdefaults\":{\"arrowcolor\":\"#2a3f5f\",\"arrowhead\":0,\"arrowwidth\":1},\"geo\":{\"bgcolor\":\"white\",\"landcolor\":\"#E5ECF6\",\"subunitcolor\":\"white\",\"showland\":true,\"showlakes\":true,\"lakecolor\":\"white\"},\"title\":{\"x\":0.05},\"mapbox\":{\"style\":\"light\"}}},\"xaxis\":{\"anchor\":\"y\",\"domain\":[0.0,1.0],\"title\":{\"text\":\"Brand\"},\"categoryorder\":\"array\",\"categoryarray\":[\"bj\",\"breyers\",\"hd\",\"talenti\"]},\"yaxis\":{\"anchor\":\"x\",\"domain\":[0.0,1.0],\"title\":{\"text\":\"Average Ratings\"},\"range\":[0,6]},\"legend\":{\"title\":{\"text\":\"Brand\",\"font\":{\"size\":17}},\"tracegroupgap\":0},\"margin\":{\"t\":60},\"barmode\":\"relative\",\"font\":{\"family\":\"Arial\",\"size\":14},\"title\":{\"font\":{\"size\":22,\"color\":\"Darkblue\"},\"text\":\"Average Ratings by Brands\",\"x\":0.5}},                        {\"responsive\": true}                    ).then(function(){\n",
       "                            \n",
       "var gd = document.getElementById('5113b9d3-76a2-4913-81e5-99134e9515f9');\n",
       "var x = new MutationObserver(function (mutations, observer) {{\n",
       "        var display = window.getComputedStyle(gd).display;\n",
       "        if (!display || display === 'none') {{\n",
       "            console.log([gd, 'removed!']);\n",
       "            Plotly.purge(gd);\n",
       "            observer.disconnect();\n",
       "        }}\n",
       "}});\n",
       "\n",
       "// Listen for the removal of the full notebook cells\n",
       "var notebookContainer = gd.closest('#notebook-container');\n",
       "if (notebookContainer) {{\n",
       "    x.observe(notebookContainer, {childList: true});\n",
       "}}\n",
       "\n",
       "// Listen for the clearing of the current output cell\n",
       "var outputEl = gd.closest('.output');\n",
       "if (outputEl) {{\n",
       "    x.observe(outputEl, {childList: true});\n",
       "}}\n",
       "\n",
       "                        })                };                });            </script>        </div>"
      ]
     },
     "metadata": {},
     "output_type": "display_data"
    }
   ],
   "source": [
    "fig = px.bar(df_rate, x='brand', y='Mean Rating',\n",
    "             hover_data=['brand', 'Mean Rating'], color='brand',text_auto=True,\n",
    "             labels={'brand':'Brand',\"Mean Rating\":\"Average Ratings\"})\n",
    "\n",
    "# Customize layout\n",
    "fig.update_layout(\n",
    "    legend=dict(title=\"Brand\", title_font_size=17),\n",
    "    font_family=\"Arial\",\n",
    "    font_size=14,\n",
    "    title=dict(text=\"Average Ratings by Brands\", font_size=22, font_color = \"Darkblue\"),title_x=0.5\n",
    ")\n",
    "fig.update_yaxes(range=[0, 6])\n",
    "#fig.update_traces(text=data_top['rating'], textposition=\"outside\",texttemplate=\"%{text:.2f}\")\n",
    "fig.show()"
   ]
  },
  {
   "cell_type": "markdown",
   "id": "5025b512",
   "metadata": {
    "id": "M0HDEyy67iU4",
    "papermill": {
     "duration": 0.025139,
     "end_time": "2024-01-28T06:53:35.745494",
     "exception": false,
     "start_time": "2024-01-28T06:53:35.720355",
     "status": "completed"
    },
    "tags": []
   },
   "source": [
    "Now we will do anova to check the significance of differences among average ratings of brands."
   ]
  },
  {
   "cell_type": "code",
   "execution_count": 22,
   "id": "ea1fee9e",
   "metadata": {
    "execution": {
     "iopub.execute_input": "2024-01-28T06:53:35.797803Z",
     "iopub.status.busy": "2024-01-28T06:53:35.797288Z",
     "iopub.status.idle": "2024-01-28T06:53:35.845896Z",
     "shell.execute_reply": "2024-01-28T06:53:35.844447Z"
    },
    "id": "QqCHw6wH7dip",
    "outputId": "824ee07b-cfbf-4029-d6ac-8782c2b27970",
    "papermill": {
     "duration": 0.07836,
     "end_time": "2024-01-28T06:53:35.848913",
     "exception": false,
     "start_time": "2024-01-28T06:53:35.770553",
     "status": "completed"
    },
    "tags": []
   },
   "outputs": [
    {
     "name": "stdout",
     "output_type": "stream",
     "text": [
      "\n",
      " Analysis of Productivity:\n",
      "             sum_sq     df         F    PR(>F)\n",
      "C(brand)   6.647149    3.0  6.125852  0.000498\n",
      "Residual  85.722727  237.0       NaN       NaN\n"
     ]
    }
   ],
   "source": [
    "\n",
    "# ANOVA test\n",
    "model = ols('rating ~ C(brand)', data=df).fit()\n",
    "anova_table = sm.stats.anova_lm(model, typ=2)\n",
    "anova_table\n",
    "print(\"\\n Analysis of Productivity:\")\n",
    "print(anova_table)\n"
   ]
  },
  {
   "cell_type": "markdown",
   "id": "33d1fb58",
   "metadata": {
    "id": "QwYc7ojL1N2q",
    "papermill": {
     "duration": 0.023954,
     "end_time": "2024-01-28T06:53:35.898726",
     "exception": false,
     "start_time": "2024-01-28T06:53:35.874772",
     "status": "completed"
    },
    "tags": []
   },
   "source": [
    "We will do now assumption checking before explanation."
   ]
  },
  {
   "cell_type": "markdown",
   "id": "745e7ba9",
   "metadata": {
    "id": "6zipBNrd2ARI",
    "papermill": {
     "duration": 0.027043,
     "end_time": "2024-01-28T06:53:35.950048",
     "exception": false,
     "start_time": "2024-01-28T06:53:35.923005",
     "status": "completed"
    },
    "tags": []
   },
   "source": [
    "## Normality test"
   ]
  },
  {
   "cell_type": "code",
   "execution_count": 23,
   "id": "157053c8",
   "metadata": {
    "execution": {
     "iopub.execute_input": "2024-01-28T06:53:36.002132Z",
     "iopub.status.busy": "2024-01-28T06:53:36.001647Z",
     "iopub.status.idle": "2024-01-28T06:53:36.010083Z",
     "shell.execute_reply": "2024-01-28T06:53:36.009068Z"
    },
    "id": "DCWGr6OL1mhJ",
    "outputId": "20c8d09d-398e-4828-bf68-0fb5278cc1d3",
    "papermill": {
     "duration": 0.0379,
     "end_time": "2024-01-28T06:53:36.012781",
     "exception": false,
     "start_time": "2024-01-28T06:53:35.974881",
     "status": "completed"
    },
    "tags": []
   },
   "outputs": [
    {
     "name": "stdout",
     "output_type": "stream",
     "text": [
      "The residuals is not normally distributed (reject H0)\n"
     ]
    }
   ],
   "source": [
    "# normality test in python\n",
    "\n",
    "import scipy.stats as stats\n",
    "\n",
    "# Perform the Shapiro-Wilk test\n",
    "stat, p = stats.shapiro(model.resid)\n",
    "\n",
    "# Interpret the results\n",
    "alpha = 0.05\n",
    "if p > alpha:\n",
    "    print('The residuals is normally distributed (fail to reject H0)')\n",
    "else:\n",
    "    print('The residuals is not normally distributed (reject H0)')\n"
   ]
  },
  {
   "cell_type": "code",
   "execution_count": 24,
   "id": "a852947c",
   "metadata": {
    "execution": {
     "iopub.execute_input": "2024-01-28T06:53:36.066065Z",
     "iopub.status.busy": "2024-01-28T06:53:36.065615Z",
     "iopub.status.idle": "2024-01-28T06:53:36.522650Z",
     "shell.execute_reply": "2024-01-28T06:53:36.521270Z"
    },
    "id": "Bp0y0SIROZai",
    "outputId": "b2b6117e-6bd0-420b-8cf5-97e5fdeda481",
    "papermill": {
     "duration": 0.488346,
     "end_time": "2024-01-28T06:53:36.525418",
     "exception": false,
     "start_time": "2024-01-28T06:53:36.037072",
     "status": "completed"
    },
    "tags": []
   },
   "outputs": [
    {
     "data": {
      "image/png": "[encoded data removed]",
      "text/plain": [
       "<Figure size 640x480 with 1 Axes>"
      ]
     },
     "metadata": {},
     "output_type": "display_data"
    }
   ],
   "source": [
    "# Histogram of residuals\n",
    "sns.histplot(model.resid, kde=True, color = 'lightblue')\n",
    "plt.gca().lines[0].set_color('orange')\n",
    "plt.title(\"Normality Check: Residuals Histogram\")\n",
    "plt.xlabel(\"Residuals\")\n",
    "plt.show()"
   ]
  },
  {
   "cell_type": "code",
   "execution_count": 25,
   "id": "2a574dd9",
   "metadata": {
    "execution": {
     "iopub.execute_input": "2024-01-28T06:53:36.580601Z",
     "iopub.status.busy": "2024-01-28T06:53:36.579891Z",
     "iopub.status.idle": "2024-01-28T06:53:37.220743Z",
     "shell.execute_reply": "2024-01-28T06:53:37.219350Z"
    },
    "id": "YBdc0fg9ObsO",
    "outputId": "43c9c8da-18d7-46bf-e0b7-c8cdce09c4c9",
    "papermill": {
     "duration": 0.671241,
     "end_time": "2024-01-28T06:53:37.223665",
     "exception": false,
     "start_time": "2024-01-28T06:53:36.552424",
     "status": "completed"
    },
    "tags": []
   },
   "outputs": [
    {
     "data": {
      "image/png": "[encoded data removed]",
      "text/plain": [
       "<Figure size 1000x1000 with 1 Axes>"
      ]
     },
     "metadata": {},
     "output_type": "display_data"
    }
   ],
   "source": [
    "fig = plt.figure(figsize= (10, 10))\n",
    "ax = fig.add_subplot(111)\n",
    "\n",
    "normality_plot, stat = stats.probplot(model.resid, plot= plt, rvalue= True)\n",
    "ax.set_title(\"Probability plot of model residual's\", fontsize= 20)\n",
    "ax.set\n",
    "\n",
    "plt.show()"
   ]
  },
  {
   "cell_type": "markdown",
   "id": "ef145609",
   "metadata": {
    "id": "mauLUkZF2Icj",
    "papermill": {
     "duration": 0.027113,
     "end_time": "2024-01-28T06:53:37.278358",
     "exception": false,
     "start_time": "2024-01-28T06:53:37.251245",
     "status": "completed"
    },
    "tags": []
   },
   "source": [
    "From both test and visuals we can see that our model does not follow normlity assumption."
   ]
  },
  {
   "cell_type": "markdown",
   "id": "7621f3c0",
   "metadata": {
    "id": "uErCePhY2R4C",
    "papermill": {
     "duration": 0.02578,
     "end_time": "2024-01-28T06:53:37.330578",
     "exception": false,
     "start_time": "2024-01-28T06:53:37.304798",
     "status": "completed"
    },
    "tags": []
   },
   "source": [
    "## Test for homogenity of variance"
   ]
  },
  {
   "cell_type": "code",
   "execution_count": 26,
   "id": "1ad3d844",
   "metadata": {
    "execution": {
     "iopub.execute_input": "2024-01-28T06:53:37.386580Z",
     "iopub.status.busy": "2024-01-28T06:53:37.386140Z",
     "iopub.status.idle": "2024-01-28T06:53:37.395954Z",
     "shell.execute_reply": "2024-01-28T06:53:37.394667Z"
    },
    "id": "c_mz-q6VOitL",
    "outputId": "b6276277-a4a6-49eb-a47c-22c78092c316",
    "papermill": {
     "duration": 0.04012,
     "end_time": "2024-01-28T06:53:37.398245",
     "exception": false,
     "start_time": "2024-01-28T06:53:37.358125",
     "status": "completed"
    },
    "tags": []
   },
   "outputs": [
    {
     "name": "stdout",
     "output_type": "stream",
     "text": [
      "2.4729764986299787 0.062353809916256095\n"
     ]
    }
   ],
   "source": [
    "stat, p_val = stats.levene(df['rating'][df['brand'] == 'bj'],\n",
    "             df['rating'][df['brand'] == 'breyers'],\n",
    "             df['rating'][df['brand'] == 'hd'],\n",
    "             df['rating'][df['brand'] == 'talenti'])\n",
    "\n",
    "print(stat,p_val)\n",
    "\n"
   ]
  },
  {
   "cell_type": "markdown",
   "id": "353fb100",
   "metadata": {
    "id": "PKqYIZPl24GS",
    "papermill": {
     "duration": 0.026324,
     "end_time": "2024-01-28T06:53:37.450889",
     "exception": false,
     "start_time": "2024-01-28T06:53:37.424565",
     "status": "completed"
    },
    "tags": []
   },
   "source": [
    "Our assumption for equal variance fullfilled. As our normality assumption did not match we will use non parametric methods such as kruskal test, alternative of anova test. This test consider medain rather than mean."
   ]
  },
  {
   "cell_type": "markdown",
   "id": "f03f5589",
   "metadata": {
    "id": "vYbNE4Mo2-D5",
    "papermill": {
     "duration": 0.027061,
     "end_time": "2024-01-28T06:53:37.504493",
     "exception": false,
     "start_time": "2024-01-28T06:53:37.477432",
     "status": "completed"
    },
    "tags": []
   },
   "source": [
    "# Non parametric test"
   ]
  },
  {
   "cell_type": "code",
   "execution_count": 27,
   "id": "1850d3c4",
   "metadata": {
    "execution": {
     "iopub.execute_input": "2024-01-28T06:53:37.561794Z",
     "iopub.status.busy": "2024-01-28T06:53:37.560774Z",
     "iopub.status.idle": "2024-01-28T06:53:37.576455Z",
     "shell.execute_reply": "2024-01-28T06:53:37.575044Z"
    },
    "id": "B5iy304j3mSY",
    "outputId": "7f35b559-5818-4941-df3d-42b44b8d4f79",
    "papermill": {
     "duration": 0.047849,
     "end_time": "2024-01-28T06:53:37.579397",
     "exception": false,
     "start_time": "2024-01-28T06:53:37.531548",
     "status": "completed"
    },
    "tags": []
   },
   "outputs": [
    {
     "data": {
      "text/html": [
       "<div>\n",
       "<style scoped>\n",
       "    .dataframe tbody tr th:only-of-type {\n",
       "        vertical-align: middle;\n",
       "    }\n",
       "\n",
       "    .dataframe tbody tr th {\n",
       "        vertical-align: top;\n",
       "    }\n",
       "\n",
       "    .dataframe thead th {\n",
       "        text-align: right;\n",
       "    }\n",
       "</style>\n",
       "<table border=\"1\" class=\"dataframe\">\n",
       "  <thead>\n",
       "    <tr style=\"text-align: right;\">\n",
       "      <th></th>\n",
       "      <th>brand</th>\n",
       "      <th>Median Rating</th>\n",
       "    </tr>\n",
       "  </thead>\n",
       "  <tbody>\n",
       "    <tr>\n",
       "      <th>0</th>\n",
       "      <td>bj</td>\n",
       "      <td>4.6</td>\n",
       "    </tr>\n",
       "    <tr>\n",
       "      <th>1</th>\n",
       "      <td>breyers</td>\n",
       "      <td>4.2</td>\n",
       "    </tr>\n",
       "    <tr>\n",
       "      <th>2</th>\n",
       "      <td>hd</td>\n",
       "      <td>4.5</td>\n",
       "    </tr>\n",
       "    <tr>\n",
       "      <th>3</th>\n",
       "      <td>talenti</td>\n",
       "      <td>4.4</td>\n",
       "    </tr>\n",
       "  </tbody>\n",
       "</table>\n",
       "</div>"
      ],
      "text/plain": [
       "     brand  Median Rating\n",
       "0       bj            4.6\n",
       "1  breyers            4.2\n",
       "2       hd            4.5\n",
       "3  talenti            4.4"
      ]
     },
     "execution_count": 27,
     "metadata": {},
     "output_type": "execute_result"
    }
   ],
   "source": [
    "# calulate mean rating by brand\n",
    "\n",
    "df_rate = df.groupby('brand')['rating'].median().round(2).to_frame().reset_index().rename(columns={'rating': 'Median Rating'})\n",
    "df_rate"
   ]
  },
  {
   "cell_type": "code",
   "execution_count": 28,
   "id": "7c5fef32",
   "metadata": {
    "execution": {
     "iopub.execute_input": "2024-01-28T06:53:37.634566Z",
     "iopub.status.busy": "2024-01-28T06:53:37.634166Z",
     "iopub.status.idle": "2024-01-28T06:53:37.743554Z",
     "shell.execute_reply": "2024-01-28T06:53:37.742146Z"
    },
    "id": "IXvlm2o33tLF",
    "outputId": "8f5437d4-4131-449f-f824-b77b3cdd3942",
    "papermill": {
     "duration": 0.140763,
     "end_time": "2024-01-28T06:53:37.746746",
     "exception": false,
     "start_time": "2024-01-28T06:53:37.605983",
     "status": "completed"
    },
    "tags": []
   },
   "outputs": [
    {
     "data": {
      "text/html": [
       "<div>                            <div id=\"08d2ea26-5c00-4eda-bf36-b24b815fad28\" class=\"plotly-graph-div\" style=\"height:525px; width:100%;\"></div>            <script type=\"text/javascript\">                require([\"plotly\"], function(Plotly) {                    window.PLOTLYENV=window.PLOTLYENV || {};                                    if (document.getElementById(\"08d2ea26-5c00-4eda-bf36-b24b815fad28\")) {                    Plotly.newPlot(                        \"08d2ea26-5c00-4eda-bf36-b24b815fad28\",                        [{\"alignmentgroup\":\"True\",\"hovertemplate\":\"Brand=%{x}\\u003cbr\\u003eMedian Ratings=%{y}\\u003cextra\\u003e\\u003c\\u002fextra\\u003e\",\"legendgroup\":\"bj\",\"marker\":{\"color\":\"#636efa\",\"pattern\":{\"shape\":\"\"}},\"name\":\"bj\",\"offsetgroup\":\"bj\",\"orientation\":\"v\",\"showlegend\":true,\"textposition\":\"auto\",\"texttemplate\":\"%{y}\",\"x\":[\"bj\"],\"xaxis\":\"x\",\"y\":[4.6],\"yaxis\":\"y\",\"type\":\"bar\"},{\"alignmentgroup\":\"True\",\"hovertemplate\":\"Brand=%{x}\\u003cbr\\u003eMedian Ratings=%{y}\\u003cextra\\u003e\\u003c\\u002fextra\\u003e\",\"legendgroup\":\"breyers\",\"marker\":{\"color\":\"#EF553B\",\"pattern\":{\"shape\":\"\"}},\"name\":\"breyers\",\"offsetgroup\":\"breyers\",\"orientation\":\"v\",\"showlegend\":true,\"textposition\":\"auto\",\"texttemplate\":\"%{y}\",\"x\":[\"breyers\"],\"xaxis\":\"x\",\"y\":[4.2],\"yaxis\":\"y\",\"type\":\"bar\"},{\"alignmentgroup\":\"True\",\"hovertemplate\":\"Brand=%{x}\\u003cbr\\u003eMedian Ratings=%{y}\\u003cextra\\u003e\\u003c\\u002fextra\\u003e\",\"legendgroup\":\"hd\",\"marker\":{\"color\":\"#00cc96\",\"pattern\":{\"shape\":\"\"}},\"name\":\"hd\",\"offsetgroup\":\"hd\",\"orientation\":\"v\",\"showlegend\":true,\"textposition\":\"auto\",\"texttemplate\":\"%{y}\",\"x\":[\"hd\"],\"xaxis\":\"x\",\"y\":[4.5],\"yaxis\":\"y\",\"type\":\"bar\"},{\"alignmentgroup\":\"True\",\"hovertemplate\":\"Brand=%{x}\\u003cbr\\u003eMedian Ratings=%{y}\\u003cextra\\u003e\\u003c\\u002fextra\\u003e\",\"legendgroup\":\"talenti\",\"marker\":{\"color\":\"#ab63fa\",\"pattern\":{\"shape\":\"\"}},\"name\":\"talenti\",\"offsetgroup\":\"talenti\",\"orientation\":\"v\",\"showlegend\":true,\"textposition\":\"auto\",\"texttemplate\":\"%{y}\",\"x\":[\"talenti\"],\"xaxis\":\"x\",\"y\":[4.4],\"yaxis\":\"y\",\"type\":\"bar\"}],                        {\"template\":{\"data\":{\"histogram2dcontour\":[{\"type\":\"histogram2dcontour\",\"colorbar\":{\"outlinewidth\":0,\"ticks\":\"\"},\"colorscale\":[[0.0,\"#0d0887\"],[0.1111111111111111,\"#46039f\"],[0.2222222222222222,\"#7201a8\"],[0.3333333333333333,\"#9c179e\"],[0.4444444444444444,\"#bd3786\"],[0.5555555555555556,\"#d8576b\"],[0.6666666666666666,\"#ed7953\"],[0.7777777777777778,\"#fb9f3a\"],[0.8888888888888888,\"#fdca26\"],[1.0,\"#f0f921\"]]}],\"choropleth\":[{\"type\":\"choropleth\",\"colorbar\":{\"outlinewidth\":0,\"ticks\":\"\"}}],\"histogram2d\":[{\"type\":\"histogram2d\",\"colorbar\":{\"outlinewidth\":0,\"ticks\":\"\"},\"colorscale\":[[0.0,\"#0d0887\"],[0.1111111111111111,\"#46039f\"],[0.2222222222222222,\"#7201a8\"],[0.3333333333333333,\"#9c179e\"],[0.4444444444444444,\"#bd3786\"],[0.5555555555555556,\"#d8576b\"],[0.6666666666666666,\"#ed7953\"],[0.7777777777777778,\"#fb9f3a\"],[0.8888888888888888,\"#fdca26\"],[1.0,\"#f0f921\"]]}],\"heatmap\":[{\"type\":\"heatmap\",\"colorbar\":{\"outlinewidth\":0,\"ticks\":\"\"},\"colorscale\":[[0.0,\"#0d0887\"],[0.1111111111111111,\"#46039f\"],[0.2222222222222222,\"#7201a8\"],[0.3333333333333333,\"#9c179e\"],[0.4444444444444444,\"#bd3786\"],[0.5555555555555556,\"#d8576b\"],[0.6666666666666666,\"#ed7953\"],[0.7777777777777778,\"#fb9f3a\"],[0.8888888888888888,\"#fdca26\"],[1.0,\"#f0f921\"]]}],\"heatmapgl\":[{\"type\":\"heatmapgl\",\"colorbar\":{\"outlinewidth\":0,\"ticks\":\"\"},\"colorscale\":[[0.0,\"#0d0887\"],[0.1111111111111111,\"#46039f\"],[0.2222222222222222,\"#7201a8\"],[0.3333333333333333,\"#9c179e\"],[0.4444444444444444,\"#bd3786\"],[0.5555555555555556,\"#d8576b\"],[0.6666666666666666,\"#ed7953\"],[0.7777777777777778,\"#fb9f3a\"],[0.8888888888888888,\"#fdca26\"],[1.0,\"#f0f921\"]]}],\"contourcarpet\":[{\"type\":\"contourcarpet\",\"colorbar\":{\"outlinewidth\":0,\"ticks\":\"\"}}],\"contour\":[{\"type\":\"contour\",\"colorbar\":{\"outlinewidth\":0,\"ticks\":\"\"},\"colorscale\":[[0.0,\"#0d0887\"],[0.1111111111111111,\"#46039f\"],[0.2222222222222222,\"#7201a8\"],[0.3333333333333333,\"#9c179e\"],[0.4444444444444444,\"#bd3786\"],[0.5555555555555556,\"#d8576b\"],[0.6666666666666666,\"#ed7953\"],[0.7777777777777778,\"#fb9f3a\"],[0.8888888888888888,\"#fdca26\"],[1.0,\"#f0f921\"]]}],\"surface\":[{\"type\":\"surface\",\"colorbar\":{\"outlinewidth\":0,\"ticks\":\"\"},\"colorscale\":[[0.0,\"#0d0887\"],[0.1111111111111111,\"#46039f\"],[0.2222222222222222,\"#7201a8\"],[0.3333333333333333,\"#9c179e\"],[0.4444444444444444,\"#bd3786\"],[0.5555555555555556,\"#d8576b\"],[0.6666666666666666,\"#ed7953\"],[0.7777777777777778,\"#fb9f3a\"],[0.8888888888888888,\"#fdca26\"],[1.0,\"#f0f921\"]]}],\"mesh3d\":[{\"type\":\"mesh3d\",\"colorbar\":{\"outlinewidth\":0,\"ticks\":\"\"}}],\"scatter\":[{\"fillpattern\":{\"fillmode\":\"overlay\",\"size\":10,\"solidity\":0.2},\"type\":\"scatter\"}],\"parcoords\":[{\"type\":\"parcoords\",\"line\":{\"colorbar\":{\"outlinewidth\":0,\"ticks\":\"\"}}}],\"scatterpolargl\":[{\"type\":\"scatterpolargl\",\"marker\":{\"colorbar\":{\"outlinewidth\":0,\"ticks\":\"\"}}}],\"bar\":[{\"error_x\":{\"color\":\"#2a3f5f\"},\"error_y\":{\"color\":\"#2a3f5f\"},\"marker\":{\"line\":{\"color\":\"#E5ECF6\",\"width\":0.5},\"pattern\":{\"fillmode\":\"overlay\",\"size\":10,\"solidity\":0.2}},\"type\":\"bar\"}],\"scattergeo\":[{\"type\":\"scattergeo\",\"marker\":{\"colorbar\":{\"outlinewidth\":0,\"ticks\":\"\"}}}],\"scatterpolar\":[{\"type\":\"scatterpolar\",\"marker\":{\"colorbar\":{\"outlinewidth\":0,\"ticks\":\"\"}}}],\"histogram\":[{\"marker\":{\"pattern\":{\"fillmode\":\"overlay\",\"size\":10,\"solidity\":0.2}},\"type\":\"histogram\"}],\"scattergl\":[{\"type\":\"scattergl\",\"marker\":{\"colorbar\":{\"outlinewidth\":0,\"ticks\":\"\"}}}],\"scatter3d\":[{\"type\":\"scatter3d\",\"line\":{\"colorbar\":{\"outlinewidth\":0,\"ticks\":\"\"}},\"marker\":{\"colorbar\":{\"outlinewidth\":0,\"ticks\":\"\"}}}],\"scattermapbox\":[{\"type\":\"scattermapbox\",\"marker\":{\"colorbar\":{\"outlinewidth\":0,\"ticks\":\"\"}}}],\"scatterternary\":[{\"type\":\"scatterternary\",\"marker\":{\"colorbar\":{\"outlinewidth\":0,\"ticks\":\"\"}}}],\"scattercarpet\":[{\"type\":\"scattercarpet\",\"marker\":{\"colorbar\":{\"outlinewidth\":0,\"ticks\":\"\"}}}],\"carpet\":[{\"aaxis\":{\"endlinecolor\":\"#2a3f5f\",\"gridcolor\":\"white\",\"linecolor\":\"white\",\"minorgridcolor\":\"white\",\"startlinecolor\":\"#2a3f5f\"},\"baxis\":{\"endlinecolor\":\"#2a3f5f\",\"gridcolor\":\"white\",\"linecolor\":\"white\",\"minorgridcolor\":\"white\",\"startlinecolor\":\"#2a3f5f\"},\"type\":\"carpet\"}],\"table\":[{\"cells\":{\"fill\":{\"color\":\"#EBF0F8\"},\"line\":{\"color\":\"white\"}},\"header\":{\"fill\":{\"color\":\"#C8D4E3\"},\"line\":{\"color\":\"white\"}},\"type\":\"table\"}],\"barpolar\":[{\"marker\":{\"line\":{\"color\":\"#E5ECF6\",\"width\":0.5},\"pattern\":{\"fillmode\":\"overlay\",\"size\":10,\"solidity\":0.2}},\"type\":\"barpolar\"}],\"pie\":[{\"automargin\":true,\"type\":\"pie\"}]},\"layout\":{\"autotypenumbers\":\"strict\",\"colorway\":[\"#636efa\",\"#EF553B\",\"#00cc96\",\"#ab63fa\",\"#FFA15A\",\"#19d3f3\",\"#FF6692\",\"#B6E880\",\"#FF97FF\",\"#FECB52\"],\"font\":{\"color\":\"#2a3f5f\"},\"hovermode\":\"closest\",\"hoverlabel\":{\"align\":\"left\"},\"paper_bgcolor\":\"white\",\"plot_bgcolor\":\"#E5ECF6\",\"polar\":{\"bgcolor\":\"#E5ECF6\",\"angularaxis\":{\"gridcolor\":\"white\",\"linecolor\":\"white\",\"ticks\":\"\"},\"radialaxis\":{\"gridcolor\":\"white\",\"linecolor\":\"white\",\"ticks\":\"\"}},\"ternary\":{\"bgcolor\":\"#E5ECF6\",\"aaxis\":{\"gridcolor\":\"white\",\"linecolor\":\"white\",\"ticks\":\"\"},\"baxis\":{\"gridcolor\":\"white\",\"linecolor\":\"white\",\"ticks\":\"\"},\"caxis\":{\"gridcolor\":\"white\",\"linecolor\":\"white\",\"ticks\":\"\"}},\"coloraxis\":{\"colorbar\":{\"outlinewidth\":0,\"ticks\":\"\"}},\"colorscale\":{\"sequential\":[[0.0,\"#0d0887\"],[0.1111111111111111,\"#46039f\"],[0.2222222222222222,\"#7201a8\"],[0.3333333333333333,\"#9c179e\"],[0.4444444444444444,\"#bd3786\"],[0.5555555555555556,\"#d8576b\"],[0.6666666666666666,\"#ed7953\"],[0.7777777777777778,\"#fb9f3a\"],[0.8888888888888888,\"#fdca26\"],[1.0,\"#f0f921\"]],\"sequentialminus\":[[0.0,\"#0d0887\"],[0.1111111111111111,\"#46039f\"],[0.2222222222222222,\"#7201a8\"],[0.3333333333333333,\"#9c179e\"],[0.4444444444444444,\"#bd3786\"],[0.5555555555555556,\"#d8576b\"],[0.6666666666666666,\"#ed7953\"],[0.7777777777777778,\"#fb9f3a\"],[0.8888888888888888,\"#fdca26\"],[1.0,\"#f0f921\"]],\"diverging\":[[0,\"#8e0152\"],[0.1,\"#c51b7d\"],[0.2,\"#de77ae\"],[0.3,\"#f1b6da\"],[0.4,\"#fde0ef\"],[0.5,\"#f7f7f7\"],[0.6,\"#e6f5d0\"],[0.7,\"#b8e186\"],[0.8,\"#7fbc41\"],[0.9,\"#4d9221\"],[1,\"#276419\"]]},\"xaxis\":{\"gridcolor\":\"white\",\"linecolor\":\"white\",\"ticks\":\"\",\"title\":{\"standoff\":15},\"zerolinecolor\":\"white\",\"automargin\":true,\"zerolinewidth\":2},\"yaxis\":{\"gridcolor\":\"white\",\"linecolor\":\"white\",\"ticks\":\"\",\"title\":{\"standoff\":15},\"zerolinecolor\":\"white\",\"automargin\":true,\"zerolinewidth\":2},\"scene\":{\"xaxis\":{\"backgroundcolor\":\"#E5ECF6\",\"gridcolor\":\"white\",\"linecolor\":\"white\",\"showbackground\":true,\"ticks\":\"\",\"zerolinecolor\":\"white\",\"gridwidth\":2},\"yaxis\":{\"backgroundcolor\":\"#E5ECF6\",\"gridcolor\":\"white\",\"linecolor\":\"white\",\"showbackground\":true,\"ticks\":\"\",\"zerolinecolor\":\"white\",\"gridwidth\":2},\"zaxis\":{\"backgroundcolor\":\"#E5ECF6\",\"gridcolor\":\"white\",\"linecolor\":\"white\",\"showbackground\":true,\"ticks\":\"\",\"zerolinecolor\":\"white\",\"gridwidth\":2}},\"shapedefaults\":{\"line\":{\"color\":\"#2a3f5f\"}},\"annotationdefaults\":{\"arrowcolor\":\"#2a3f5f\",\"arrowhead\":0,\"arrowwidth\":1},\"geo\":{\"bgcolor\":\"white\",\"landcolor\":\"#E5ECF6\",\"subunitcolor\":\"white\",\"showland\":true,\"showlakes\":true,\"lakecolor\":\"white\"},\"title\":{\"x\":0.05},\"mapbox\":{\"style\":\"light\"}}},\"xaxis\":{\"anchor\":\"y\",\"domain\":[0.0,1.0],\"title\":{\"text\":\"Brand\"},\"categoryorder\":\"array\",\"categoryarray\":[\"bj\",\"breyers\",\"hd\",\"talenti\"]},\"yaxis\":{\"anchor\":\"x\",\"domain\":[0.0,1.0],\"title\":{\"text\":\"Median Ratings\"},\"range\":[0,6]},\"legend\":{\"title\":{\"text\":\"Brand\",\"font\":{\"size\":17}},\"tracegroupgap\":0},\"margin\":{\"t\":60},\"barmode\":\"relative\",\"font\":{\"family\":\"Arial\",\"size\":14},\"title\":{\"font\":{\"size\":22,\"color\":\"Darkblue\"},\"text\":\"Median Ratings by Brands\",\"x\":0.5}},                        {\"responsive\": true}                    ).then(function(){\n",
       "                            \n",
       "var gd = document.getElementById('08d2ea26-5c00-4eda-bf36-b24b815fad28');\n",
       "var x = new MutationObserver(function (mutations, observer) {{\n",
       "        var display = window.getComputedStyle(gd).display;\n",
       "        if (!display || display === 'none') {{\n",
       "            console.log([gd, 'removed!']);\n",
       "            Plotly.purge(gd);\n",
       "            observer.disconnect();\n",
       "        }}\n",
       "}});\n",
       "\n",
       "// Listen for the removal of the full notebook cells\n",
       "var notebookContainer = gd.closest('#notebook-container');\n",
       "if (notebookContainer) {{\n",
       "    x.observe(notebookContainer, {childList: true});\n",
       "}}\n",
       "\n",
       "// Listen for the clearing of the current output cell\n",
       "var outputEl = gd.closest('.output');\n",
       "if (outputEl) {{\n",
       "    x.observe(outputEl, {childList: true});\n",
       "}}\n",
       "\n",
       "                        })                };                });            </script>        </div>"
      ]
     },
     "metadata": {},
     "output_type": "display_data"
    }
   ],
   "source": [
    "fig = px.bar(df_rate, x='brand', y='Median Rating',\n",
    "             hover_data=['brand', 'Median Rating'], color='brand',text_auto=True,\n",
    "             labels={'brand':'Brand',\"Median Rating\":\"Median Ratings\"})\n",
    "\n",
    "# Customize layout\n",
    "fig.update_layout(\n",
    "    legend=dict(title=\"Brand\", title_font_size=17),\n",
    "    font_family=\"Arial\",\n",
    "    font_size=14,\n",
    "    title=dict(text=\"Median Ratings by Brands\", font_size=22, font_color = \"Darkblue\"),title_x=0.5\n",
    ")\n",
    "fig.update_yaxes(range=[0, 6])\n",
    "#fig.update_traces(text=data_top['rating'], textposition=\"outside\",texttemplate=\"%{text:.2f}\")\n",
    "fig.show()"
   ]
  },
  {
   "cell_type": "code",
   "execution_count": 29,
   "id": "5a9586c3",
   "metadata": {
    "execution": {
     "iopub.execute_input": "2024-01-28T06:53:37.803356Z",
     "iopub.status.busy": "2024-01-28T06:53:37.802922Z",
     "iopub.status.idle": "2024-01-28T06:53:37.815474Z",
     "shell.execute_reply": "2024-01-28T06:53:37.813883Z"
    },
    "id": "BzTT3mjzQrgI",
    "outputId": "27e21c38-87e9-4321-c5a2-563476207f03",
    "papermill": {
     "duration": 0.044359,
     "end_time": "2024-01-28T06:53:37.818347",
     "exception": false,
     "start_time": "2024-01-28T06:53:37.773988",
     "status": "completed"
    },
    "tags": []
   },
   "outputs": [
    {
     "name": "stdout",
     "output_type": "stream",
     "text": [
      "19.679757777340026\n",
      "0.0001977579835596842\n"
     ]
    }
   ],
   "source": [
    "stat , p= stats.kruskal(df['rating'][df['brand'] == 'bj'],\n",
    "             df['rating'][df['brand'] == 'breyers'],\n",
    "             df['rating'][df['brand'] == 'hd'],\n",
    "             df['rating'][df['brand'] == 'talenti'])\n",
    "print(stat)\n",
    "print(p)"
   ]
  },
  {
   "cell_type": "markdown",
   "id": "2acdfb14",
   "metadata": {
    "id": "G10aKVIF3U2q",
    "papermill": {
     "duration": 0.027787,
     "end_time": "2024-01-28T06:53:37.873116",
     "exception": false,
     "start_time": "2024-01-28T06:53:37.845329",
     "status": "completed"
    },
    "tags": []
   },
   "source": [
    "As our p value is less than the significance level of .05 we can say that there are significant diferenes among median of ratings for brands."
   ]
  },
  {
   "cell_type": "markdown",
   "id": "9834b51b",
   "metadata": {
    "id": "zaikxsYX4Mv4",
    "papermill": {
     "duration": 0.026983,
     "end_time": "2024-01-28T06:53:37.927697",
     "exception": false,
     "start_time": "2024-01-28T06:53:37.900714",
     "status": "completed"
    },
    "tags": []
   },
   "source": [
    "## Post hoc test\n",
    "\n",
    "Now we will use post hoc test to see pair wise differences between brands.\n",
    "\n",
    "You can learn detail [from here](https://morioh.com/a/a0c9830b9757/scikit-posthocs-multiple-pairwise-comparisons-tests-in-python?fbclid=IwAR3nXUu9c6gXGMpmLs0YxmyV5ZtW95_4Ih6IieSJSJbdbhtNo-03Vf_jYp0) ."
   ]
  },
  {
   "cell_type": "code",
   "execution_count": 30,
   "id": "37c72ea5",
   "metadata": {
    "execution": {
     "iopub.execute_input": "2024-01-28T06:53:37.983423Z",
     "iopub.status.busy": "2024-01-28T06:53:37.982944Z",
     "iopub.status.idle": "2024-01-28T06:53:55.135166Z",
     "shell.execute_reply": "2024-01-28T06:53:55.133464Z"
    },
    "id": "z-0AvzNxSCX0",
    "outputId": "eff4b83b-2c6e-4dc8-94ba-29f166389879",
    "papermill": {
     "duration": 17.183017,
     "end_time": "2024-01-28T06:53:55.138089",
     "exception": false,
     "start_time": "2024-01-28T06:53:37.955072",
     "status": "completed"
    },
    "tags": []
   },
   "outputs": [
    {
     "name": "stdout",
     "output_type": "stream",
     "text": [
      "Collecting scikit-posthocs\r\n",
      "  Obtaining dependency information for scikit-posthocs from https://files.pythonhosted.org/packages/43/bd/ca9d53c0e5abd1ef3c3717a4a9070e3ee339116b82c0c6cd28df51a921c6/scikit_posthocs-0.8.1-py3-none-any.whl.metadata\r\n",
      "  Downloading scikit_posthocs-0.8.1-py3-none-any.whl.metadata (5.9 kB)\r\n",
      "Requirement already satisfied: numpy in /opt/conda/lib/python3.10/site-packages (from scikit-posthocs) (1.24.3)\r\n",
      "Requirement already satisfied: scipy in /opt/conda/lib/python3.10/site-packages (from scikit-posthocs) (1.11.4)\r\n",
      "Requirement already satisfied: statsmodels in /opt/conda/lib/python3.10/site-packages (from scikit-posthocs) (0.14.0)\r\n",
      "Requirement already satisfied: pandas>=0.20.0 in /opt/conda/lib/python3.10/site-packages (from scikit-posthocs) (2.0.3)\r\n",
      "Requirement already satisfied: seaborn in /opt/conda/lib/python3.10/site-packages (from scikit-posthocs) (0.12.2)\r\n",
      "Requirement already satisfied: matplotlib in /opt/conda/lib/python3.10/site-packages (from scikit-posthocs) (3.7.4)\r\n",
      "Requirement already satisfied: python-dateutil>=2.8.2 in /opt/conda/lib/python3.10/site-packages (from pandas>=0.20.0->scikit-posthocs) (2.8.2)\r\n",
      "Requirement already satisfied: pytz>=2020.1 in /opt/conda/lib/python3.10/site-packages (from pandas>=0.20.0->scikit-posthocs) (2023.3)\r\n",
      "Requirement already satisfied: tzdata>=2022.1 in /opt/conda/lib/python3.10/site-packages (from pandas>=0.20.0->scikit-posthocs) (2023.3)\r\n",
      "Requirement already satisfied: contourpy>=1.0.1 in /opt/conda/lib/python3.10/site-packages (from matplotlib->scikit-posthocs) (1.1.0)\r\n",
      "Requirement already satisfied: cycler>=0.10 in /opt/conda/lib/python3.10/site-packages (from matplotlib->scikit-posthocs) (0.11.0)\r\n",
      "Requirement already satisfied: fonttools>=4.22.0 in /opt/conda/lib/python3.10/site-packages (from matplotlib->scikit-posthocs) (4.42.1)\r\n",
      "Requirement already satisfied: kiwisolver>=1.0.1 in /opt/conda/lib/python3.10/site-packages (from matplotlib->scikit-posthocs) (1.4.4)\r\n",
      "Requirement already satisfied: packaging>=20.0 in /opt/conda/lib/python3.10/site-packages (from matplotlib->scikit-posthocs) (21.3)\r\n",
      "Requirement already satisfied: pillow>=6.2.0 in /opt/conda/lib/python3.10/site-packages (from matplotlib->scikit-posthocs) (9.5.0)\r\n",
      "Requirement already satisfied: pyparsing>=2.3.1 in /opt/conda/lib/python3.10/site-packages (from matplotlib->scikit-posthocs) (3.0.9)\r\n",
      "Requirement already satisfied: patsy>=0.5.2 in /opt/conda/lib/python3.10/site-packages (from statsmodels->scikit-posthocs) (0.5.3)\r\n",
      "Requirement already satisfied: six in /opt/conda/lib/python3.10/site-packages (from patsy>=0.5.2->statsmodels->scikit-posthocs) (1.16.0)\r\n",
      "Downloading scikit_posthocs-0.8.1-py3-none-any.whl (32 kB)\r\n",
      "Installing collected packages: scikit-posthocs\r\n",
      "Successfully installed scikit-posthocs-0.8.1\r\n",
      "Note: you may need to restart the kernel to use updated packages.\n"
     ]
    }
   ],
   "source": [
    "pip install scikit-posthocs"
   ]
  },
  {
   "cell_type": "code",
   "execution_count": 31,
   "id": "2df7b5f1",
   "metadata": {
    "execution": {
     "iopub.execute_input": "2024-01-28T06:53:55.201261Z",
     "iopub.status.busy": "2024-01-28T06:53:55.200698Z",
     "iopub.status.idle": "2024-01-28T06:53:55.244226Z",
     "shell.execute_reply": "2024-01-28T06:53:55.242950Z"
    },
    "id": "sjXSOayBgs_O",
    "papermill": {
     "duration": 0.079553,
     "end_time": "2024-01-28T06:53:55.247624",
     "exception": false,
     "start_time": "2024-01-28T06:53:55.168071",
     "status": "completed"
    },
    "tags": []
   },
   "outputs": [],
   "source": [
    "import scikit_posthocs as sp"
   ]
  },
  {
   "cell_type": "code",
   "execution_count": 32,
   "id": "bdcf32e6",
   "metadata": {
    "execution": {
     "iopub.execute_input": "2024-01-28T06:53:55.309675Z",
     "iopub.status.busy": "2024-01-28T06:53:55.308255Z",
     "iopub.status.idle": "2024-01-28T06:53:55.516341Z",
     "shell.execute_reply": "2024-01-28T06:53:55.515118Z"
    },
    "id": "lzqh4fgRgrnY",
    "outputId": "a92cbdc8-2995-41b5-9808-d3e2dfb94abf",
    "papermill": {
     "duration": 0.240888,
     "end_time": "2024-01-28T06:53:55.518994",
     "exception": false,
     "start_time": "2024-01-28T06:53:55.278106",
     "status": "completed"
    },
    "tags": []
   },
   "outputs": [
    {
     "data": {
      "text/html": [
       "<div>\n",
       "<style scoped>\n",
       "    .dataframe tbody tr th:only-of-type {\n",
       "        vertical-align: middle;\n",
       "    }\n",
       "\n",
       "    .dataframe tbody tr th {\n",
       "        vertical-align: top;\n",
       "    }\n",
       "\n",
       "    .dataframe thead th {\n",
       "        text-align: right;\n",
       "    }\n",
       "</style>\n",
       "<table border=\"1\" class=\"dataframe\">\n",
       "  <thead>\n",
       "    <tr style=\"text-align: right;\">\n",
       "      <th></th>\n",
       "      <th>bj</th>\n",
       "      <th>breyers</th>\n",
       "      <th>hd</th>\n",
       "      <th>talenti</th>\n",
       "    </tr>\n",
       "  </thead>\n",
       "  <tbody>\n",
       "    <tr>\n",
       "      <th>bj</th>\n",
       "      <td>1.000000</td>\n",
       "      <td>0.000506</td>\n",
       "      <td>1.000000</td>\n",
       "      <td>1.000000</td>\n",
       "    </tr>\n",
       "    <tr>\n",
       "      <th>breyers</th>\n",
       "      <td>0.000506</td>\n",
       "      <td>1.000000</td>\n",
       "      <td>0.001072</td>\n",
       "      <td>0.011481</td>\n",
       "    </tr>\n",
       "    <tr>\n",
       "      <th>hd</th>\n",
       "      <td>1.000000</td>\n",
       "      <td>0.001072</td>\n",
       "      <td>1.000000</td>\n",
       "      <td>1.000000</td>\n",
       "    </tr>\n",
       "    <tr>\n",
       "      <th>talenti</th>\n",
       "      <td>1.000000</td>\n",
       "      <td>0.011481</td>\n",
       "      <td>1.000000</td>\n",
       "      <td>1.000000</td>\n",
       "    </tr>\n",
       "  </tbody>\n",
       "</table>\n",
       "</div>"
      ],
      "text/plain": [
       "               bj   breyers        hd   talenti\n",
       "bj       1.000000  0.000506  1.000000  1.000000\n",
       "breyers  0.000506  1.000000  0.001072  0.011481\n",
       "hd       1.000000  0.001072  1.000000  1.000000\n",
       "talenti  1.000000  0.011481  1.000000  1.000000"
      ]
     },
     "execution_count": 32,
     "metadata": {},
     "output_type": "execute_result"
    }
   ],
   "source": [
    "sp.posthoc_conover(df, val_col='rating', group_col='brand', p_adjust = 'holm')"
   ]
  },
  {
   "cell_type": "markdown",
   "id": "27bc0bc0",
   "metadata": {
    "id": "XJWwSKs745mg",
    "papermill": {
     "duration": 0.028678,
     "end_time": "2024-01-28T06:53:55.576457",
     "exception": false,
     "start_time": "2024-01-28T06:53:55.547779",
     "status": "completed"
    },
    "tags": []
   },
   "source": [
    "The results of the post hoc median test, with p-values for pairwise comparisons of median ratings between different ice cream brands (BJ, Breyers, HD, Talenti), provide valuable insights into significant differences in customer perceptions. Notably, the analysis indicates statistically significant distinctions in median ratings between **BJ and Breyers, Breyers and HD, and Breyers and Talenti**. However, no significant differences were found between BJ and HD, BJ and Talenti, as well as HD and Talenti. These findings suggest that while Breyers stands out with varying median ratings compared to other brands, customers may perceive less distinction between BJ, HD, and Talenti. This information can guide strategic decision-making, helping the ice cream shop tailor its offerings and marketing strategies to capitalize on brand-specific preferences and enhance overall customer satisfaction."
   ]
  }
 ],
 "metadata": {
  "colab": {
   "provenance": [],
   "toc_visible": true
  },
  "kaggle": {
   "accelerator": "none",
   "dataSources": [
    {
     "datasetId": 893332,
     "sourceId": 1536671,
     "sourceType": "datasetVersion"
    }
   ],
   "dockerImageVersionId": 30635,
   "isGpuEnabled": false,
   "isInternetEnabled": true,
   "language": "python",
   "sourceType": "notebook"
  },
  "kernelspec": {
   "display_name": "Python 3",
   "language": "python",
   "name": "python3"
  },
  "language_info": {
   "codemirror_mode": {
    "name": "ipython",
    "version": 3
   },
   "file_extension": ".py",
   "mimetype": "text/x-python",
   "name": "python",
   "nbconvert_exporter": "python",
   "pygments_lexer": "ipython3",
   "version": "3.10.12"
  },
  "papermill": {
   "default_parameters": {},
   "duration": 35.837943,
   "end_time": "2024-01-28T06:53:56.630641",
   "environment_variables": {},
   "exception": null,
   "input_path": "__notebook__.ipynb",
   "output_path": "__notebook__.ipynb",
   "parameters": {},
   "start_time": "2024-01-28T06:53:20.792698",
   "version": "2.4.0"
  }
 },
 "nbformat": 4,
 "nbformat_minor": 5
}
